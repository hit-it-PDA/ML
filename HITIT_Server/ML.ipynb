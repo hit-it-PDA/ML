{
 "cells": [
  {
   "cell_type": "code",
   "execution_count": 7,
   "id": "14779c0d",
   "metadata": {},
   "outputs": [
    {
     "name": "stdout",
     "output_type": "stream",
     "text": [
      "Flask app is running with PID 37102\n"
     ]
    }
   ],
   "source": [
    "import subprocess\n",
    "from flask import Flask, request, jsonify\n",
    "import numpy as np\n",
    "import tensorflow as tf\n",
    "\n",
    "flask_process = subprocess.Popen(['python3', 'apps.py'])\n",
    "\n",
    "print(f\"Flask app is running with PID {flask_process.pid}\")"
   ]
  },
  {
   "cell_type": "code",
   "execution_count": 8,
   "id": "2ca224b9",
   "metadata": {
    "collapsed": true,
    "jupyter": {
     "outputs_hidden": true
    }
   },
   "outputs": [
    {
     "name": "stderr",
     "output_type": "stream",
     "text": [
      "python3: can't open file '/home/ubuntu/code/DE_ML/HITIT_Server/apps.py': [Errno 2] No such file or directory\n"
     ]
    },
    {
     "ename": "KeyboardInterrupt",
     "evalue": "",
     "output_type": "error",
     "traceback": [
      "\u001b[0;31m---------------------------------------------------------------------------\u001b[0m",
      "\u001b[0;31mKeyboardInterrupt\u001b[0m                         Traceback (most recent call last)",
      "Cell \u001b[0;32mIn[8], line 4\u001b[0m\n\u001b[1;32m      1\u001b[0m \u001b[38;5;28;01mfrom\u001b[39;00m \u001b[38;5;21;01mtransformers\u001b[39;00m \u001b[38;5;28;01mimport\u001b[39;00m AutoTokenizer, AutoModelForMaskedLM\n\u001b[1;32m      3\u001b[0m tokenizer \u001b[38;5;241m=\u001b[39m AutoTokenizer\u001b[38;5;241m.\u001b[39mfrom_pretrained(\u001b[38;5;124m\"\u001b[39m\u001b[38;5;124mkakaobank/kf-deberta-base\u001b[39m\u001b[38;5;124m\"\u001b[39m)\n\u001b[0;32m----> 4\u001b[0m model \u001b[38;5;241m=\u001b[39m \u001b[43mAutoModelForMaskedLM\u001b[49m\u001b[38;5;241;43m.\u001b[39;49m\u001b[43mfrom_pretrained\u001b[49m\u001b[43m(\u001b[49m\u001b[38;5;124;43m\"\u001b[39;49m\u001b[38;5;124;43mkakaobank/kf-deberta-base\u001b[39;49m\u001b[38;5;124;43m\"\u001b[39;49m\u001b[43m)\u001b[49m\n",
      "File \u001b[0;32m~/code/DE_ML/HITIT_Server/.venv/lib/python3.12/site-packages/transformers/models/auto/auto_factory.py:562\u001b[0m, in \u001b[0;36m_BaseAutoModelClass.from_pretrained\u001b[0;34m(cls, pretrained_model_name_or_path, *model_args, **kwargs)\u001b[0m\n\u001b[1;32m    558\u001b[0m     \u001b[38;5;28;01mreturn\u001b[39;00m model_class\u001b[38;5;241m.\u001b[39mfrom_pretrained(\n\u001b[1;32m    559\u001b[0m         pretrained_model_name_or_path, \u001b[38;5;241m*\u001b[39mmodel_args, config\u001b[38;5;241m=\u001b[39mconfig, \u001b[38;5;241m*\u001b[39m\u001b[38;5;241m*\u001b[39mhub_kwargs, \u001b[38;5;241m*\u001b[39m\u001b[38;5;241m*\u001b[39mkwargs\n\u001b[1;32m    560\u001b[0m     )\n\u001b[1;32m    561\u001b[0m \u001b[38;5;28;01melif\u001b[39;00m \u001b[38;5;28mtype\u001b[39m(config) \u001b[38;5;129;01min\u001b[39;00m \u001b[38;5;28mcls\u001b[39m\u001b[38;5;241m.\u001b[39m_model_mapping\u001b[38;5;241m.\u001b[39mkeys():\n\u001b[0;32m--> 562\u001b[0m     model_class \u001b[38;5;241m=\u001b[39m \u001b[43m_get_model_class\u001b[49m\u001b[43m(\u001b[49m\u001b[43mconfig\u001b[49m\u001b[43m,\u001b[49m\u001b[43m \u001b[49m\u001b[38;5;28;43mcls\u001b[39;49m\u001b[38;5;241;43m.\u001b[39;49m\u001b[43m_model_mapping\u001b[49m\u001b[43m)\u001b[49m\n\u001b[1;32m    563\u001b[0m     \u001b[38;5;28;01mreturn\u001b[39;00m model_class\u001b[38;5;241m.\u001b[39mfrom_pretrained(\n\u001b[1;32m    564\u001b[0m         pretrained_model_name_or_path, \u001b[38;5;241m*\u001b[39mmodel_args, config\u001b[38;5;241m=\u001b[39mconfig, \u001b[38;5;241m*\u001b[39m\u001b[38;5;241m*\u001b[39mhub_kwargs, \u001b[38;5;241m*\u001b[39m\u001b[38;5;241m*\u001b[39mkwargs\n\u001b[1;32m    565\u001b[0m     )\n\u001b[1;32m    566\u001b[0m \u001b[38;5;28;01mraise\u001b[39;00m \u001b[38;5;167;01mValueError\u001b[39;00m(\n\u001b[1;32m    567\u001b[0m     \u001b[38;5;124mf\u001b[39m\u001b[38;5;124m\"\u001b[39m\u001b[38;5;124mUnrecognized configuration class \u001b[39m\u001b[38;5;132;01m{\u001b[39;00mconfig\u001b[38;5;241m.\u001b[39m\u001b[38;5;18m__class__\u001b[39m\u001b[38;5;132;01m}\u001b[39;00m\u001b[38;5;124m for this kind of AutoModel: \u001b[39m\u001b[38;5;132;01m{\u001b[39;00m\u001b[38;5;28mcls\u001b[39m\u001b[38;5;241m.\u001b[39m\u001b[38;5;18m__name__\u001b[39m\u001b[38;5;132;01m}\u001b[39;00m\u001b[38;5;124m.\u001b[39m\u001b[38;5;130;01m\\n\u001b[39;00m\u001b[38;5;124m\"\u001b[39m\n\u001b[1;32m    568\u001b[0m     \u001b[38;5;124mf\u001b[39m\u001b[38;5;124m\"\u001b[39m\u001b[38;5;124mModel type should be one of \u001b[39m\u001b[38;5;132;01m{\u001b[39;00m\u001b[38;5;124m'\u001b[39m\u001b[38;5;124m, \u001b[39m\u001b[38;5;124m'\u001b[39m\u001b[38;5;241m.\u001b[39mjoin(c\u001b[38;5;241m.\u001b[39m\u001b[38;5;18m__name__\u001b[39m\u001b[38;5;250m \u001b[39m\u001b[38;5;28;01mfor\u001b[39;00m\u001b[38;5;250m \u001b[39mc\u001b[38;5;250m \u001b[39m\u001b[38;5;129;01min\u001b[39;00m\u001b[38;5;250m \u001b[39m\u001b[38;5;28mcls\u001b[39m\u001b[38;5;241m.\u001b[39m_model_mapping\u001b[38;5;241m.\u001b[39mkeys())\u001b[38;5;132;01m}\u001b[39;00m\u001b[38;5;124m.\u001b[39m\u001b[38;5;124m\"\u001b[39m\n\u001b[1;32m    569\u001b[0m )\n",
      "File \u001b[0;32m~/code/DE_ML/HITIT_Server/.venv/lib/python3.12/site-packages/transformers/models/auto/auto_factory.py:383\u001b[0m, in \u001b[0;36m_get_model_class\u001b[0;34m(config, model_mapping)\u001b[0m\n\u001b[1;32m    382\u001b[0m \u001b[38;5;28;01mdef\u001b[39;00m \u001b[38;5;21m_get_model_class\u001b[39m(config, model_mapping):\n\u001b[0;32m--> 383\u001b[0m     supported_models \u001b[38;5;241m=\u001b[39m \u001b[43mmodel_mapping\u001b[49m\u001b[43m[\u001b[49m\u001b[38;5;28;43mtype\u001b[39;49m\u001b[43m(\u001b[49m\u001b[43mconfig\u001b[49m\u001b[43m)\u001b[49m\u001b[43m]\u001b[49m\n\u001b[1;32m    384\u001b[0m     \u001b[38;5;28;01mif\u001b[39;00m \u001b[38;5;129;01mnot\u001b[39;00m \u001b[38;5;28misinstance\u001b[39m(supported_models, (\u001b[38;5;28mlist\u001b[39m, \u001b[38;5;28mtuple\u001b[39m)):\n\u001b[1;32m    385\u001b[0m         \u001b[38;5;28;01mreturn\u001b[39;00m supported_models\n",
      "File \u001b[0;32m~/code/DE_ML/HITIT_Server/.venv/lib/python3.12/site-packages/transformers/models/auto/auto_factory.py:734\u001b[0m, in \u001b[0;36m_LazyAutoMapping.__getitem__\u001b[0;34m(self, key)\u001b[0m\n\u001b[1;32m    732\u001b[0m \u001b[38;5;28;01mif\u001b[39;00m model_type \u001b[38;5;129;01min\u001b[39;00m \u001b[38;5;28mself\u001b[39m\u001b[38;5;241m.\u001b[39m_model_mapping:\n\u001b[1;32m    733\u001b[0m     model_name \u001b[38;5;241m=\u001b[39m \u001b[38;5;28mself\u001b[39m\u001b[38;5;241m.\u001b[39m_model_mapping[model_type]\n\u001b[0;32m--> 734\u001b[0m     \u001b[38;5;28;01mreturn\u001b[39;00m \u001b[38;5;28;43mself\u001b[39;49m\u001b[38;5;241;43m.\u001b[39;49m\u001b[43m_load_attr_from_module\u001b[49m\u001b[43m(\u001b[49m\u001b[43mmodel_type\u001b[49m\u001b[43m,\u001b[49m\u001b[43m \u001b[49m\u001b[43mmodel_name\u001b[49m\u001b[43m)\u001b[49m\n\u001b[1;32m    736\u001b[0m \u001b[38;5;66;03m# Maybe there was several model types associated with this config.\u001b[39;00m\n\u001b[1;32m    737\u001b[0m model_types \u001b[38;5;241m=\u001b[39m [k \u001b[38;5;28;01mfor\u001b[39;00m k, v \u001b[38;5;129;01min\u001b[39;00m \u001b[38;5;28mself\u001b[39m\u001b[38;5;241m.\u001b[39m_config_mapping\u001b[38;5;241m.\u001b[39mitems() \u001b[38;5;28;01mif\u001b[39;00m v \u001b[38;5;241m==\u001b[39m key\u001b[38;5;241m.\u001b[39m\u001b[38;5;18m__name__\u001b[39m]\n",
      "File \u001b[0;32m~/code/DE_ML/HITIT_Server/.venv/lib/python3.12/site-packages/transformers/models/auto/auto_factory.py:748\u001b[0m, in \u001b[0;36m_LazyAutoMapping._load_attr_from_module\u001b[0;34m(self, model_type, attr)\u001b[0m\n\u001b[1;32m    746\u001b[0m \u001b[38;5;28;01mif\u001b[39;00m module_name \u001b[38;5;129;01mnot\u001b[39;00m \u001b[38;5;129;01min\u001b[39;00m \u001b[38;5;28mself\u001b[39m\u001b[38;5;241m.\u001b[39m_modules:\n\u001b[1;32m    747\u001b[0m     \u001b[38;5;28mself\u001b[39m\u001b[38;5;241m.\u001b[39m_modules[module_name] \u001b[38;5;241m=\u001b[39m importlib\u001b[38;5;241m.\u001b[39mimport_module(\u001b[38;5;124mf\u001b[39m\u001b[38;5;124m\"\u001b[39m\u001b[38;5;124m.\u001b[39m\u001b[38;5;132;01m{\u001b[39;00mmodule_name\u001b[38;5;132;01m}\u001b[39;00m\u001b[38;5;124m\"\u001b[39m, \u001b[38;5;124m\"\u001b[39m\u001b[38;5;124mtransformers.models\u001b[39m\u001b[38;5;124m\"\u001b[39m)\n\u001b[0;32m--> 748\u001b[0m \u001b[38;5;28;01mreturn\u001b[39;00m \u001b[43mgetattribute_from_module\u001b[49m\u001b[43m(\u001b[49m\u001b[38;5;28;43mself\u001b[39;49m\u001b[38;5;241;43m.\u001b[39;49m\u001b[43m_modules\u001b[49m\u001b[43m[\u001b[49m\u001b[43mmodule_name\u001b[49m\u001b[43m]\u001b[49m\u001b[43m,\u001b[49m\u001b[43m \u001b[49m\u001b[43mattr\u001b[49m\u001b[43m)\u001b[49m\n",
      "File \u001b[0;32m~/code/DE_ML/HITIT_Server/.venv/lib/python3.12/site-packages/transformers/models/auto/auto_factory.py:692\u001b[0m, in \u001b[0;36mgetattribute_from_module\u001b[0;34m(module, attr)\u001b[0m\n\u001b[1;32m    690\u001b[0m \u001b[38;5;28;01mif\u001b[39;00m \u001b[38;5;28misinstance\u001b[39m(attr, \u001b[38;5;28mtuple\u001b[39m):\n\u001b[1;32m    691\u001b[0m     \u001b[38;5;28;01mreturn\u001b[39;00m \u001b[38;5;28mtuple\u001b[39m(getattribute_from_module(module, a) \u001b[38;5;28;01mfor\u001b[39;00m a \u001b[38;5;129;01min\u001b[39;00m attr)\n\u001b[0;32m--> 692\u001b[0m \u001b[38;5;28;01mif\u001b[39;00m \u001b[38;5;28;43mhasattr\u001b[39;49m\u001b[43m(\u001b[49m\u001b[43mmodule\u001b[49m\u001b[43m,\u001b[49m\u001b[43m \u001b[49m\u001b[43mattr\u001b[49m\u001b[43m)\u001b[49m:\n\u001b[1;32m    693\u001b[0m     \u001b[38;5;28;01mreturn\u001b[39;00m \u001b[38;5;28mgetattr\u001b[39m(module, attr)\n\u001b[1;32m    694\u001b[0m \u001b[38;5;66;03m# Some of the mappings have entries model_type -> object of another model type. In that case we try to grab the\u001b[39;00m\n\u001b[1;32m    695\u001b[0m \u001b[38;5;66;03m# object at the top level.\u001b[39;00m\n",
      "File \u001b[0;32m~/code/DE_ML/HITIT_Server/.venv/lib/python3.12/site-packages/transformers/utils/import_utils.py:1525\u001b[0m, in \u001b[0;36m_LazyModule.__getattr__\u001b[0;34m(self, name)\u001b[0m\n\u001b[1;32m   1523\u001b[0m     value \u001b[38;5;241m=\u001b[39m \u001b[38;5;28mself\u001b[39m\u001b[38;5;241m.\u001b[39m_get_module(name)\n\u001b[1;32m   1524\u001b[0m \u001b[38;5;28;01melif\u001b[39;00m name \u001b[38;5;129;01min\u001b[39;00m \u001b[38;5;28mself\u001b[39m\u001b[38;5;241m.\u001b[39m_class_to_module\u001b[38;5;241m.\u001b[39mkeys():\n\u001b[0;32m-> 1525\u001b[0m     module \u001b[38;5;241m=\u001b[39m \u001b[38;5;28;43mself\u001b[39;49m\u001b[38;5;241;43m.\u001b[39;49m\u001b[43m_get_module\u001b[49m\u001b[43m(\u001b[49m\u001b[38;5;28;43mself\u001b[39;49m\u001b[38;5;241;43m.\u001b[39;49m\u001b[43m_class_to_module\u001b[49m\u001b[43m[\u001b[49m\u001b[43mname\u001b[49m\u001b[43m]\u001b[49m\u001b[43m)\u001b[49m\n\u001b[1;32m   1526\u001b[0m     value \u001b[38;5;241m=\u001b[39m \u001b[38;5;28mgetattr\u001b[39m(module, name)\n\u001b[1;32m   1527\u001b[0m \u001b[38;5;28;01melse\u001b[39;00m:\n",
      "File \u001b[0;32m~/code/DE_ML/HITIT_Server/.venv/lib/python3.12/site-packages/transformers/utils/import_utils.py:1535\u001b[0m, in \u001b[0;36m_LazyModule._get_module\u001b[0;34m(self, module_name)\u001b[0m\n\u001b[1;32m   1533\u001b[0m \u001b[38;5;28;01mdef\u001b[39;00m \u001b[38;5;21m_get_module\u001b[39m(\u001b[38;5;28mself\u001b[39m, module_name: \u001b[38;5;28mstr\u001b[39m):\n\u001b[1;32m   1534\u001b[0m     \u001b[38;5;28;01mtry\u001b[39;00m:\n\u001b[0;32m-> 1535\u001b[0m         \u001b[38;5;28;01mreturn\u001b[39;00m \u001b[43mimportlib\u001b[49m\u001b[38;5;241;43m.\u001b[39;49m\u001b[43mimport_module\u001b[49m\u001b[43m(\u001b[49m\u001b[38;5;124;43m\"\u001b[39;49m\u001b[38;5;124;43m.\u001b[39;49m\u001b[38;5;124;43m\"\u001b[39;49m\u001b[43m \u001b[49m\u001b[38;5;241;43m+\u001b[39;49m\u001b[43m \u001b[49m\u001b[43mmodule_name\u001b[49m\u001b[43m,\u001b[49m\u001b[43m \u001b[49m\u001b[38;5;28;43mself\u001b[39;49m\u001b[38;5;241;43m.\u001b[39;49m\u001b[38;5;18;43m__name__\u001b[39;49m\u001b[43m)\u001b[49m\n\u001b[1;32m   1536\u001b[0m     \u001b[38;5;28;01mexcept\u001b[39;00m \u001b[38;5;167;01mException\u001b[39;00m \u001b[38;5;28;01mas\u001b[39;00m e:\n\u001b[1;32m   1537\u001b[0m         \u001b[38;5;28;01mraise\u001b[39;00m \u001b[38;5;167;01mRuntimeError\u001b[39;00m(\n\u001b[1;32m   1538\u001b[0m             \u001b[38;5;124mf\u001b[39m\u001b[38;5;124m\"\u001b[39m\u001b[38;5;124mFailed to import \u001b[39m\u001b[38;5;132;01m{\u001b[39;00m\u001b[38;5;28mself\u001b[39m\u001b[38;5;241m.\u001b[39m\u001b[38;5;18m__name__\u001b[39m\u001b[38;5;132;01m}\u001b[39;00m\u001b[38;5;124m.\u001b[39m\u001b[38;5;132;01m{\u001b[39;00mmodule_name\u001b[38;5;132;01m}\u001b[39;00m\u001b[38;5;124m because of the following error (look up to see its\u001b[39m\u001b[38;5;124m\"\u001b[39m\n\u001b[1;32m   1539\u001b[0m             \u001b[38;5;124mf\u001b[39m\u001b[38;5;124m\"\u001b[39m\u001b[38;5;124m traceback):\u001b[39m\u001b[38;5;130;01m\\n\u001b[39;00m\u001b[38;5;132;01m{\u001b[39;00me\u001b[38;5;132;01m}\u001b[39;00m\u001b[38;5;124m\"\u001b[39m\n\u001b[1;32m   1540\u001b[0m         ) \u001b[38;5;28;01mfrom\u001b[39;00m \u001b[38;5;21;01me\u001b[39;00m\n",
      "File \u001b[0;32m/usr/lib/python3.12/importlib/__init__.py:90\u001b[0m, in \u001b[0;36mimport_module\u001b[0;34m(name, package)\u001b[0m\n\u001b[1;32m     88\u001b[0m             \u001b[38;5;28;01mbreak\u001b[39;00m\n\u001b[1;32m     89\u001b[0m         level \u001b[38;5;241m+\u001b[39m\u001b[38;5;241m=\u001b[39m \u001b[38;5;241m1\u001b[39m\n\u001b[0;32m---> 90\u001b[0m \u001b[38;5;28;01mreturn\u001b[39;00m \u001b[43m_bootstrap\u001b[49m\u001b[38;5;241;43m.\u001b[39;49m\u001b[43m_gcd_import\u001b[49m\u001b[43m(\u001b[49m\u001b[43mname\u001b[49m\u001b[43m[\u001b[49m\u001b[43mlevel\u001b[49m\u001b[43m:\u001b[49m\u001b[43m]\u001b[49m\u001b[43m,\u001b[49m\u001b[43m \u001b[49m\u001b[43mpackage\u001b[49m\u001b[43m,\u001b[49m\u001b[43m \u001b[49m\u001b[43mlevel\u001b[49m\u001b[43m)\u001b[49m\n",
      "File \u001b[0;32m<frozen importlib._bootstrap>:1387\u001b[0m, in \u001b[0;36m_gcd_import\u001b[0;34m(name, package, level)\u001b[0m\n",
      "File \u001b[0;32m<frozen importlib._bootstrap>:1360\u001b[0m, in \u001b[0;36m_find_and_load\u001b[0;34m(name, import_)\u001b[0m\n",
      "File \u001b[0;32m<frozen importlib._bootstrap>:1331\u001b[0m, in \u001b[0;36m_find_and_load_unlocked\u001b[0;34m(name, import_)\u001b[0m\n",
      "File \u001b[0;32m<frozen importlib._bootstrap>:935\u001b[0m, in \u001b[0;36m_load_unlocked\u001b[0;34m(spec)\u001b[0m\n",
      "File \u001b[0;32m<frozen importlib._bootstrap_external>:995\u001b[0m, in \u001b[0;36mexec_module\u001b[0;34m(self, module)\u001b[0m\n",
      "File \u001b[0;32m<frozen importlib._bootstrap>:488\u001b[0m, in \u001b[0;36m_call_with_frames_removed\u001b[0;34m(f, *args, **kwds)\u001b[0m\n",
      "File \u001b[0;32m~/code/DE_ML/HITIT_Server/.venv/lib/python3.12/site-packages/transformers/models/deberta_v2/modeling_deberta_v2.py:587\u001b[0m\n\u001b[1;32m    583\u001b[0m     rel_pos_ids \u001b[38;5;241m=\u001b[39m rel_pos_ids\u001b[38;5;241m.\u001b[39munsqueeze(\u001b[38;5;241m0\u001b[39m)\n\u001b[1;32m    584\u001b[0m     \u001b[38;5;28;01mreturn\u001b[39;00m rel_pos_ids\n\u001b[0;32m--> 587\u001b[0m \u001b[38;5;129;43m@torch\u001b[39;49m\u001b[38;5;241;43m.\u001b[39;49m\u001b[43mjit\u001b[49m\u001b[38;5;241;43m.\u001b[39;49m\u001b[43mscript\u001b[49m\n\u001b[1;32m    588\u001b[0m \u001b[38;5;66;43;03m# Copied from transformers.models.deberta.modeling_deberta.c2p_dynamic_expand\u001b[39;49;00m\n\u001b[1;32m    589\u001b[0m \u001b[38;5;28;43;01mdef\u001b[39;49;00m\u001b[43m \u001b[49m\u001b[38;5;21;43mc2p_dynamic_expand\u001b[39;49m\u001b[43m(\u001b[49m\u001b[43mc2p_pos\u001b[49m\u001b[43m,\u001b[49m\u001b[43m \u001b[49m\u001b[43mquery_layer\u001b[49m\u001b[43m,\u001b[49m\u001b[43m \u001b[49m\u001b[43mrelative_pos\u001b[49m\u001b[43m)\u001b[49m\u001b[43m:\u001b[49m\n\u001b[1;32m    590\u001b[0m \u001b[43m    \u001b[49m\u001b[38;5;28;43;01mreturn\u001b[39;49;00m\u001b[43m \u001b[49m\u001b[43mc2p_pos\u001b[49m\u001b[38;5;241;43m.\u001b[39;49m\u001b[43mexpand\u001b[49m\u001b[43m(\u001b[49m\u001b[43m[\u001b[49m\u001b[43mquery_layer\u001b[49m\u001b[38;5;241;43m.\u001b[39;49m\u001b[43msize\u001b[49m\u001b[43m(\u001b[49m\u001b[38;5;241;43m0\u001b[39;49m\u001b[43m)\u001b[49m\u001b[43m,\u001b[49m\u001b[43m \u001b[49m\u001b[43mquery_layer\u001b[49m\u001b[38;5;241;43m.\u001b[39;49m\u001b[43msize\u001b[49m\u001b[43m(\u001b[49m\u001b[38;5;241;43m1\u001b[39;49m\u001b[43m)\u001b[49m\u001b[43m,\u001b[49m\u001b[43m \u001b[49m\u001b[43mquery_layer\u001b[49m\u001b[38;5;241;43m.\u001b[39;49m\u001b[43msize\u001b[49m\u001b[43m(\u001b[49m\u001b[38;5;241;43m2\u001b[39;49m\u001b[43m)\u001b[49m\u001b[43m,\u001b[49m\u001b[43m \u001b[49m\u001b[43mrelative_pos\u001b[49m\u001b[38;5;241;43m.\u001b[39;49m\u001b[43msize\u001b[49m\u001b[43m(\u001b[49m\u001b[38;5;241;43m-\u001b[39;49m\u001b[38;5;241;43m1\u001b[39;49m\u001b[43m)\u001b[49m\u001b[43m]\u001b[49m\u001b[43m)\u001b[49m\n\u001b[1;32m    593\u001b[0m \u001b[38;5;129m@torch\u001b[39m\u001b[38;5;241m.\u001b[39mjit\u001b[38;5;241m.\u001b[39mscript\n\u001b[1;32m    594\u001b[0m \u001b[38;5;66;03m# Copied from transformers.models.deberta.modeling_deberta.p2c_dynamic_expand\u001b[39;00m\n\u001b[1;32m    595\u001b[0m \u001b[38;5;28;01mdef\u001b[39;00m \u001b[38;5;21mp2c_dynamic_expand\u001b[39m(c2p_pos, query_layer, key_layer):\n",
      "File \u001b[0;32m~/code/DE_ML/HITIT_Server/.venv/lib/python3.12/site-packages/torch/jit/_script.py:1432\u001b[0m, in \u001b[0;36mscript\u001b[0;34m(obj, optimize, _frames_up, _rcb, example_inputs)\u001b[0m\n\u001b[1;32m   1429\u001b[0m _TOPLEVEL \u001b[38;5;241m=\u001b[39m \u001b[38;5;28;01mFalse\u001b[39;00m\n\u001b[1;32m   1431\u001b[0m \u001b[38;5;28;01mtry\u001b[39;00m:\n\u001b[0;32m-> 1432\u001b[0m     \u001b[38;5;28;01mreturn\u001b[39;00m \u001b[43m_script_impl\u001b[49m\u001b[43m(\u001b[49m\n\u001b[1;32m   1433\u001b[0m \u001b[43m        \u001b[49m\u001b[43mobj\u001b[49m\u001b[38;5;241;43m=\u001b[39;49m\u001b[43mobj\u001b[49m\u001b[43m,\u001b[49m\n\u001b[1;32m   1434\u001b[0m \u001b[43m        \u001b[49m\u001b[43moptimize\u001b[49m\u001b[38;5;241;43m=\u001b[39;49m\u001b[43moptimize\u001b[49m\u001b[43m,\u001b[49m\n\u001b[1;32m   1435\u001b[0m \u001b[43m        \u001b[49m\u001b[43m_frames_up\u001b[49m\u001b[38;5;241;43m=\u001b[39;49m\u001b[43m_frames_up\u001b[49m\u001b[43m \u001b[49m\u001b[38;5;241;43m+\u001b[39;49m\u001b[43m \u001b[49m\u001b[38;5;241;43m1\u001b[39;49m\u001b[43m,\u001b[49m\n\u001b[1;32m   1436\u001b[0m \u001b[43m        \u001b[49m\u001b[43m_rcb\u001b[49m\u001b[38;5;241;43m=\u001b[39;49m\u001b[43m_rcb\u001b[49m\u001b[43m,\u001b[49m\n\u001b[1;32m   1437\u001b[0m \u001b[43m        \u001b[49m\u001b[43mexample_inputs\u001b[49m\u001b[38;5;241;43m=\u001b[39;49m\u001b[43mexample_inputs\u001b[49m\u001b[43m,\u001b[49m\n\u001b[1;32m   1438\u001b[0m \u001b[43m    \u001b[49m\u001b[43m)\u001b[49m\n\u001b[1;32m   1439\u001b[0m \u001b[38;5;28;01mfinally\u001b[39;00m:\n\u001b[1;32m   1440\u001b[0m     _TOPLEVEL \u001b[38;5;241m=\u001b[39m prev\n",
      "File \u001b[0;32m~/code/DE_ML/HITIT_Server/.venv/lib/python3.12/site-packages/torch/jit/_script.py:1201\u001b[0m, in \u001b[0;36m_script_impl\u001b[0;34m(obj, optimize, _frames_up, _rcb, example_inputs)\u001b[0m\n\u001b[1;32m   1199\u001b[0m     maybe_already_compiled_fn\u001b[38;5;241m.\u001b[39m_torchdynamo_inline \u001b[38;5;241m=\u001b[39m obj  \u001b[38;5;66;03m# type: ignore[attr-defined]\u001b[39;00m\n\u001b[1;32m   1200\u001b[0m     \u001b[38;5;28;01mreturn\u001b[39;00m maybe_already_compiled_fn\n\u001b[0;32m-> 1201\u001b[0m ast \u001b[38;5;241m=\u001b[39m \u001b[43mget_jit_def\u001b[49m\u001b[43m(\u001b[49m\u001b[43mobj\u001b[49m\u001b[43m,\u001b[49m\u001b[43m \u001b[49m\u001b[43mobj\u001b[49m\u001b[38;5;241;43m.\u001b[39;49m\u001b[38;5;18;43m__name__\u001b[39;49m\u001b[43m)\u001b[49m\n\u001b[1;32m   1202\u001b[0m \u001b[38;5;28;01mif\u001b[39;00m _rcb \u001b[38;5;129;01mis\u001b[39;00m \u001b[38;5;28;01mNone\u001b[39;00m:\n\u001b[1;32m   1203\u001b[0m     _rcb \u001b[38;5;241m=\u001b[39m _jit_internal\u001b[38;5;241m.\u001b[39mcreateResolutionCallbackFromClosure(obj)\n",
      "File \u001b[0;32m~/code/DE_ML/HITIT_Server/.venv/lib/python3.12/site-packages/torch/jit/frontend.py:382\u001b[0m, in \u001b[0;36mget_jit_def\u001b[0;34m(fn, def_name, self_name, is_classmethod)\u001b[0m\n\u001b[1;32m    379\u001b[0m     qualname \u001b[38;5;241m=\u001b[39m get_qualified_name(fn)\n\u001b[1;32m    380\u001b[0m     pdt_arg_types \u001b[38;5;241m=\u001b[39m type_trace_db\u001b[38;5;241m.\u001b[39mget_args_types(qualname)\n\u001b[0;32m--> 382\u001b[0m \u001b[38;5;28;01mreturn\u001b[39;00m \u001b[43mbuild_def\u001b[49m\u001b[43m(\u001b[49m\n\u001b[1;32m    383\u001b[0m \u001b[43m    \u001b[49m\u001b[43mparsed_def\u001b[49m\u001b[38;5;241;43m.\u001b[39;49m\u001b[43mctx\u001b[49m\u001b[43m,\u001b[49m\n\u001b[1;32m    384\u001b[0m \u001b[43m    \u001b[49m\u001b[43mfn_def\u001b[49m\u001b[43m,\u001b[49m\n\u001b[1;32m    385\u001b[0m \u001b[43m    \u001b[49m\u001b[43mtype_line\u001b[49m\u001b[43m,\u001b[49m\n\u001b[1;32m    386\u001b[0m \u001b[43m    \u001b[49m\u001b[43mdef_name\u001b[49m\u001b[43m,\u001b[49m\n\u001b[1;32m    387\u001b[0m \u001b[43m    \u001b[49m\u001b[43mself_name\u001b[49m\u001b[38;5;241;43m=\u001b[39;49m\u001b[43mself_name\u001b[49m\u001b[43m,\u001b[49m\n\u001b[1;32m    388\u001b[0m \u001b[43m    \u001b[49m\u001b[43mpdt_arg_types\u001b[49m\u001b[38;5;241;43m=\u001b[39;49m\u001b[43mpdt_arg_types\u001b[49m\u001b[43m,\u001b[49m\n\u001b[1;32m    389\u001b[0m \u001b[43m\u001b[49m\u001b[43m)\u001b[49m\n",
      "File \u001b[0;32m~/code/DE_ML/HITIT_Server/.venv/lib/python3.12/site-packages/torch/jit/frontend.py:443\u001b[0m, in \u001b[0;36mbuild_def\u001b[0;34m(ctx, py_def, type_line, def_name, self_name, pdt_arg_types)\u001b[0m\n\u001b[1;32m    440\u001b[0m     type_comment_decl \u001b[38;5;241m=\u001b[39m torch\u001b[38;5;241m.\u001b[39m_C\u001b[38;5;241m.\u001b[39mparse_type_comment(type_line)\n\u001b[1;32m    441\u001b[0m     decl \u001b[38;5;241m=\u001b[39m torch\u001b[38;5;241m.\u001b[39m_C\u001b[38;5;241m.\u001b[39mmerge_type_from_type_comment(decl, type_comment_decl, is_method)\n\u001b[0;32m--> 443\u001b[0m \u001b[38;5;28;01mreturn\u001b[39;00m Def(Ident(r, def_name), decl, \u001b[43mbuild_stmts\u001b[49m\u001b[43m(\u001b[49m\u001b[43mctx\u001b[49m\u001b[43m,\u001b[49m\u001b[43m \u001b[49m\u001b[43mbody\u001b[49m\u001b[43m)\u001b[49m)\n",
      "File \u001b[0;32m~/code/DE_ML/HITIT_Server/.venv/lib/python3.12/site-packages/torch/jit/frontend.py:196\u001b[0m, in \u001b[0;36mbuild_stmts\u001b[0;34m(ctx, stmts)\u001b[0m\n\u001b[1;32m    195\u001b[0m \u001b[38;5;28;01mdef\u001b[39;00m \u001b[38;5;21mbuild_stmts\u001b[39m(ctx, stmts):\n\u001b[0;32m--> 196\u001b[0m     stmts \u001b[38;5;241m=\u001b[39m [\u001b[43mbuild_stmt\u001b[49m\u001b[43m(\u001b[49m\u001b[43mctx\u001b[49m\u001b[43m,\u001b[49m\u001b[43m \u001b[49m\u001b[43ms\u001b[49m\u001b[43m)\u001b[49m \u001b[38;5;28;01mfor\u001b[39;00m s \u001b[38;5;129;01min\u001b[39;00m stmts]\n\u001b[1;32m    197\u001b[0m     \u001b[38;5;28;01mreturn\u001b[39;00m \u001b[38;5;28mlist\u001b[39m(\u001b[38;5;28mfilter\u001b[39m(\u001b[38;5;28;01mNone\u001b[39;00m, stmts))\n",
      "File \u001b[0;32m~/code/DE_ML/HITIT_Server/.venv/lib/python3.12/site-packages/torch/jit/frontend.py:416\u001b[0m, in \u001b[0;36mBuilder.__call__\u001b[0;34m(self, ctx, node)\u001b[0m\n\u001b[1;32m    414\u001b[0m \u001b[38;5;28;01mif\u001b[39;00m method \u001b[38;5;129;01mis\u001b[39;00m \u001b[38;5;28;01mNone\u001b[39;00m:\n\u001b[1;32m    415\u001b[0m     \u001b[38;5;28;01mraise\u001b[39;00m UnsupportedNodeError(ctx, node)\n\u001b[0;32m--> 416\u001b[0m \u001b[38;5;28;01mreturn\u001b[39;00m \u001b[43mmethod\u001b[49m\u001b[43m(\u001b[49m\u001b[43mctx\u001b[49m\u001b[43m,\u001b[49m\u001b[43m \u001b[49m\u001b[43mnode\u001b[49m\u001b[43m)\u001b[49m\n",
      "File \u001b[0;32m~/code/DE_ML/HITIT_Server/.venv/lib/python3.12/site-packages/torch/jit/frontend.py:740\u001b[0m, in \u001b[0;36mStmtBuilder.build_Return\u001b[0;34m(ctx, stmt)\u001b[0m\n\u001b[1;32m    735\u001b[0m \u001b[38;5;129m@staticmethod\u001b[39m\n\u001b[1;32m    736\u001b[0m \u001b[38;5;28;01mdef\u001b[39;00m \u001b[38;5;21mbuild_Return\u001b[39m(ctx, stmt):\n\u001b[1;32m    737\u001b[0m     r \u001b[38;5;241m=\u001b[39m ctx\u001b[38;5;241m.\u001b[39mmake_range(\n\u001b[1;32m    738\u001b[0m         stmt\u001b[38;5;241m.\u001b[39mlineno, stmt\u001b[38;5;241m.\u001b[39mcol_offset, stmt\u001b[38;5;241m.\u001b[39mcol_offset \u001b[38;5;241m+\u001b[39m \u001b[38;5;28mlen\u001b[39m(\u001b[38;5;124m\"\u001b[39m\u001b[38;5;124mreturn\u001b[39m\u001b[38;5;124m\"\u001b[39m)\n\u001b[1;32m    739\u001b[0m     )\n\u001b[0;32m--> 740\u001b[0m     \u001b[38;5;28;01mreturn\u001b[39;00m Return(r, \u001b[38;5;28;01mNone\u001b[39;00m \u001b[38;5;28;01mif\u001b[39;00m stmt\u001b[38;5;241m.\u001b[39mvalue \u001b[38;5;129;01mis\u001b[39;00m \u001b[38;5;28;01mNone\u001b[39;00m \u001b[38;5;28;01melse\u001b[39;00m \u001b[43mbuild_expr\u001b[49m\u001b[43m(\u001b[49m\u001b[43mctx\u001b[49m\u001b[43m,\u001b[49m\u001b[43m \u001b[49m\u001b[43mstmt\u001b[49m\u001b[38;5;241;43m.\u001b[39;49m\u001b[43mvalue\u001b[49m\u001b[43m)\u001b[49m)\n",
      "File \u001b[0;32m~/code/DE_ML/HITIT_Server/.venv/lib/python3.12/site-packages/torch/jit/frontend.py:416\u001b[0m, in \u001b[0;36mBuilder.__call__\u001b[0;34m(self, ctx, node)\u001b[0m\n\u001b[1;32m    414\u001b[0m \u001b[38;5;28;01mif\u001b[39;00m method \u001b[38;5;129;01mis\u001b[39;00m \u001b[38;5;28;01mNone\u001b[39;00m:\n\u001b[1;32m    415\u001b[0m     \u001b[38;5;28;01mraise\u001b[39;00m UnsupportedNodeError(ctx, node)\n\u001b[0;32m--> 416\u001b[0m \u001b[38;5;28;01mreturn\u001b[39;00m \u001b[43mmethod\u001b[49m\u001b[43m(\u001b[49m\u001b[43mctx\u001b[49m\u001b[43m,\u001b[49m\u001b[43m \u001b[49m\u001b[43mnode\u001b[49m\u001b[43m)\u001b[49m\n",
      "File \u001b[0;32m~/code/DE_ML/HITIT_Server/.venv/lib/python3.12/site-packages/torch/jit/frontend.py:909\u001b[0m, in \u001b[0;36mExprBuilder.build_Call\u001b[0;34m(ctx, expr)\u001b[0m\n\u001b[1;32m    906\u001b[0m \u001b[38;5;129m@staticmethod\u001b[39m\n\u001b[1;32m    907\u001b[0m \u001b[38;5;28;01mdef\u001b[39;00m \u001b[38;5;21mbuild_Call\u001b[39m(ctx, expr):\n\u001b[1;32m    908\u001b[0m     func \u001b[38;5;241m=\u001b[39m build_expr(ctx, expr\u001b[38;5;241m.\u001b[39mfunc)\n\u001b[0;32m--> 909\u001b[0m     args \u001b[38;5;241m=\u001b[39m [\u001b[43mbuild_expr\u001b[49m\u001b[43m(\u001b[49m\u001b[43mctx\u001b[49m\u001b[43m,\u001b[49m\u001b[43m \u001b[49m\u001b[43mpy_arg\u001b[49m\u001b[43m)\u001b[49m \u001b[38;5;28;01mfor\u001b[39;00m py_arg \u001b[38;5;129;01min\u001b[39;00m expr\u001b[38;5;241m.\u001b[39margs]\n\u001b[1;32m    910\u001b[0m     \u001b[38;5;28;01mif\u001b[39;00m \u001b[38;5;28mhasattr\u001b[39m(expr, \u001b[38;5;124m\"\u001b[39m\u001b[38;5;124mstarargs\u001b[39m\u001b[38;5;124m\"\u001b[39m) \u001b[38;5;129;01mand\u001b[39;00m expr\u001b[38;5;241m.\u001b[39mstarargs:\n\u001b[1;32m    911\u001b[0m         stararg_expr \u001b[38;5;241m=\u001b[39m build_expr(ctx, expr\u001b[38;5;241m.\u001b[39mstarargs)\n",
      "File \u001b[0;32m~/code/DE_ML/HITIT_Server/.venv/lib/python3.12/site-packages/torch/jit/frontend.py:416\u001b[0m, in \u001b[0;36mBuilder.__call__\u001b[0;34m(self, ctx, node)\u001b[0m\n\u001b[1;32m    414\u001b[0m \u001b[38;5;28;01mif\u001b[39;00m method \u001b[38;5;129;01mis\u001b[39;00m \u001b[38;5;28;01mNone\u001b[39;00m:\n\u001b[1;32m    415\u001b[0m     \u001b[38;5;28;01mraise\u001b[39;00m UnsupportedNodeError(ctx, node)\n\u001b[0;32m--> 416\u001b[0m \u001b[38;5;28;01mreturn\u001b[39;00m \u001b[43mmethod\u001b[49m\u001b[43m(\u001b[49m\u001b[43mctx\u001b[49m\u001b[43m,\u001b[49m\u001b[43m \u001b[49m\u001b[43mnode\u001b[49m\u001b[43m)\u001b[49m\n",
      "File \u001b[0;32m~/code/DE_ML/HITIT_Server/.venv/lib/python3.12/site-packages/torch/jit/frontend.py:1159\u001b[0m, in \u001b[0;36mExprBuilder.build_List\u001b[0;34m(ctx, expr)\u001b[0m\n\u001b[1;32m   1155\u001b[0m \u001b[38;5;129m@staticmethod\u001b[39m\n\u001b[1;32m   1156\u001b[0m \u001b[38;5;28;01mdef\u001b[39;00m \u001b[38;5;21mbuild_List\u001b[39m(ctx, expr):\n\u001b[1;32m   1157\u001b[0m     \u001b[38;5;28;01mreturn\u001b[39;00m ListLiteral(\n\u001b[1;32m   1158\u001b[0m         ctx\u001b[38;5;241m.\u001b[39mmake_range(expr\u001b[38;5;241m.\u001b[39mlineno, expr\u001b[38;5;241m.\u001b[39mcol_offset, expr\u001b[38;5;241m.\u001b[39mcol_offset \u001b[38;5;241m+\u001b[39m \u001b[38;5;241m1\u001b[39m),\n\u001b[0;32m-> 1159\u001b[0m         [\u001b[43mbuild_expr\u001b[49m\u001b[43m(\u001b[49m\u001b[43mctx\u001b[49m\u001b[43m,\u001b[49m\u001b[43m \u001b[49m\u001b[43me\u001b[49m\u001b[43m)\u001b[49m \u001b[38;5;28;01mfor\u001b[39;00m e \u001b[38;5;129;01min\u001b[39;00m expr\u001b[38;5;241m.\u001b[39melts],\n\u001b[1;32m   1160\u001b[0m     )\n",
      "File \u001b[0;32m~/code/DE_ML/HITIT_Server/.venv/lib/python3.12/site-packages/torch/jit/frontend.py:416\u001b[0m, in \u001b[0;36mBuilder.__call__\u001b[0;34m(self, ctx, node)\u001b[0m\n\u001b[1;32m    414\u001b[0m \u001b[38;5;28;01mif\u001b[39;00m method \u001b[38;5;129;01mis\u001b[39;00m \u001b[38;5;28;01mNone\u001b[39;00m:\n\u001b[1;32m    415\u001b[0m     \u001b[38;5;28;01mraise\u001b[39;00m UnsupportedNodeError(ctx, node)\n\u001b[0;32m--> 416\u001b[0m \u001b[38;5;28;01mreturn\u001b[39;00m \u001b[43mmethod\u001b[49m\u001b[43m(\u001b[49m\u001b[43mctx\u001b[49m\u001b[43m,\u001b[49m\u001b[43m \u001b[49m\u001b[43mnode\u001b[49m\u001b[43m)\u001b[49m\n",
      "File \u001b[0;32m~/code/DE_ML/HITIT_Server/.venv/lib/python3.12/site-packages/torch/jit/frontend.py:909\u001b[0m, in \u001b[0;36mExprBuilder.build_Call\u001b[0;34m(ctx, expr)\u001b[0m\n\u001b[1;32m    906\u001b[0m \u001b[38;5;129m@staticmethod\u001b[39m\n\u001b[1;32m    907\u001b[0m \u001b[38;5;28;01mdef\u001b[39;00m \u001b[38;5;21mbuild_Call\u001b[39m(ctx, expr):\n\u001b[1;32m    908\u001b[0m     func \u001b[38;5;241m=\u001b[39m build_expr(ctx, expr\u001b[38;5;241m.\u001b[39mfunc)\n\u001b[0;32m--> 909\u001b[0m     args \u001b[38;5;241m=\u001b[39m [\u001b[43mbuild_expr\u001b[49m\u001b[43m(\u001b[49m\u001b[43mctx\u001b[49m\u001b[43m,\u001b[49m\u001b[43m \u001b[49m\u001b[43mpy_arg\u001b[49m\u001b[43m)\u001b[49m \u001b[38;5;28;01mfor\u001b[39;00m py_arg \u001b[38;5;129;01min\u001b[39;00m expr\u001b[38;5;241m.\u001b[39margs]\n\u001b[1;32m    910\u001b[0m     \u001b[38;5;28;01mif\u001b[39;00m \u001b[38;5;28mhasattr\u001b[39m(expr, \u001b[38;5;124m\"\u001b[39m\u001b[38;5;124mstarargs\u001b[39m\u001b[38;5;124m\"\u001b[39m) \u001b[38;5;129;01mand\u001b[39;00m expr\u001b[38;5;241m.\u001b[39mstarargs:\n\u001b[1;32m    911\u001b[0m         stararg_expr \u001b[38;5;241m=\u001b[39m build_expr(ctx, expr\u001b[38;5;241m.\u001b[39mstarargs)\n",
      "File \u001b[0;32m~/code/DE_ML/HITIT_Server/.venv/lib/python3.12/site-packages/torch/jit/frontend.py:416\u001b[0m, in \u001b[0;36mBuilder.__call__\u001b[0;34m(self, ctx, node)\u001b[0m\n\u001b[1;32m    414\u001b[0m \u001b[38;5;28;01mif\u001b[39;00m method \u001b[38;5;129;01mis\u001b[39;00m \u001b[38;5;28;01mNone\u001b[39;00m:\n\u001b[1;32m    415\u001b[0m     \u001b[38;5;28;01mraise\u001b[39;00m UnsupportedNodeError(ctx, node)\n\u001b[0;32m--> 416\u001b[0m \u001b[38;5;28;01mreturn\u001b[39;00m \u001b[43mmethod\u001b[49m\u001b[43m(\u001b[49m\u001b[43mctx\u001b[49m\u001b[43m,\u001b[49m\u001b[43m \u001b[49m\u001b[43mnode\u001b[49m\u001b[43m)\u001b[49m\n",
      "File \u001b[0;32m~/code/DE_ML/HITIT_Server/.venv/lib/python3.12/site-packages/torch/jit/frontend.py:1000\u001b[0m, in \u001b[0;36mExprBuilder.build_UnaryOp\u001b[0;34m(ctx, expr)\u001b[0m\n\u001b[1;32m    994\u001b[0m     \u001b[38;5;28;01mraise\u001b[39;00m NotSupportedError(\n\u001b[1;32m    995\u001b[0m         expr\u001b[38;5;241m.\u001b[39mrange(), \u001b[38;5;124m\"\u001b[39m\u001b[38;5;124munsupported unary operator: \u001b[39m\u001b[38;5;124m\"\u001b[39m \u001b[38;5;241m+\u001b[39m op\u001b[38;5;241m.\u001b[39m\u001b[38;5;18m__name__\u001b[39m\n\u001b[1;32m    996\u001b[0m     )\n\u001b[1;32m    997\u001b[0m r \u001b[38;5;241m=\u001b[39m ctx\u001b[38;5;241m.\u001b[39mmake_range(\n\u001b[1;32m    998\u001b[0m     expr\u001b[38;5;241m.\u001b[39mlineno, expr\u001b[38;5;241m.\u001b[39mcol_offset, expr\u001b[38;5;241m.\u001b[39mcol_offset \u001b[38;5;241m+\u001b[39m \u001b[38;5;28mlen\u001b[39m(op_token)\n\u001b[1;32m    999\u001b[0m )\n\u001b[0;32m-> 1000\u001b[0m \u001b[38;5;28;01mreturn\u001b[39;00m \u001b[43mUnaryOp\u001b[49m\u001b[43m(\u001b[49m\u001b[43mr\u001b[49m\u001b[43m,\u001b[49m\u001b[43m \u001b[49m\u001b[43mop_token\u001b[49m\u001b[43m,\u001b[49m\u001b[43m \u001b[49m\u001b[43msub_expr\u001b[49m\u001b[43m)\u001b[49m\n",
      "\u001b[0;31mKeyboardInterrupt\u001b[0m: "
     ]
    }
   ],
   "source": [
    "from transformers import AutoTokenizer, AutoModelForMaskedLM\n",
    "\n",
    "tokenizer = AutoTokenizer.from_pretrained(\"kakaobank/kf-deberta-base\")\n",
    "model = AutoModelForMaskedLM.from_pretrained(\"kakaobank/kf-deberta-base\")"
   ]
  },
  {
   "cell_type": "markdown",
   "id": "1002a6a6",
   "metadata": {},
   "source": [
    "# Tokenize하기"
   ]
  },
  {
   "cell_type": "code",
   "execution_count": null,
   "id": "3c01c5f2",
   "metadata": {},
   "outputs": [],
   "source": [
    "input_text = \"서유준의 매출이 하락했으며 장래가 불투명합니다\"\n",
    "tokens = tokenizer.tokenize(input_text) #['서유','##준','##의','매출','##이','하락','##했', ##으며','장래',...] 이런식으로\n",
    "\n",
    "inputs = tokenizer(input_text, return_tensors=\"pt\") #카카오 그 모델에 등록된 단어와 매칭시켜서 숫자로 \n",
    "\n",
    "model_output = model(**inputs)"
   ]
  },
  {
   "cell_type": "markdown",
   "id": "ad119944",
   "metadata": {},
   "source": [
    "# [MASK]된 단어 예측하기"
   ]
  },
  {
   "cell_type": "code",
   "execution_count": null,
   "id": "4d242727",
   "metadata": {
    "scrolled": true
   },
   "outputs": [
    {
     "name": "stdout",
     "output_type": "stream",
     "text": [
      "['매출', '##이', '상승', '##했', '##으며', '[MASK]', '가', '유망', '##합니다']\n",
      "Restored text: 매출이 상승했으며 상승가 유망합니다\n"
     ]
    }
   ],
   "source": [
    "# 모델을 사용하여 예측 logits 계산\n",
    "\n",
    "input_text = \"매출이 상승했으며 [MASK]가 유망합니다\"\n",
    "tokens = tokenizer.tokenize(input_text)\n",
    "print(tokens)\n",
    "\n",
    "inputs = tokenizer(input_text, return_tensors=\"pt\")\n",
    "\n",
    "with torch.no_grad():\n",
    "    outputs = model(**inputs)\n",
    "logits = outputs.logits\n",
    "\n",
    "# 토큰의 가장 가능성 높은 예측값 가져오기\n",
    "predicted_token_id = torch.argmax(logits[0, 3]).item()  # [MASK] 위치의 토큰 (여기서 3번째 위치)\n",
    "predicted_token = tokenizer.convert_ids_to_tokens(predicted_token_id)\n",
    "\n",
    "# # [MASK] 토큰을 예측된 토큰으로 대체하여 문장 복원\n",
    "restored_text = input_text.replace(\"[MASK]\", predicted_token)\n",
    "print(f\"Restored text: {restored_text}\")"
   ]
  },
  {
   "cell_type": "markdown",
   "id": "8fa2bee1",
   "metadata": {},
   "source": [
    "# 감정분석하기"
   ]
  },
  {
   "cell_type": "code",
   "execution_count": 4,
   "id": "68fe13b4",
   "metadata": {},
   "outputs": [],
   "source": [
    "from transformers import pipeline\n",
    "import warnings\n",
    "warnings.filterwarnings(\"ignore\")\n",
    "# 감정 분석 파이프라인 로드\n",
    "sentiment_model = pipeline(model=\"WhitePeak/bert-base-cased-Korean-sentiment\")\n",
    "classifier = pipeline(\"text-classification\", model=\"matthewburke/korean_sentiment\")"
   ]
  },
  {
   "cell_type": "code",
   "execution_count": 32,
   "id": "2641a264",
   "metadata": {},
   "outputs": [
    {
     "name": "stdout",
     "output_type": "stream",
     "text": [
      "{'label': 'Positive', 'score': 0.5479901432991028}\n"
     ]
    }
   ],
   "source": [
    "custom_tweet = \"증권사 출범 앞둔 우리금융, 전 계열사 조직 진단 나선다\"\n",
    "preds = classifier(custom_tweet, return_all_scores=True)\n",
    "preds[0][0]['label'], preds[0][1]['label'] = \"Negative\", \"Positive\"\n",
    "\n",
    "flat_data = [item for sublist in preds for item in sublist]\n",
    "max_score_dict = max(flat_data, key=lambda x: x['score'])\n",
    "\n",
    "print(max_score_dict)"
   ]
  },
  {
   "cell_type": "markdown",
   "id": "f4752ce8",
   "metadata": {},
   "source": []
  },
  {
   "cell_type": "code",
   "execution_count": 15,
   "id": "0b09d6de",
   "metadata": {},
   "outputs": [
    {
     "name": "stdout",
     "output_type": "stream",
     "text": [
      "[[{'label': 'LABEL_0', 'score': 0.03761640191078186}, {'label': 'LABEL_1', 'score': 0.9623836278915405}]]\n"
     ]
    },
    {
     "data": {
      "text/plain": [
       "{'label': 'POSITIVE', 'score': 0.9731518626213074}"
      ]
     },
     "execution_count": 15,
     "metadata": {},
     "output_type": "execute_result"
    }
   ],
   "source": [
    "\n",
    "is_positive = preds[0][1]['score'] > 0.5\n",
    "is_positive\n",
    "def get_sentiment2(text):\n",
    "    result = classifier(text, return_all_scores=True)\n",
    "    print(result)\n",
    "    is_positive = preds[0][1]['score'] > 0.5\n",
    "    result = {}\n",
    "    if is_positive == True:\n",
    "        result['label'] = 'POSITIVE'\n",
    "    else:\n",
    "        result['label'] = \"NEGATIVE\"\n",
    "    result['score'] = preds[0][1]['score']\n",
    "    return result\n",
    "get_sentiment2(\"야 기분 좋다~\")"
   ]
  },
  {
   "cell_type": "code",
   "execution_count": 12,
   "id": "723b6282",
   "metadata": {},
   "outputs": [
    {
     "data": {
      "text/plain": [
       "{'label': 'NEGATIVE', 'score': 0.99221}"
      ]
     },
     "execution_count": 12,
     "metadata": {},
     "output_type": "execute_result"
    }
   ],
   "source": [
    "def get_sentiment(text):\n",
    "    result = sentiment_model(text)\n",
    "    for elem in result :\n",
    "        if elem['label'] == \"LABEL_1\" :\n",
    "            elem['label'] = \"POSITIVE\"\n",
    "        else :\n",
    "            elem['label'] = \"NEGATIVE\"\n",
    "        elem['score'] = round(elem['score'],5)\n",
    "    \n",
    "    # print(f\"Sentiment analysis result: {result}\")\n",
    "    return result[0]\n",
    "\n",
    "get_sentiment(\"야 기분 나쁘다\")"
   ]
  },
  {
   "cell_type": "markdown",
   "id": "35fab795",
   "metadata": {},
   "source": [
    "# 뉴스데이터 크롤링하기"
   ]
  },
  {
   "cell_type": "code",
   "execution_count": 3,
   "id": "32b7ff66",
   "metadata": {},
   "outputs": [
    {
     "name": "stdout",
     "output_type": "stream",
     "text": [
      "['095570', '006840', '027410', '282330', '138930', '001460', '001465', '001040', '079160', '00104K', '000120', '011150', '011155', '001045', '097950', '097955', '000480', '000590', '012030', '016610', '005830', '000990', '139130', '001530', '000210', '000215', '375500', '37550L', '37550K', '007340', '004840', '155660', '069730', '017860', '017940', '365550', '383220', '007700', '114090', '078930', '006360', '001250', '007070', '078935', '012630', '039570', '089470', '294870', '009540', '267250', '267270', '443060', '010620', '322000', '042670', '267260', '329180', '097230', '014790', '003580', '204320', '060980', '011200', '035000', '003560', '175330', '234080', '001060', '001067', '001065', '096760', '105560', '432320', '002380', '344820', '009070', '009440', '119650', '092220', '003620', '016380', '001390', '033180', '015590', '001940', '025000', '092230', '000040', '044450', '030200', '033780', '058850', '058860', '093050', '003550', '034220', '051900', '051905', '373220', '003555', '032640', '011070', '066570', '066575', '037560', '051910', '051915', '079550', '006260', '010120', '000680', '229640', '108320', '001120', '108670', '108675', '383800', '38380K', '023150', '035420', '181710', '400760', '005940', '005945', '338100', '034310', '030190', '008260', '004250', '004255', '456040', '010060', '178920', '005490', '010950', '010955', '034120', '005090', '001380', '004060', '001770', '002360', '009160', '123700', '025530', '034730', '011790', '018670', '001740', '006120', '006125', '210980', '395400', '302440', '326030', '402340', '361610', '100090', '03473K', '096770', '096775', '475150', '001510', '001515', '285130', '28513K', '017670', '000660', '003570', '064960', '100840', '036530', '005610', '011810', '465770', '077970', '071970', '002820', '084870', '002710', '069260', '007980', '002900', '024070', '037270', '000500', '000860', '035250', '011420', '002100', '009450', '267290', '012320', '000050', '214390', '012610', '009140', '013580', '012200', '012205', '002140', '010130', '002240', '009290', '017040', '017900', '037710', '030610', '339770', '007690', '005320', '001140', '002720', '083420', '014530', '014280', '014285', '008870', '001570', '002990', '002995', '011780', '011785', '214330', '001210', '073240', '092440', '000270', '024110', '013700', '004540', '004545', '001260', '008350', '008355', '004270', '003920', '003925', '025860', '005720', '005725', '002350', '002355', '092790', '251270', '090350', '090355', '000320', '000325', '006280', '005250', '005257', '004370', '072710', '058730', '030210', '023590', '145210', '019680', '019685', '006370', '008060', '00806K', '353200', '35320K', '000490', '008110', '005750', '006570', '001680', '001685', '084690', '084695', '128820', '117580', '016710', '003540', '003547', '003545', '009190', '014160', '047040', '009320', '003090', '069620', '000430', '006340', '006345', '003220', '024890', '002880', '000300', '012800', '015230', '001070', '006650', '001440', '084010', '001790', '001795', '001130', '003490', '003495', '005880', '003830', '016090', '069460', '192080', '012510', '004830', '004835', '024900', '145720', '002150', '460850', '460860', '001230', '023450', '004140', '007590', '005960', '005965', '026960', '002210', '102260', '000640', '170900', '028100', '282690', '001520', '001527', '084670', '082640', '001525', '008970', '092780', '049770', '018500', '006040', '030720', '014820', '014825', '111380', '163560', '004890', '002690', '000020', '000150', '000157', '454910', '241560', '034020', '000155', '336260', '33626K', '33626L', '016740', '192650', '024090', '003160', '092200', '377190', '013570', '210540', '115390', '032350', '089860', '330590', '000400', '023530', '020150', '280360', '286940', '004000', '004990', '00499K', '005300', '005305', '011170', '071840', '027740', '357430', '001080', '088980', '094800', '138040', '090370', '017180', '009900', '012690', '005360', '070960', '009680', '009580', '009200', '033920', '008420', '025560', '007120', '396690', '357250', '085620', '006800', '00680K', '006805', '002840', '268280', '107590', '134380', '003650', '377740', '003610', '001340', '035150', '002410', '007210', '002760', '003850', '000890', '003000', '001270', '001275', '026940', '011390', '005030', '002070', '100220', '090460', '005180', '003960', '008040', '007160', '014710', '006090', '001470', '028050', '448730', '006400', '006405', '006660', '028260', '02826K', '207940', '032830', '018260', '009150', '009155', '005930', '005935', '001360', '010140', '016360', '068290', '029780', '000810', '000815', '006110', '145990', '145995', '003230', '002170', '272550', '000070', '000075', '003720', '002810', '005680', '023000', '004380', '002450', '004440', '000520', '009770', '005500', '004690', '010960', '004450', '009470', '011230', '001820', '000390', '001290', '041650', '075180', '007540', '248170', '007860', '200880', '017390', '004410', '004415', '021050', '008490', '007610', '136490', '014910', '014915', '003080', '004980', '004985', '011300', '000180', '002420', '004360', '004365', '004490', '001430', '306200', '003030', '019440', '058650', '013000', '091090', '021820', '067830', '075580', '068270', '336370', '33637K', '33637L', '248070', '004430', '126720', '017550', '053210', '204210', '026890', '134790', '016590', '029530', '004970', '011930', '005390', '004170', '035510', '034300', '031430', '031440', '006880', '005800', '001720', '009270', '002700', '002870', '019170', '019175', '404990', '293940', '055550', '004080', '102280', '003410', '004770', '403550', '004920', '112610', '308170', '008700', '002790', '00279K', '002795', '090430', '090435', '002030', '183190', '002310', '012170', '267850', '020560', '122900', '010780', '139990', '001780', '018250', '161000', '011090', '137310', '118000', '005850', '010580', '012750', '033530', '023960', '298690', '140910', '078520', '015260', '007460', '003060', '244920', '278470', '450080', '036570', '085310', '900140', '066970', '097520', '014440', '111770', '009970', '003520', '000670', '006740', '012280', '012160', '015360', '007310', '002630', '271560', '001800', '011690', '316140', '006980', '017370', '105840', '010400', '049800', '016880', '095720', '005820', '010600', '008600', '033270', '014830', '446070', '000910', '047400', '011330', '077500', '002920', '000700', '003470', '003475', '072130', '000220', '000225', '000227', '001200', '000100', '000105', '003460', '003465', '008730', '008250', '025820', '214320', '088260', '139480', '457190', '007660', '005950', '015020', '093230', '074610', '102460', '084680', '350520', '334890', '000760', '014990', '101140', '006490', '023800', '034590', '129260', '023810', '249420', '000230', '013360', '003120', '003200', '007110', '007570', '007575', '008500', '081000', '020760', '103590', '271940', '015860', '226320', '317400', '033240', '000950', '348950', '194370', '025620', '030000', '271980', '001560', '002620', '006220', '089590', '004910', '004700', '001550', '462520', '120030', '018470', '002600', '185750', '063160', '001630', '109070', '044380', '013890', '013870', '071320', '088790', '003780', '010640', '100250', '051630', '272450', '011000', '002780', '002787', '002785', '009310', '000650', '012600', '033250', '035720', '323410', '377300', '006380', '001620', '029460', '281820', '381970', '145270', '417310', '357120', '007815', '007810', '00781K', '003690', '192820', '044820', '005070', '005420', '071950', '002020', '138490', '003070', '003075', '450140', '45014K', '002025', '120110', '120115', '021240', '036420', '024720', '031820', '192400', '284740', '264900', '26490K', '005740', '005745', '259960', '020120', '039490', '014580', '015890', '006890', '003240', '011280', '004100', '004105', '009410', '009415', '001420', '055490', '078000', '214420', '019180', '363280', '36328K', '091810', '004870', '034230', '005690', '036580', '004720', '028670', '010820', '016800', '001020', '090080', '010770', '022100', '058430', '047050', '003670', '017810', '103140', '005810', '950210', '009810', '086790', '293480', '039130', '352820', '071090', '019490', '000080', '000087', '000140', '000145', '152550', '036460', '005430', '071050', '071055', '010040', '025540', '010100', '004090', '002200', '002960', '000240', '123890', '015760', '006200', '027970', '023350', '025890', '000970', '104700', '017960', '161890', '161390', '034830', '007280', '168490', '047810', '123690', '003350', '011500', '002390', '053690', '042700', '008930', '128940', '009240', '020000', '003680', '105630', '069640', '016450', '010420', '009180', '213500', '014680', '004710', '004150', '025750', '004960', '011700', '001750', '001755', '018880', '009420', '014130', '300720', '002220', '006390', '003300', '051600', '052690', '130660', '002320', '003480', '180640', '18064K', '005110', '009460', '372910', '000880', '00088K', '452260', '45226K', '451800', '088350', '000370', '009830', '009835', '272210', '012450', '082740', '042660', '000885', '003530', '003535', '195870', '101530', '143210', '000720', '000725', '453340', '086280', '064350', '079430', '012330', '069960', '004560', '004310', '017800', '307950', '011210', '004020', '005440', '005380', '005387', '005389', '005385', '001500', '011760', '227840', '126560', '001450', '057050', '093240', '003010', '111110', '008770', '008775', '002460', '378850', '241590', '006060', '013520', '010690', '133820', '010660', '000850', '016580', '032560', '004800', '094280', '298040', '298050', '298020', '298000', '093370', '081660', '005870', '079980', '005010', '000540', '000545', '003280']\n"
     ]
    }
   ],
   "source": [
    "import requests\n",
    "from bs4 import BeautifulSoup\n",
    "from datetime import datetime\n",
    "\n",
    "from pykrx import stock\n",
    "from pykrx import bond\n",
    "\n",
    "current_date = datetime.now().strftime(\"%Y%m%d\")\n",
    "tickers = stock.get_market_ticker_list(current_date)\n",
    "print(tickers)\n",
    "# print(current_date_formatted)"
   ]
  },
  {
   "cell_type": "code",
   "execution_count": 4,
   "id": "b92b646a",
   "metadata": {},
   "outputs": [],
   "source": [
    "def naver_news_crawling(keyword_list, day):\n",
    "    result_object = {}  # 결과를 저장할 객체\n",
    "\n",
    "    for keyword in keyword_list:\n",
    "        url = f\"https://search.naver.com/search.naver?where=news&query={keyword}&sm=tab_opt&sort=0&photo=0&field=0&pd=3&ds={day}&de={day}&docid=&related=0&mynews=0&office_type=0&office_section_code=0&news_office_checked=&nso=so%3Ar%2Cp%3Afrom20240101to20240101&is_sug_officeid=0&office_category=0&service_area=0\"\n",
    "        response = requests.get(url, headers={'Content-Type': 'application/json'})\n",
    "        \n",
    "        soup = BeautifulSoup(response.content, 'html.parser')\n",
    "        result = []\n",
    "        for item in soup.select('.news_wrap'):\n",
    "            press_element = item.select_one('a.info.press')\n",
    "            # print()\n",
    "            press = item.select_one('a.info.press').get_text().replace(' 선정', '').strip()\n",
    "            anchor = item.select_one('a.news_tit')\n",
    "            title = anchor.get_text().strip()\n",
    "            url = anchor['href']\n",
    "            dsc = item.select_one('.news_dsc').get_text().strip()\n",
    "\n",
    "            result.append({\n",
    "                'press': press,\n",
    "                'title': title,\n",
    "                'url': url,\n",
    "                'dsc': dsc,\n",
    "            })\n",
    "\n",
    "        result_object[keyword] = result  # 키워드를 키로 사용하여 결과 저장\n",
    "    return result_object  # 객체 반환"
   ]
  },
  {
   "cell_type": "code",
   "execution_count": 10,
   "id": "53ac88da",
   "metadata": {
    "collapsed": true,
    "jupyter": {
     "outputs_hidden": true
    }
   },
   "outputs": [
    {
     "name": "stdout",
     "output_type": "stream",
     "text": [
      "{'삼성전자': [{'press': '연합뉴스', 'title': '삼성전자, 중소·중견기업에 특허 231건 무상 제공', 'url': 'https://www.yna.co.kr/view/AKR20240624034500003?input=1195m', 'dsc': \"삼성전자가 중소·중견기업들에 활용 가치가 높은 특허 231건을 무상으로 제공한다. 산업통상자원부는 24일 '2024년도 산업통상자원부·삼성전자 기술나눔 공고'를 내고 특허를 제공받을 중소·중견기업을 모집한다고 밝혔다. 기술나눔은 동반 성장 차원에서 대기업이나 공공기관이 가진 미활용 우수...\"}, {'press': '세계일보언론사', 'title': '다가오는 ‘여름 보너스’ 시즌… 삼성전자 등 중간배당 시행', 'url': 'http://www.segye.com/newsView/20240624502035?OutUrl=naver', 'dsc': '삼성전자를 비롯한 국내 69개 상장사가 6월 말 중간배당을 계획을 밝혔다. 24일 한국거래소에 따르면 지난 20일까지 6월 말 기준 중간배당(분기배당 포함) 권리주주 확정을 위해 주주명부폐쇄 결정을 공시한 12월 결산법인은 코스피 49개, 코스닥 20개 등 총 69개사다. 사진=연합뉴스 유가증권시장에서는...'}, {'press': 'SBS', 'title': \"LG·삼성전자, 미 컨슈머리포트 선정 '올해 최고의 TV' 휩쓸어\", 'url': 'https://news.sbs.co.kr/news/endPage.do?news_id=N1007695100&plink=ORI&cooper=NAVER', 'dsc': \"▲ 2024년형 LG 올레드 에보(G4)를 체험하는 모습 LG전자와 삼성전자가 미국의 유력 소비자 매체인 컨슈머리포트가 발표한 올해 최고의 TV 부문을 휩쓸었습니다. 24일 업계에 따르면 컨슈머리포트가 최근 발표한 '전문가가 평가한 올해 최고의 TV' 8종 중 4종이 LG 올레드(OLED·유기발광다이오드)...\"}, {'press': '뉴시스', 'title': \"엠디엠그룹·삼성전자, '시니어 주택사업 협력' 사업협약\", 'url': 'https://www.newsis.com/view/NISX20240624_0002783831', 'dsc': \"엠디엠·엠디엠플러스는 삼성전자와 지난 13일 서울 강남구 카이트타워 대강당에서 '시니어 주택사업 협력을 위한 전략적 사업협약'을 체결했다고 24일 밝혔다. 이번 협약을 통해 엠디엠그룹이 진행하는 개발사업에 삼성전자의 다양한 AI 가전과 맞춤형 솔루션을 적용해 전략적 상호협력 관계를 구축한다. 특히...\"}, {'press': '신동아언론사', 'title': '삼성전자 반도체 전영현號 향한 전·현직 삼성맨의 기대 + 쓴소리', 'url': 'https://shindonga.donga.com/3/all/13/5010856/1', 'dsc': '“HBM 아니라 D램이 흔들리고 있다는 게 큰 문제” ● 완벽주의자 전영현은 ‘기술적 정직성’ 중시하는 스타일 ● 짧은 시간에 문제점 정확히 짚어냈다더라 ● 원포인트 인사는 HBM 기술적 문제 해결 차원 아냐 ● 리더십 원천이면서 압도적 선두이던 메모리 정상화하라는 것 ● 삼성전자에 D램은 ‘축’이면서...'}, {'press': '매일경제', 'title': '“삼성전자, 2Q 영업익 8.4조 예상…경쟁력 회복 기대”', 'url': 'https://www.mk.co.kr/article/11049183', 'dsc': 'BNK투자증권은 24일 삼성전자에 대해 경영진 변경과 제조 역량 강화에 따라 향후 경쟁력 회복을 기대한다며 투자의견 ‘매수’와 목표주가 9만3000원을 유지했다. BNK투자증권은 삼성전자의 올해 2분기 예상 영업이익 8조4000억원으로 8% 상향 조정했다. 같은 기간 매출액도 73조5000억원으로 3% 상향했다....'}, {'press': '시사IN언론사', 'title': '2024년 삼성전자 노동자들이 싸우는 이유', 'url': 'https://www.sisain.co.kr/news/articleView.html?idxno=53215', 'dsc': '삼성전자 노동자들이 파업을 벌였다. 삼성전자 창사 55년 만에 발생한 ‘최초의 파업’이다. 국내 언론은 물론 〈뉴욕타임스〉 등 외신도 글로벌 대기업 삼성전자의 파업 소식을 크게 다뤘다. 반세기 동안 ‘무노조 경영’을 고집해온 삼성의 역사에 또 하나의 이정표가 세워졌다. 6월7일 벌어진 파업...'}, {'press': '머니투데이언론사', 'title': '삼성전자, 3나노 수율에 \\'올인\\'…\"가격 올리는 TSMC 넘는다\"', 'url': 'http://news.mt.co.kr/mtview.php?no=2024062310201649834', 'dsc': '삼성전자가 반도체 파운드리(위탁 생산) 3나노 수율 향상에 속도를 낸다. 최대 경쟁자인 TSMC가 안정적인 수율을 무기로 수주를 확대하고 있어 수율을 개선하고 독자 공정의 장점을 활용해 점유율을 높인다는 목표다. 23일 업계에 따르면 삼성전자 파운드리사업부는 3나노 수율 개선을 최우선 과제로...'}, {'press': '조선일보', 'title': '삼성전자, 올림픽 개최 파리에 옥외광고', 'url': 'https://www.chosun.com/economy/tech_it/2024/06/24/UXTEENDBEFGAZPHYFYBJCE2RWM/?utm_source=naver&utm_medium=referral&utm_campaign=naver-news', 'dsc': '삼성전자가 2024 파리 올림픽을 응원하기 위해 프랑스 파리 주요 명소인 오페라 가르니에, 라 데팡스 등에서 옥외 광고를 진행한다고 23일 밝혔다. 이 광고는 패럴림픽이 끝나는 9월 말까지 게시될 예정이다. 삼성전자는 자사 올림픽 메시지인 ‘열린 마음은 언제나 승리한다(Open always wins)’ 문구, 폴더블폰...'}, {'press': '한경비즈니스언론사', 'title': '재도약 나서는 100명의 CEO…한종희 삼성전자 부회장 1위[2024 100대 CEO]', 'url': 'https://magazine.hankyung.com/business/article/202406208891b', 'dsc': '톱10 ‘전기차 캐즘’ 뚫은 현대차그룹의 질주 LG전자, 최대 매출 달성 삼성전자의 한종희 부회장이 100인의 CEO 1위에 올랐다. 삼성전자는 그간 한경비즈니스가 조사한 100대 CEO(기업)에서 1위를 놓치지 않았다. 삼성전자는 지난해 반도체 사업에서 15조원에 가까운 적자를 냈고 모바일·가전 등 주력...'}]}\n",
      "Keyword: 삼성전자\n",
      "Description: 삼성전자가 중소·중견기업들에 활용 가치가 높은 특허 231건을 무상으로 제공한다. 산업통상자원부는 24일 '2024년도 산업통상자원부·삼성전자 기술나눔 공고'를 내고 특허를 제공받을 중소·중견기업을 모집한다고 밝혔다. 기술나눔은 동반 성장 차원에서 대기업이나 공공기관이 가진 미활용 우수...\n",
      "삼성전자가 중소·중견기업들에 활용 가치가 높은 특허 231건을 무상으로 제공한다. 산업통상자원부는 24일 '2024년도 산업통상자원부·삼성전자 기술나눔 공고'를 내고 특허를 제공받을 중소·중견기업을 모집한다고 밝혔다. 기술나눔은 동반 성장 차원에서 대기업이나 공공기관이 가진 미활용 우수...\n",
      "{'label': 'NEGATIVE', 'score': 0.99364}\n",
      "\n",
      "------------------------------\n",
      "\n",
      "Description: 삼성전자를 비롯한 국내 69개 상장사가 6월 말 중간배당을 계획을 밝혔다. 24일 한국거래소에 따르면 지난 20일까지 6월 말 기준 중간배당(분기배당 포함) 권리주주 확정을 위해 주주명부폐쇄 결정을 공시한 12월 결산법인은 코스피 49개, 코스닥 20개 등 총 69개사다. 사진=연합뉴스 유가증권시장에서는...\n",
      "삼성전자를 비롯한 국내 69개 상장사가 6월 말 중간배당을 계획을 밝혔다. 24일 한국거래소에 따르면 지난 20일까지 6월 말 기준 중간배당(분기배당 포함) 권리주주 확정을 위해 주주명부폐쇄 결정을 공시한 12월 결산법인은 코스피 49개, 코스닥 20개 등 총 69개사다. 사진=연합뉴스 유가증권시장에서는...\n",
      "{'label': 'NEGATIVE', 'score': 0.99631}\n",
      "\n",
      "------------------------------\n",
      "\n",
      "Description: ▲ 2024년형 LG 올레드 에보(G4)를 체험하는 모습 LG전자와 삼성전자가 미국의 유력 소비자 매체인 컨슈머리포트가 발표한 올해 최고의 TV 부문을 휩쓸었습니다. 24일 업계에 따르면 컨슈머리포트가 최근 발표한 '전문가가 평가한 올해 최고의 TV' 8종 중 4종이 LG 올레드(OLED·유기발광다이오드)...\n",
      "▲ 2024년형 LG 올레드 에보(G4)를 체험하는 모습 LG전자와 삼성전자가 미국의 유력 소비자 매체인 컨슈머리포트가 발표한 올해 최고의 TV 부문을 휩쓸었습니다. 24일 업계에 따르면 컨슈머리포트가 최근 발표한 '전문가가 평가한 올해 최고의 TV' 8종 중 4종이 LG 올레드(OLED·유기발광다이오드)...\n",
      "{'label': 'NEGATIVE', 'score': 0.95661}\n",
      "\n",
      "------------------------------\n",
      "\n",
      "Description: 엠디엠·엠디엠플러스는 삼성전자와 지난 13일 서울 강남구 카이트타워 대강당에서 '시니어 주택사업 협력을 위한 전략적 사업협약'을 체결했다고 24일 밝혔다. 이번 협약을 통해 엠디엠그룹이 진행하는 개발사업에 삼성전자의 다양한 AI 가전과 맞춤형 솔루션을 적용해 전략적 상호협력 관계를 구축한다. 특히...\n",
      "엠디엠·엠디엠플러스는 삼성전자와 지난 13일 서울 강남구 카이트타워 대강당에서 '시니어 주택사업 협력을 위한 전략적 사업협약'을 체결했다고 24일 밝혔다. 이번 협약을 통해 엠디엠그룹이 진행하는 개발사업에 삼성전자의 다양한 AI 가전과 맞춤형 솔루션을 적용해 전략적 상호협력 관계를 구축한다. 특히...\n",
      "{'label': 'NEGATIVE', 'score': 0.95}\n",
      "\n",
      "------------------------------\n",
      "\n",
      "Description: “HBM 아니라 D램이 흔들리고 있다는 게 큰 문제” ● 완벽주의자 전영현은 ‘기술적 정직성’ 중시하는 스타일 ● 짧은 시간에 문제점 정확히 짚어냈다더라 ● 원포인트 인사는 HBM 기술적 문제 해결 차원 아냐 ● 리더십 원천이면서 압도적 선두이던 메모리 정상화하라는 것 ● 삼성전자에 D램은 ‘축’이면서...\n",
      "“HBM 아니라 D램이 흔들리고 있다는 게 큰 문제” ● 완벽주의자 전영현은 ‘기술적 정직성’ 중시하는 스타일 ● 짧은 시간에 문제점 정확히 짚어냈다더라 ● 원포인트 인사는 HBM 기술적 문제 해결 차원 아냐 ● 리더십 원천이면서 압도적 선두이던 메모리 정상화하라는 것 ● 삼성전자에 D램은 ‘축’이면서...\n",
      "{'label': 'NEGATIVE', 'score': 0.86313}\n",
      "\n",
      "------------------------------\n",
      "\n",
      "Description: BNK투자증권은 24일 삼성전자에 대해 경영진 변경과 제조 역량 강화에 따라 향후 경쟁력 회복을 기대한다며 투자의견 ‘매수’와 목표주가 9만3000원을 유지했다. BNK투자증권은 삼성전자의 올해 2분기 예상 영업이익 8조4000억원으로 8% 상향 조정했다. 같은 기간 매출액도 73조5000억원으로 3% 상향했다....\n",
      "BNK투자증권은 24일 삼성전자에 대해 경영진 변경과 제조 역량 강화에 따라 향후 경쟁력 회복을 기대한다며 투자의견 ‘매수’와 목표주가 9만3000원을 유지했다. BNK투자증권은 삼성전자의 올해 2분기 예상 영업이익 8조4000억원으로 8% 상향 조정했다. 같은 기간 매출액도 73조5000억원으로 3% 상향했다....\n",
      "{'label': 'NEGATIVE', 'score': 0.98897}\n",
      "\n",
      "------------------------------\n",
      "\n",
      "Description: 삼성전자 노동자들이 파업을 벌였다. 삼성전자 창사 55년 만에 발생한 ‘최초의 파업’이다. 국내 언론은 물론 〈뉴욕타임스〉 등 외신도 글로벌 대기업 삼성전자의 파업 소식을 크게 다뤘다. 반세기 동안 ‘무노조 경영’을 고집해온 삼성의 역사에 또 하나의 이정표가 세워졌다. 6월7일 벌어진 파업...\n",
      "삼성전자 노동자들이 파업을 벌였다. 삼성전자 창사 55년 만에 발생한 ‘최초의 파업’이다. 국내 언론은 물론 〈뉴욕타임스〉 등 외신도 글로벌 대기업 삼성전자의 파업 소식을 크게 다뤘다. 반세기 동안 ‘무노조 경영’을 고집해온 삼성의 역사에 또 하나의 이정표가 세워졌다. 6월7일 벌어진 파업...\n",
      "{'label': 'NEGATIVE', 'score': 0.99223}\n",
      "\n",
      "------------------------------\n",
      "\n",
      "Description: 삼성전자가 반도체 파운드리(위탁 생산) 3나노 수율 향상에 속도를 낸다. 최대 경쟁자인 TSMC가 안정적인 수율을 무기로 수주를 확대하고 있어 수율을 개선하고 독자 공정의 장점을 활용해 점유율을 높인다는 목표다. 23일 업계에 따르면 삼성전자 파운드리사업부는 3나노 수율 개선을 최우선 과제로...\n",
      "삼성전자가 반도체 파운드리(위탁 생산) 3나노 수율 향상에 속도를 낸다. 최대 경쟁자인 TSMC가 안정적인 수율을 무기로 수주를 확대하고 있어 수율을 개선하고 독자 공정의 장점을 활용해 점유율을 높인다는 목표다. 23일 업계에 따르면 삼성전자 파운드리사업부는 3나노 수율 개선을 최우선 과제로...\n",
      "{'label': 'NEGATIVE', 'score': 0.97863}\n",
      "\n",
      "------------------------------\n",
      "\n",
      "Description: 삼성전자가 2024 파리 올림픽을 응원하기 위해 프랑스 파리 주요 명소인 오페라 가르니에, 라 데팡스 등에서 옥외 광고를 진행한다고 23일 밝혔다. 이 광고는 패럴림픽이 끝나는 9월 말까지 게시될 예정이다. 삼성전자는 자사 올림픽 메시지인 ‘열린 마음은 언제나 승리한다(Open always wins)’ 문구, 폴더블폰...\n",
      "삼성전자가 2024 파리 올림픽을 응원하기 위해 프랑스 파리 주요 명소인 오페라 가르니에, 라 데팡스 등에서 옥외 광고를 진행한다고 23일 밝혔다. 이 광고는 패럴림픽이 끝나는 9월 말까지 게시될 예정이다. 삼성전자는 자사 올림픽 메시지인 ‘열린 마음은 언제나 승리한다(Open always wins)’ 문구, 폴더블폰...\n",
      "{'label': 'NEGATIVE', 'score': 0.971}\n",
      "\n",
      "------------------------------\n",
      "\n",
      "Description: 톱10 ‘전기차 캐즘’ 뚫은 현대차그룹의 질주 LG전자, 최대 매출 달성 삼성전자의 한종희 부회장이 100인의 CEO 1위에 올랐다. 삼성전자는 그간 한경비즈니스가 조사한 100대 CEO(기업)에서 1위를 놓치지 않았다. 삼성전자는 지난해 반도체 사업에서 15조원에 가까운 적자를 냈고 모바일·가전 등 주력...\n",
      "톱10 ‘전기차 캐즘’ 뚫은 현대차그룹의 질주 LG전자, 최대 매출 달성 삼성전자의 한종희 부회장이 100인의 CEO 1위에 올랐다. 삼성전자는 그간 한경비즈니스가 조사한 100대 CEO(기업)에서 1위를 놓치지 않았다. 삼성전자는 지난해 반도체 사업에서 15조원에 가까운 적자를 냈고 모바일·가전 등 주력...\n",
      "{'label': 'NEGATIVE', 'score': 0.95674}\n",
      "\n",
      "------------------------------\n",
      "\n"
     ]
    }
   ],
   "source": [
    "keyword_list = [\"삼성전자\"]\n",
    "day = \"2024.06.24\"\n",
    "results = naver_news_crawling(keyword_list, day)\n",
    "print(results)\n",
    "#뉴스통해서 받은 제목과 기사내용을 바탕으로 감정분석하기\n",
    "for keyword, articles in results.items():\n",
    "    print(f\"Keyword: {keyword}\")\n",
    "    \n",
    "    for article in articles:\n",
    "        print(f\"Description: {article['dsc']}\")\n",
    "        print(article['dsc'])\n",
    "        returned = get_sentiment(article['dsc'])\n",
    "        print(returned)\n",
    "        print(\"\\n------------------------------\\n\")"
   ]
  },
  {
   "cell_type": "code",
   "execution_count": null,
   "id": "42cb0bcf",
   "metadata": {},
   "outputs": [],
   "source": [
    "connection.close()"
   ]
  },
  {
   "cell_type": "code",
   "execution_count": 10,
   "id": "aa9eac9c",
   "metadata": {},
   "outputs": [
    {
     "name": "stdout",
     "output_type": "stream",
     "text": [
      "USER: hitit-user, HOST: hitit-db-mydata.c9oy8g6q0v76.ap-northeast-2.rds.amazonaws.com, PORT: 3306, DATABASE: ml\n",
      "Connected to MySQL database\n",
      "index : 0/2615, 삼성전자\n",
      "index : 1/2615, 상상인증권\n",
      "index : 2/2615, 백광산업\n",
      "index : 3/2615, 삼성제약\n",
      "index : 4/2615, SG글로벌\n",
      "index : 5/2615, KG케미칼\n",
      "index : 6/2615, 태원물산\n",
      "index : 7/2615, 세아베스틸지주\n",
      "index : 8/2615, 대한전선\n",
      "index : 9/2615, 현대해상\n",
      "index : 10/2615, BYC\n",
      "index : 11/2615, 삼부토건\n",
      "PASS 현대차증권\n",
      "index : 12/2615, 현대차증권\n",
      "index : 13/2615, SK증권\n",
      "index : 14/2615, 동양\n",
      "index : 15/2615, DI동일\n",
      "index : 16/2615, 안국약품\n",
      "index : 17/2615, 조비\n",
      "index : 18/2615, 제일연마\n",
      "index : 19/2615, 금양\n",
      "index : 20/2615, 케이비아이동국실업\n",
      "index : 21/2615, 종근당홀딩스\n",
      "index : 22/2615, 대상\n",
      "index : 23/2615, 신영증권\n"
     ]
    }
   ],
   "source": [
    "from mysqlconnect import connect_to_mysql\n",
    "\n",
    "connection = connect_to_mysql()\n",
    "cursor = connection.cursor()\n",
    "cursor.execute(\"select stock_code,name from stocks_products where (DATE(sentiment_update) IS NULL OR DATE(sentiment_update) <> DATE(NOW()))\")\n",
    "\n",
    "rows = cursor.fetchall()\n",
    "stocks = [ elem[:2] for elem in rows] #(종목코드, 종목명 가져와보리기) DB에서\n",
    "\n",
    "current_date = datetime.now().strftime(\"%Y.%m.%d\")\n",
    "\n",
    "for elem in stocks:\n",
    "    results = naver_news_crawling([elem[1]],current_date)\n",
    "    print(f\"index : {stocks.index(elem)}/{len(stocks)}, {keyword}\")\n",
    "    try : \n",
    "        for keyword, articles in results.items():\n",
    "            positive, negative = 0, 0\n",
    "            for article in articles:          \n",
    "                # print(f\"Description: {article['dsc']}\")\n",
    "                returned = get_sentiment(article['dsc'])\n",
    "                # print(returned)\n",
    "                if returned['label'] == \"NEGATIVE\":\n",
    "                    positive += 1\n",
    "                else :\n",
    "                    negative += 1\n",
    "            # print(f\"positive : {positive}, negative : {negative}\")\n",
    "            sentiment = 1 if positive > negative else 0\n",
    "            \n",
    "            query = f\"\"\"\\\n",
    "            UPDATE stocks_products \n",
    "            SET sentiment = {sentiment} ,\n",
    "            sentiment_update = NOW()\n",
    "            where stock_code = {elem[0]}\n",
    "            \"\"\"\n",
    "            # cursor.execute(query)\n",
    "            connection.commit()\n",
    "    except:\n",
    "        print(f\"PASS {keyword}\")\n",
    "        continue\n",
    "        \n",
    "connection.close()\n",
    "# for ticker in stock.get_market_ticker_list():\n",
    "#         종목 = stock.get_market_ticker_name(ticker)\n",
    "#         print(종목)"
   ]
  },
  {
   "cell_type": "code",
   "execution_count": null,
   "id": "f579f9a2",
   "metadata": {
    "scrolled": true
   },
   "outputs": [],
   "source": [
    "# 모바일 내에서 검색한 뉴스들의 제목 & 내용 가져옴\n",
    "def mobile_news_crawling(keyword_list, day):\n",
    "    result_object = {}  # 결과를 저장할 객체\n",
    "\n",
    "    for keyword in keyword_list:\n",
    "        url = f\"https://m.search.naver.com/search.naver?where=m_news&query={keyword}&sm=mtb_opt&sort=0&photo=0&field=0&pd=3 \\\n",
    "        &ds={day}&de={day}&docid=&related=0&mynews=0&office_type=0&office_section_code=0&news_office_checked=&is_sug_officeid=0 \\\n",
    "        &office_category=0&service_area=0\"\n",
    "        response = requests.get(url)\n",
    "        soup = BeautifulSoup(response.content, 'html.parser')\n",
    "        result = []\n",
    "        for item in soup.select('.list_news .bx'):\n",
    "            \n",
    "            press = item.select_one('a.info.press').get_text().replace(' 선정', '').strip()\n",
    "            anchor = item.select_one('a.news_tit')\n",
    "    \n",
    "            title = anchor.get_text().strip()\n",
    "            url = anchor['href']\n",
    "            dsc = item.select_one('.news_dsc').get_text().strip()\n",
    "            result.append({\n",
    "                'press': press,\n",
    "                'title': title,\n",
    "                'url': url,\n",
    "                'dsc': dsc,\n",
    "            })\n",
    "\n",
    "        result_object[keyword] = result  # 키워드를 키로 사용하여 결과 저장\n",
    "    \n",
    "    return result_object  # 객체 반환\n"
   ]
  },
  {
   "cell_type": "code",
   "execution_count": null,
   "id": "30556e7f",
   "metadata": {},
   "outputs": [
    {
     "name": "stdout",
     "output_type": "stream",
     "text": [
      "2024.06.20\n"
     ]
    }
   ],
   "source": [
    "from datetime import datetime\n",
    "current_date_formatted = datetime.now().strftime(\"%Y.%m.%d\")"
   ]
  },
  {
   "cell_type": "code",
   "execution_count": null,
   "id": "d326f97b",
   "metadata": {},
   "outputs": [
    {
     "name": "stdout",
     "output_type": "stream",
     "text": [
      "\n"
     ]
    }
   ],
   "source": [
    "import requests\n",
    "#네이버 모바일에서의 뉴스 포맷을 크롤링\n",
    "def get_mobile_dsc(url):\n",
    "    response = requests.get(url)\n",
    "    soup = BeautifulSoup(response.content, 'html.parser')\n",
    "    result = []\n",
    "    for item in soup.find('article', id='dic_area'):\n",
    "        result.append(item.get_text(strip=True))\n",
    "    \n",
    "    return result\n",
    "    \n",
    "mobile_result = mobile_news_crawling(['삼성전자'], \"2024.06.01\")\n",
    "get_mobile_dsc(\"https://n.news.naver.com/article/262/0000017491?sid=101\")\n",
    "\n",
    "print()"
   ]
  },
  {
   "cell_type": "code",
   "execution_count": null,
   "id": "311ba778",
   "metadata": {},
   "outputs": [],
   "source": [
    "import requests\n",
    "from bs4 import BeautifulSoup\n",
    "import json\n",
    "import time\n",
    "import random"
   ]
  },
  {
   "cell_type": "code",
   "execution_count": null,
   "id": "89d14736",
   "metadata": {
    "scrolled": true
   },
   "outputs": [],
   "source": [
    "def fetch_page(url):\n",
    "    try:\n",
    "        headers = {\n",
    "            \"User-Agent\": \"Mozilla/5.0 (Windows NT 10.0; Win64; x64) AppleWebKit/537.36 (KHTML, like Gecko) Chrome/58.0.3029.110 Safari/537.3\",\n",
    "        }\n",
    "        response = requests.get(url, headers=headers)\n",
    "        response.raise_for_status()\n",
    "        return response\n",
    "    except requests.RequestException as e:\n",
    "        print(f\"Error fetching page: {url}\", e)\n",
    "        return None\n",
    "\n",
    "def decode_html(response):\n",
    "    content_type = response.headers.get(\"content-type\")\n",
    "    charset = \"UTF-8\"\n",
    "    if \"charset=\" in content_type:\n",
    "        charset = content_type.split(\"charset=\")[1]\n",
    "    return response.content.decode(charset)\n",
    "\n",
    "def fetch_main(url, start_page, end_page):\n",
    "    response = fetch_page(url)\n",
    "    if response:\n",
    "        data = decode_html(response)\n",
    "        soup = BeautifulSoup(data, 'html.parser')\n",
    "        title = \"뉴스 리스트영역\"\n",
    "        name = \"news\"; \n",
    "        \n",
    "        news_src = soup.find('iframe', {'title': title, 'name': name})['src']\n",
    "        news_src = news_src.replace(\"&page=&clusterId=\",\"\")\n",
    "\n",
    "        results = []\n",
    "        for page in range(start_page, end_page + 1):\n",
    "            page_url = f\"{base_url}{news_src}&page={page}\"\n",
    "            results.extend(fetch_news(page_url, end_page))\n",
    "            \n",
    "        return results\n",
    "    \n",
    "#url 하나 당 뉴스 쫘라락 있는데 그거 가져오기\n",
    "def fetch_news(url, end_page): \n",
    "    response = fetch_page(url)\n",
    "    if response:\n",
    "        data = decode_html(response)\n",
    "        soup = BeautifulSoup(data, 'html.parser')\n",
    "        results = []\n",
    "        table_rows = soup.select(\"table.type5 tr\")\n",
    "            \n",
    "        for row in table_rows:\n",
    "            cells = row.find_all('td')\n",
    "            if len(cells) == 3:\n",
    "                title = cells[0].text.strip()\n",
    "                link = base_url + cells[0].a['href']\n",
    "                provider = cells[1].text.strip()\n",
    "                date = cells[2].text.strip()\n",
    "                results.append({\n",
    "                    \"title\": title,\n",
    "                    \"link\": link,\n",
    "                    \"provider\": provider,\n",
    "                    \"date\": date,\n",
    "                })\n",
    "        return results\n",
    "    return []\n",
    "\n"
   ]
  },
  {
   "cell_type": "code",
   "execution_count": null,
   "id": "a3a3f8ff",
   "metadata": {},
   "outputs": [
    {
     "ename": "NameError",
     "evalue": "name 'base_url' is not defined",
     "output_type": "error",
     "traceback": [
      "\u001b[0;31m---------------------------------------------------------------------------\u001b[0m",
      "\u001b[0;31mNameError\u001b[0m                                 Traceback (most recent call last)",
      "Cell \u001b[0;32mIn[11], line 4\u001b[0m\n\u001b[1;32m      1\u001b[0m code \u001b[38;5;241m=\u001b[39m \u001b[38;5;124m\"\u001b[39m\u001b[38;5;124m005930\u001b[39m\u001b[38;5;124m\"\u001b[39m\n\u001b[1;32m      2\u001b[0m url \u001b[38;5;241m=\u001b[39m \u001b[38;5;124mf\u001b[39m\u001b[38;5;124m\"\u001b[39m\u001b[38;5;124mhttps://finance.naver.com/item/news.nhn?code=\u001b[39m\u001b[38;5;132;01m{\u001b[39;00mcode\u001b[38;5;132;01m}\u001b[39;00m\u001b[38;5;124m\"\u001b[39m\n\u001b[0;32m----> 4\u001b[0m returned_data \u001b[38;5;241m=\u001b[39m \u001b[43mfetch_main\u001b[49m\u001b[43m(\u001b[49m\u001b[43murl\u001b[49m\u001b[43m,\u001b[49m\u001b[43m \u001b[49m\u001b[38;5;241;43m1\u001b[39;49m\u001b[43m,\u001b[49m\u001b[43m \u001b[49m\u001b[38;5;241;43m5\u001b[39;49m\u001b[43m)\u001b[49m\n\u001b[1;32m      5\u001b[0m \u001b[38;5;28;01mfor\u001b[39;00m data \u001b[38;5;129;01min\u001b[39;00m returned_data :\n\u001b[1;32m      6\u001b[0m     \u001b[38;5;28mprint\u001b[39m(data[\u001b[38;5;124m'\u001b[39m\u001b[38;5;124mtitle\u001b[39m\u001b[38;5;124m'\u001b[39m])\n",
      "Cell \u001b[0;32mIn[9], line 33\u001b[0m, in \u001b[0;36mfetch_main\u001b[0;34m(url, start_page, end_page)\u001b[0m\n\u001b[1;32m     31\u001b[0m results \u001b[38;5;241m=\u001b[39m []\n\u001b[1;32m     32\u001b[0m \u001b[38;5;28;01mfor\u001b[39;00m page \u001b[38;5;129;01min\u001b[39;00m \u001b[38;5;28mrange\u001b[39m(start_page, end_page \u001b[38;5;241m+\u001b[39m \u001b[38;5;241m1\u001b[39m):\n\u001b[0;32m---> 33\u001b[0m     page_url \u001b[38;5;241m=\u001b[39m \u001b[38;5;124mf\u001b[39m\u001b[38;5;124m\"\u001b[39m\u001b[38;5;132;01m{\u001b[39;00m\u001b[43mbase_url\u001b[49m\u001b[38;5;132;01m}\u001b[39;00m\u001b[38;5;132;01m{\u001b[39;00mnews_src\u001b[38;5;132;01m}\u001b[39;00m\u001b[38;5;124m&page=\u001b[39m\u001b[38;5;132;01m{\u001b[39;00mpage\u001b[38;5;132;01m}\u001b[39;00m\u001b[38;5;124m\"\u001b[39m\n\u001b[1;32m     34\u001b[0m     results\u001b[38;5;241m.\u001b[39mextend(fetch_news(page_url, end_page))\n\u001b[1;32m     36\u001b[0m \u001b[38;5;28;01mreturn\u001b[39;00m results\n",
      "\u001b[0;31mNameError\u001b[0m: name 'base_url' is not defined"
     ]
    }
   ],
   "source": [
    "code = \"005930\"\n",
    "url = f\"https://finance.naver.com/item/news.nhn?code={code}\"\n",
    "\n",
    "returned_data = fetch_main(url, 1, 5)\n",
    "for data in returned_data :\n",
    "    print(data['title'])\n",
    "    print(data['link'])"
   ]
  },
  {
   "cell_type": "code",
   "execution_count": null,
   "id": "b546dbc2",
   "metadata": {},
   "outputs": [
    {
     "name": "stdout",
     "output_type": "stream",
     "text": [
      "Local IP: 172.31.13.91\n"
     ]
    }
   ],
   "source": [
    "import socket\n",
    "\n",
    "def get_local_ip():\n",
    "    try:\n",
    "        hostname = socket.gethostname()\n",
    "        local_ip = socket.gethostbyname(hostname)\n",
    "        return local_ip\n",
    "    except socket.error as e:\n",
    "        print(f\"Error fetching local IP: {e}\")\n",
    "        return None\n",
    "\n",
    "local_ip = get_local_ip()\n",
    "print(f\"Local IP: {local_ip}\")"
   ]
  },
  {
   "cell_type": "code",
   "execution_count": null,
   "id": "836645c0",
   "metadata": {},
   "outputs": [
    {
     "name": "stdout",
     "output_type": "stream",
     "text": [
      "Sentiment analysis result: [{'label': 'NEGATIVE', 'score': 0.98365}]\n",
      "[{'label': 'NEGATIVE', 'score': 0.98365}]\n"
     ]
    }
   ],
   "source": [
    "from transformers import pipeline\n",
    "from flask import Flask, request, jsonify\n",
    "import numpy as np\n",
    "import tensorflow as tf\n",
    "import joblib\n",
    "# 감정 분석 파이프라인 로드\n",
    "\n",
    "def get_sentiment(text):\n",
    "    result = sentiment_model(text)\n",
    "    for elem in result :\n",
    "        if elem['label'] == \"LABEL_1\" :\n",
    "            elem['label'] = \"POSITIVE\"\n",
    "        else :\n",
    "            elem['label'] = \"NEGATIVE\"\n",
    "        elem['score'] = round(elem['score'],5)\n",
    "\n",
    "    print(f\"Sentiment analysis result: {result}\")\n",
    "    return result\n",
    "\n",
    "\n",
    "app = Flask(__name__)\n",
    "\n",
    "@app.route('/sentiment', methods=['POST'])\n",
    "def predict():\n",
    "    global sentiment_model\n",
    "    try:\n",
    "        data = request.json['data']\n",
    "        sentiment_result = get_sentiment(data)\n",
    "        \n",
    "        print(sentiment_result)\n",
    "        return jsonify({'sentiment analysis': sentiment_result })\n",
    "    except Exception as e:\n",
    "        return jsonify({'error': str(e)})\n",
    "\n",
    "if __name__ == \"__main__\":\n",
    "    global sentiment_model\n",
    "    sentiment_model = pipeline(model=\"WhitePeak/bert-base-cased-Korean-sentiment\")\n",
    "    # print(f'Model loaded from {model_path}')\n",
    "\n",
    "    from waitress import serve\n",
    "    serve(app, host=\"0.0.0.0\", port=8080)"
   ]
  },
  {
   "cell_type": "code",
   "execution_count": null,
   "id": "11a897d5",
   "metadata": {},
   "outputs": [],
   "source": []
  }
 ],
 "metadata": {
  "kernelspec": {
   "display_name": "Python 3 (ipykernel)",
   "language": "python",
   "name": "python3"
  },
  "language_info": {
   "codemirror_mode": {
    "name": "ipython",
    "version": 3
   },
   "file_extension": ".py",
   "mimetype": "text/x-python",
   "name": "python",
   "nbconvert_exporter": "python",
   "pygments_lexer": "ipython3",
   "version": "3.12.3"
  }
 },
 "nbformat": 4,
 "nbformat_minor": 5
}

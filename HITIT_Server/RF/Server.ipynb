{
 "cells": [
  {
   "cell_type": "code",
   "execution_count": 22,
   "metadata": {},
   "outputs": [
    {
     "ename": "InvalidSchema",
     "evalue": "No connection adapters were found for \"('http://3.35.20.60:8080/mydata/funds/test',)\"",
     "output_type": "error",
     "traceback": [
      "\u001b[0;31m---------------------------------------------------------------------------\u001b[0m",
      "\u001b[0;31mInvalidSchema\u001b[0m                             Traceback (most recent call last)",
      "Cell \u001b[0;32mIn[22], line 20\u001b[0m\n\u001b[1;32m      5\u001b[0m data \u001b[38;5;241m=\u001b[39m {\n\u001b[1;32m      6\u001b[0m     \u001b[38;5;124m'\u001b[39m\u001b[38;5;124muser_id\u001b[39m\u001b[38;5;124m'\u001b[39m : \u001b[38;5;241m1\u001b[39m,\n\u001b[1;32m      7\u001b[0m     \u001b[38;5;124m'\u001b[39m\u001b[38;5;124muser_test_score\u001b[39m\u001b[38;5;124m'\u001b[39m : \u001b[38;5;241m30\u001b[39m,\n\u001b[0;32m   (...)\u001b[0m\n\u001b[1;32m     16\u001b[0m     \u001b[38;5;124m'\u001b[39m\u001b[38;5;124mwealth\u001b[39m\u001b[38;5;124m'\u001b[39m: \u001b[38;5;241m100000\u001b[39m\n\u001b[1;32m     17\u001b[0m }\n\u001b[1;32m     19\u001b[0m \u001b[38;5;66;03m# POST 요청 보내기\u001b[39;00m\n\u001b[0;32m---> 20\u001b[0m response \u001b[38;5;241m=\u001b[39m \u001b[43mrequests\u001b[49m\u001b[38;5;241;43m.\u001b[39;49m\u001b[43mpost\u001b[49m\u001b[43m(\u001b[49m\u001b[43murl\u001b[49m\u001b[43m,\u001b[49m\u001b[43m \u001b[49m\u001b[43mjson\u001b[49m\u001b[38;5;241;43m=\u001b[39;49m\u001b[43mdata\u001b[49m\u001b[43m,\u001b[49m\u001b[43m \u001b[49m\u001b[43mheaders\u001b[49m\u001b[38;5;241;43m=\u001b[39;49m\u001b[43m{\u001b[49m\u001b[38;5;124;43m'\u001b[39;49m\u001b[38;5;124;43mContent-Type\u001b[39;49m\u001b[38;5;124;43m'\u001b[39;49m\u001b[43m:\u001b[49m\u001b[43m \u001b[49m\u001b[38;5;124;43m'\u001b[39;49m\u001b[38;5;124;43mapplication/json\u001b[39;49m\u001b[38;5;124;43m'\u001b[39;49m\u001b[43m}\u001b[49m\u001b[43m)\u001b[49m\n\u001b[1;32m     22\u001b[0m \u001b[38;5;66;03m# 응답 출력\u001b[39;00m\n\u001b[1;32m     23\u001b[0m \u001b[38;5;28mprint\u001b[39m(response\u001b[38;5;241m.\u001b[39mstatus_code)  \u001b[38;5;66;03m# HTTP 상태 코드 출력\u001b[39;00m\n",
      "File \u001b[0;32m/usr/lib/python3/dist-packages/requests/api.py:115\u001b[0m, in \u001b[0;36mpost\u001b[0;34m(url, data, json, **kwargs)\u001b[0m\n\u001b[1;32m    103\u001b[0m \u001b[38;5;28;01mdef\u001b[39;00m \u001b[38;5;21mpost\u001b[39m(url, data\u001b[38;5;241m=\u001b[39m\u001b[38;5;28;01mNone\u001b[39;00m, json\u001b[38;5;241m=\u001b[39m\u001b[38;5;28;01mNone\u001b[39;00m, \u001b[38;5;241m*\u001b[39m\u001b[38;5;241m*\u001b[39mkwargs):\n\u001b[1;32m    104\u001b[0m \u001b[38;5;250m    \u001b[39m\u001b[38;5;124mr\u001b[39m\u001b[38;5;124;03m\"\"\"Sends a POST request.\u001b[39;00m\n\u001b[1;32m    105\u001b[0m \n\u001b[1;32m    106\u001b[0m \u001b[38;5;124;03m    :param url: URL for the new :class:`Request` object.\u001b[39;00m\n\u001b[0;32m   (...)\u001b[0m\n\u001b[1;32m    112\u001b[0m \u001b[38;5;124;03m    :rtype: requests.Response\u001b[39;00m\n\u001b[1;32m    113\u001b[0m \u001b[38;5;124;03m    \"\"\"\u001b[39;00m\n\u001b[0;32m--> 115\u001b[0m     \u001b[38;5;28;01mreturn\u001b[39;00m \u001b[43mrequest\u001b[49m\u001b[43m(\u001b[49m\u001b[38;5;124;43m\"\u001b[39;49m\u001b[38;5;124;43mpost\u001b[39;49m\u001b[38;5;124;43m\"\u001b[39;49m\u001b[43m,\u001b[49m\u001b[43m \u001b[49m\u001b[43murl\u001b[49m\u001b[43m,\u001b[49m\u001b[43m \u001b[49m\u001b[43mdata\u001b[49m\u001b[38;5;241;43m=\u001b[39;49m\u001b[43mdata\u001b[49m\u001b[43m,\u001b[49m\u001b[43m \u001b[49m\u001b[43mjson\u001b[49m\u001b[38;5;241;43m=\u001b[39;49m\u001b[43mjson\u001b[49m\u001b[43m,\u001b[49m\u001b[43m \u001b[49m\u001b[38;5;241;43m*\u001b[39;49m\u001b[38;5;241;43m*\u001b[39;49m\u001b[43mkwargs\u001b[49m\u001b[43m)\u001b[49m\n",
      "File \u001b[0;32m/usr/lib/python3/dist-packages/requests/api.py:59\u001b[0m, in \u001b[0;36mrequest\u001b[0;34m(method, url, **kwargs)\u001b[0m\n\u001b[1;32m     55\u001b[0m \u001b[38;5;66;03m# By using the 'with' statement we are sure the session is closed, thus we\u001b[39;00m\n\u001b[1;32m     56\u001b[0m \u001b[38;5;66;03m# avoid leaving sockets open which can trigger a ResourceWarning in some\u001b[39;00m\n\u001b[1;32m     57\u001b[0m \u001b[38;5;66;03m# cases, and look like a memory leak in others.\u001b[39;00m\n\u001b[1;32m     58\u001b[0m \u001b[38;5;28;01mwith\u001b[39;00m sessions\u001b[38;5;241m.\u001b[39mSession() \u001b[38;5;28;01mas\u001b[39;00m session:\n\u001b[0;32m---> 59\u001b[0m     \u001b[38;5;28;01mreturn\u001b[39;00m \u001b[43msession\u001b[49m\u001b[38;5;241;43m.\u001b[39;49m\u001b[43mrequest\u001b[49m\u001b[43m(\u001b[49m\u001b[43mmethod\u001b[49m\u001b[38;5;241;43m=\u001b[39;49m\u001b[43mmethod\u001b[49m\u001b[43m,\u001b[49m\u001b[43m \u001b[49m\u001b[43murl\u001b[49m\u001b[38;5;241;43m=\u001b[39;49m\u001b[43murl\u001b[49m\u001b[43m,\u001b[49m\u001b[43m \u001b[49m\u001b[38;5;241;43m*\u001b[39;49m\u001b[38;5;241;43m*\u001b[39;49m\u001b[43mkwargs\u001b[49m\u001b[43m)\u001b[49m\n",
      "File \u001b[0;32m/usr/lib/python3/dist-packages/requests/sessions.py:589\u001b[0m, in \u001b[0;36mSession.request\u001b[0;34m(self, method, url, params, data, headers, cookies, files, auth, timeout, allow_redirects, proxies, hooks, stream, verify, cert, json)\u001b[0m\n\u001b[1;32m    584\u001b[0m send_kwargs \u001b[38;5;241m=\u001b[39m {\n\u001b[1;32m    585\u001b[0m     \u001b[38;5;124m\"\u001b[39m\u001b[38;5;124mtimeout\u001b[39m\u001b[38;5;124m\"\u001b[39m: timeout,\n\u001b[1;32m    586\u001b[0m     \u001b[38;5;124m\"\u001b[39m\u001b[38;5;124mallow_redirects\u001b[39m\u001b[38;5;124m\"\u001b[39m: allow_redirects,\n\u001b[1;32m    587\u001b[0m }\n\u001b[1;32m    588\u001b[0m send_kwargs\u001b[38;5;241m.\u001b[39mupdate(settings)\n\u001b[0;32m--> 589\u001b[0m resp \u001b[38;5;241m=\u001b[39m \u001b[38;5;28;43mself\u001b[39;49m\u001b[38;5;241;43m.\u001b[39;49m\u001b[43msend\u001b[49m\u001b[43m(\u001b[49m\u001b[43mprep\u001b[49m\u001b[43m,\u001b[49m\u001b[43m \u001b[49m\u001b[38;5;241;43m*\u001b[39;49m\u001b[38;5;241;43m*\u001b[39;49m\u001b[43msend_kwargs\u001b[49m\u001b[43m)\u001b[49m\n\u001b[1;32m    591\u001b[0m \u001b[38;5;28;01mreturn\u001b[39;00m resp\n",
      "File \u001b[0;32m/usr/lib/python3/dist-packages/requests/sessions.py:697\u001b[0m, in \u001b[0;36mSession.send\u001b[0;34m(self, request, **kwargs)\u001b[0m\n\u001b[1;32m    694\u001b[0m hooks \u001b[38;5;241m=\u001b[39m request\u001b[38;5;241m.\u001b[39mhooks\n\u001b[1;32m    696\u001b[0m \u001b[38;5;66;03m# Get the appropriate adapter to use\u001b[39;00m\n\u001b[0;32m--> 697\u001b[0m adapter \u001b[38;5;241m=\u001b[39m \u001b[38;5;28;43mself\u001b[39;49m\u001b[38;5;241;43m.\u001b[39;49m\u001b[43mget_adapter\u001b[49m\u001b[43m(\u001b[49m\u001b[43murl\u001b[49m\u001b[38;5;241;43m=\u001b[39;49m\u001b[43mrequest\u001b[49m\u001b[38;5;241;43m.\u001b[39;49m\u001b[43murl\u001b[49m\u001b[43m)\u001b[49m\n\u001b[1;32m    699\u001b[0m \u001b[38;5;66;03m# Start time (approximately) of the request\u001b[39;00m\n\u001b[1;32m    700\u001b[0m start \u001b[38;5;241m=\u001b[39m preferred_clock()\n",
      "File \u001b[0;32m/usr/lib/python3/dist-packages/requests/sessions.py:794\u001b[0m, in \u001b[0;36mSession.get_adapter\u001b[0;34m(self, url)\u001b[0m\n\u001b[1;32m    791\u001b[0m         \u001b[38;5;28;01mreturn\u001b[39;00m adapter\n\u001b[1;32m    793\u001b[0m \u001b[38;5;66;03m# Nothing matches :-/\u001b[39;00m\n\u001b[0;32m--> 794\u001b[0m \u001b[38;5;28;01mraise\u001b[39;00m InvalidSchema(\u001b[38;5;124mf\u001b[39m\u001b[38;5;124m\"\u001b[39m\u001b[38;5;124mNo connection adapters were found for \u001b[39m\u001b[38;5;132;01m{\u001b[39;00murl\u001b[38;5;132;01m!r}\u001b[39;00m\u001b[38;5;124m\"\u001b[39m)\n",
      "\u001b[0;31mInvalidSchema\u001b[0m: No connection adapters were found for \"('http://3.35.20.60:8080/mydata/funds/test',)\""
     ]
    }
   ],
   "source": [
    "import requests\n",
    "url = 'http://3.35.20.60:8080/mydata/funds/test',\n",
    "\n",
    "\n",
    "data = {\n",
    "    'user_id' : 1,\n",
    "    'user_test_score' : 30,\n",
    "    'transactions': [\n",
    "        {'date' : '2024-03-02', 'type' : 'buy', 'code' : '000340'},\n",
    "        {'date' : '2024-03-02', 'type' : 'sell', 'code' : '000340'}\n",
    "    ],\n",
    "    'stockBalance': [\n",
    "        '460930', '000150', '000990'\n",
    "    ],\n",
    "    'age': 24,\n",
    "    'wealth': 100000\n",
    "}\n",
    "\n",
    "# POST 요청 보내기\n",
    "response = requests.post(url, json=data, headers={'Content-Type': 'application/json'})\n",
    "\n",
    "# 응답 출력\n",
    "print(response.status_code)  # HTTP 상태 코드 출력\n",
    "print(response.json())       # JSON 응답 본문 출력\n"
   ]
  },
  {
   "cell_type": "code",
   "execution_count": 20,
   "metadata": {},
   "outputs": [
    {
     "name": "stdout",
     "output_type": "stream",
     "text": [
      "200\n",
      "{'response': [{'fund_class': '적극투자형', 'funds': [{'arima_percent': 5.92, 'arima_price': 3505.339917148206, 'arima_update': 'Tue, 25 Jun 2024 00:00:00 GMT', 'bond': 0.0, 'bond_foreign': 0.0, 'bond_ratio': 0.0, 'c': 54.11, 'company_name': '브레인자산운용', 'drv_nav': 954.2, 'etc': 21.03, 'fund_code': 'K55454C64299', 'fund_name': '브레인코스닥벤처증권투자신탁(주식혼합)', 'fund_type': '액티브주식중소형', 'fund_type_detail': '국내주식형', 'hashtag': '#국내주식형#공모주펀드#코스닥벤처펀드', 'investment': 0.0, 'return_1m': 4.47, 'return_3m': 7.74, 'return_3y': 101.41, 'return_5y': 239.48, 'return_6m': 40.86, 'return_idx': 241.09, 'return_ytd': 32.97, 'risk_grade': 2, 'risk_grade_txt': '높은 위험', 'set_amount': 285, 'set_date': 'Thu, 05 Apr 2018 00:00:00 GMT', 'std_price': 3353.85, 'stock': 78.97, 'stock_foreign': '0.00', 'stock_ratio': 100.0}, {'arima_percent': 6.62, 'arima_price': 3265.2837807635046, 'arima_update': 'Tue, 25 Jun 2024 00:00:00 GMT', 'bond': 0.0, 'bond_foreign': 0.0, 'bond_ratio': 0.0, 'c': 53.31, 'company_name': '유진자산운용', 'drv_nav': 109.49, 'etc': 3.1, 'fund_code': 'K55214C96786', 'fund_name': '유진챔피언뉴이코노미4.0증권모투자신탁[주식]', 'fund_type': '북미주식', 'fund_type_detail': '해외주식형', 'hashtag': '#해외주식형#모펀드', 'investment': 17.55, 'return_1m': 12.82, 'return_3m': 19.4, 'return_3y': 87.15, 'return_5y': 186.87, 'return_6m': 37.04, 'return_idx': 226.68, 'return_ytd': 35.68, 'risk_grade': 2, 'risk_grade_txt': '높은 위험', 'set_amount': 35, 'set_date': 'Mon, 02 Jul 2018 00:00:00 GMT', 'std_price': 3100.45, 'stock': 0.0, 'stock_foreign': '79.35', 'stock_ratio': 100.0}, {'arima_percent': 5.84, 'arima_price': 3139.6432071466484, 'arima_update': 'Tue, 25 Jun 2024 00:00:00 GMT', 'bond': 0.0, 'bond_foreign': 0.0, 'bond_ratio': 0.0, 'c': 55.43, 'company_name': '신한자산운용', 'drv_nav': 303.1, 'etc': 4.59, 'fund_code': 'KR5210725481', 'fund_name': '신한인디아증권모투자신탁[주식]', 'fund_type': '신흥아시아주식', 'fund_type_detail': '해외주식형', 'hashtag': '#해외주식형#모펀드#인도', 'investment': 0.0, 'return_1m': 8.91, 'return_3m': 17.12, 'return_3y': 85.56, 'return_5y': 143.57, 'return_6m': 28.52, 'return_idx': 559.01, 'return_ytd': 29.06, 'risk_grade': 2, 'risk_grade_txt': '높은 위험', 'set_amount': 103, 'set_date': 'Tue, 14 Aug 2007 00:00:00 GMT', 'std_price': 2953.74, 'stock': 0.0, 'stock_foreign': '95.41', 'stock_ratio': 100.0}, {'arima_percent': 0.64, 'arima_price': 1046.1797696969347, 'arima_update': 'Tue, 25 Jun 2024 00:00:00 GMT', 'bond': 30.91, 'bond_foreign': 0.0, 'bond_ratio': 100.0, 'c': 5.58, 'company_name': '코레이트자산운용', 'drv_nav': 7958.06, 'etc': 69.09, 'fund_code': 'K55310BZ6919', 'fund_name': '코레이트셀렉트단기채증권투자신탁[채권]', 'fund_type': '일반채권', 'fund_type_detail': '국내채권형', 'hashtag': '#국내채권형', 'investment': 0.0, 'return_1m': 0.41, 'return_3m': 1.29, 'return_3y': 11.71, 'return_5y': 17.41, 'return_6m': 2.7, 'return_idx': 23.61, 'return_ytd': 2.47, 'risk_grade': 6, 'risk_grade_txt': '매우 낮은 위험', 'set_amount': 7662, 'set_date': 'Wed, 13 Dec 2017 00:00:00 GMT', 'std_price': 1038.68, 'stock': 0.0, 'stock_foreign': '0.00', 'stock_ratio': 0.0}, {'arima_percent': -0.54, 'arima_price': 1031.8723076923102, 'arima_update': 'Tue, 25 Jun 2024 00:00:00 GMT', 'bond': 71.47, 'bond_foreign': 0.0, 'bond_ratio': 100.0, 'c': 5.42, 'company_name': '아이비케이자산운용', 'drv_nav': 1.28, 'etc': 28.53, 'fund_code': 'K55234BB1788', 'fund_name': 'IBKSaveAsset단기채증권자투자신탁[채권]', 'fund_type': '일반채권', 'fund_type_detail': '국내채권형', 'hashtag': '#국내채권형', 'investment': 0.0, 'return_1m': 0.42, 'return_3m': 1.28, 'return_3y': 10.49, 'return_5y': 15.78, 'return_6m': 2.55, 'return_idx': 23.58, 'return_ytd': 2.34, 'risk_grade': 6, 'risk_grade_txt': '매우 낮은 위험', 'set_amount': 1, 'set_date': 'Wed, 16 Mar 2016 00:00:00 GMT', 'std_price': 1036.61, 'stock': 0.0, 'stock_foreign': '0.00', 'stock_ratio': 0.0}]}, {'fund_class': '위험중립형', 'funds': [{'arima_percent': 4.97, 'arima_price': 20313.685540674676, 'arima_update': 'Tue, 25 Jun 2024 00:00:00 GMT', 'bond': 0.0, 'bond_foreign': 0.0, 'bond_ratio': 0.0, 'c': 31.08, 'company_name': '에셋플러스자산운용', 'drv_nav': 534.89, 'etc': 3.13, 'fund_code': 'K55364CF6685', 'fund_name': '에셋플러스슈퍼아시아리치투게더증권모투자신탁(USD)[주식]', 'fund_type': '신흥아시아주식', 'fund_type_detail': '해외주식형', 'hashtag': '#해외주식형#외화기준가제공펀드#모펀드', 'investment': 3.6, 'return_1m': 4.55, 'return_3m': 10.41, 'return_3y': 32.45, 'return_5y': 76.09, 'return_6m': 25.92, 'return_idx': 79.96, 'return_ytd': 23.83, 'risk_grade': 3, 'risk_grade_txt': '다소 높은 위험', 'set_amount': 315, 'set_date': 'Mon, 01 Apr 2019 00:00:00 GMT', 'std_price': 19223.0, 'stock': 0.0, 'stock_foreign': '93.27', 'stock_ratio': 100.0}, {'arima_percent': 4.76, 'arima_price': 3014.609397993206, 'arima_update': 'Tue, 25 Jun 2024 00:00:00 GMT', 'bond': 0.0, 'bond_foreign': 0.0, 'bond_ratio': 0.0, 'c': 36.08, 'company_name': '한국투자신탁운용', 'drv_nav': 3652.36, 'etc': 5.31, 'fund_code': 'K55101BD5035', 'fund_name': '한국투자웰링턴글로벌퀄리티증권모투자신탁(주식)', 'fund_type': '글로벌주식', 'fund_type_detail': '해외주식형', 'hashtag': '#해외주식형#모펀드', 'investment': 2.36, 'return_1m': 3.45, 'return_3m': 7.79, 'return_3y': 41.28, 'return_5y': 101.41, 'return_6m': 23.51, 'return_idx': 207.98, 'return_ytd': 22.44, 'risk_grade': 3, 'risk_grade_txt': '다소 높은 위험', 'set_amount': 1282, 'set_date': 'Fri, 20 May 2016 00:00:00 GMT', 'std_price': 2849.72, 'stock': 0.0, 'stock_foreign': '92.33', 'stock_ratio': 100.0}, {'arima_percent': 4.15, 'arima_price': 1675.6717646046015, 'arima_update': 'Tue, 25 Jun 2024 00:00:00 GMT', 'bond': 0.0, 'bond_foreign': 0.0, 'bond_ratio': 0.0, 'c': 24.06, 'company_name': '신한자산운용', 'drv_nav': 30.53, 'etc': 6.59, 'fund_code': 'K55210BJ6555', 'fund_name': '신한유럽배당증권모투자신탁 1[주식]', 'fund_type': '유럽주식', 'fund_type_detail': '해외주식형', 'hashtag': '#해외주식형#모펀드#배당주펀드', 'investment': 0.0, 'return_1m': 1.09, 'return_3m': 6.32, 'return_3y': 46.7, 'return_5y': 71.62, 'return_6m': 18.75, 'return_idx': 92.78, 'return_ytd': 17.29, 'risk_grade': 3, 'risk_grade_txt': '다소 높은 위험', 'set_amount': 19, 'set_date': 'Thu, 15 Dec 2016 00:00:00 GMT', 'std_price': 1594.0, 'stock': 0.0, 'stock_foreign': '93.41', 'stock_ratio': 100.0}, {'arima_percent': 0.64, 'arima_price': 1046.1797696969347, 'arima_update': 'Tue, 25 Jun 2024 00:00:00 GMT', 'bond': 30.91, 'bond_foreign': 0.0, 'bond_ratio': 100.0, 'c': 5.58, 'company_name': '코레이트자산운용', 'drv_nav': 7958.06, 'etc': 69.09, 'fund_code': 'K55310BZ6919', 'fund_name': '코레이트셀렉트단기채증권투자신탁[채권]', 'fund_type': '일반채권', 'fund_type_detail': '국내채권형', 'hashtag': '#국내채권형', 'investment': 0.0, 'return_1m': 0.41, 'return_3m': 1.29, 'return_3y': 11.71, 'return_5y': 17.41, 'return_6m': 2.7, 'return_idx': 23.61, 'return_ytd': 2.47, 'risk_grade': 6, 'risk_grade_txt': '매우 낮은 위험', 'set_amount': 7662, 'set_date': 'Wed, 13 Dec 2017 00:00:00 GMT', 'std_price': 1038.68, 'stock': 0.0, 'stock_foreign': '0.00', 'stock_ratio': 0.0}, {'arima_percent': -0.54, 'arima_price': 1031.8723076923102, 'arima_update': 'Tue, 25 Jun 2024 00:00:00 GMT', 'bond': 71.47, 'bond_foreign': 0.0, 'bond_ratio': 100.0, 'c': 5.42, 'company_name': '아이비케이자산운용', 'drv_nav': 1.28, 'etc': 28.53, 'fund_code': 'K55234BB1788', 'fund_name': 'IBKSaveAsset단기채증권자투자신탁[채권]', 'fund_type': '일반채권', 'fund_type_detail': '국내채권형', 'hashtag': '#국내채권형', 'investment': 0.0, 'return_1m': 0.42, 'return_3m': 1.28, 'return_3y': 10.49, 'return_5y': 15.78, 'return_6m': 2.55, 'return_idx': 23.58, 'return_ytd': 2.34, 'risk_grade': 6, 'risk_grade_txt': '매우 낮은 위험', 'set_amount': 1, 'set_date': 'Wed, 16 Mar 2016 00:00:00 GMT', 'std_price': 1036.61, 'stock': 0.0, 'stock_foreign': '0.00', 'stock_ratio': 0.0}]}, {'fund_class': '안정추구형', 'funds': [{'arima_percent': 3.78, 'arima_price': 2061.43462612852, 'arima_update': 'Tue, 25 Jun 2024 00:00:00 GMT', 'bond': 0.0, 'bond_foreign': 0.0, 'bond_ratio': 0.0, 'c': 23.13, 'company_name': '삼성자산운용', 'drv_nav': 51.75, 'etc': 3.69, 'fund_code': 'KR5105AK2164', 'fund_name': '삼성미국코어밸런스증권모투자신탁[주식혼합-재간접형]', 'fund_type': '해외자산배분', 'fund_type_detail': '해외혼합형', 'hashtag': '#해외혼합형#모펀드#북미', 'investment': 81.74, 'return_1m': 4.53, 'return_3m': 8.14, 'return_3y': 27.38, 'return_5y': 59.87, 'return_6m': 17.01, 'return_idx': 169.11, 'return_ytd': 16.47, 'risk_grade': 4, 'risk_grade_txt': '보통 위험', 'set_amount': 26, 'set_date': 'Wed, 02 Oct 2013 00:00:00 GMT', 'std_price': 1983.34, 'stock': 0.0, 'stock_foreign': '14.57', 'stock_ratio': 100.0}, {'arima_percent': 2.45, 'arima_price': 1194.4205128205099, 'arima_update': 'Tue, 25 Jun 2024 00:00:00 GMT', 'bond': 0.0, 'bond_foreign': 0.0, 'bond_ratio': None, 'c': 16.97, 'company_name': '엔에이치아문디자산운용', 'drv_nav': 78.26, 'etc': 5.26, 'fund_code': 'K55232C14542', 'fund_name': 'NH-AmundiQV글로벌자산배분EMP증권투자신탁[혼합-재간접형]', 'fund_type': '해외자산배분', 'fund_type_detail': '해외혼합형', 'hashtag': '#해외혼합형#글로벌', 'investment': 94.74, 'return_1m': 3.73, 'return_3m': 7.41, 'return_3y': 12.43, 'return_5y': 36.58, 'return_6m': 13.68, 'return_idx': 30.62, 'return_ytd': 12.46, 'risk_grade': 4, 'risk_grade_txt': '보통 위험', 'set_amount': 67, 'set_date': 'Mon, 05 Feb 2018 00:00:00 GMT', 'std_price': 1166.0, 'stock': 0.0, 'stock_foreign': '0.00', 'stock_ratio': None}, {'arima_percent': 2.18, 'arima_price': 1377.3986960743637, 'arima_update': 'Tue, 25 Jun 2024 00:00:00 GMT', 'bond': 0.0, 'bond_foreign': 0.0, 'bond_ratio': None, 'c': 14.55, 'company_name': '신한자산운용', 'drv_nav': 2.07, 'etc': 7.44, 'fund_code': 'K55210B80483', 'fund_name': '신한연금저축POP펀드셀렉션60증권자투자신탁[주식혼합-재간접형]', 'fund_type': '해외자산배분', 'fund_type_detail': '해외혼합형', 'hashtag': '#해외혼합형#연금저축#글로벌', 'investment': 92.56, 'return_1m': 1.58, 'return_3m': 4.56, 'return_3y': 8.69, 'return_5y': 37.98, 'return_6m': 10.19, 'return_idx': 49.06, 'return_ytd': 8.24, 'risk_grade': 4, 'risk_grade_txt': '보통 위험', 'set_amount': 2, 'set_date': 'Fri, 16 Oct 2015 00:00:00 GMT', 'std_price': 1343.95, 'stock': 0.0, 'stock_foreign': '0.00', 'stock_ratio': None}, {'arima_percent': 0.64, 'arima_price': 1046.1797696969347, 'arima_update': 'Tue, 25 Jun 2024 00:00:00 GMT', 'bond': 30.91, 'bond_foreign': 0.0, 'bond_ratio': 100.0, 'c': 5.58, 'company_name': '코레이트자산운용', 'drv_nav': 7958.06, 'etc': 69.09, 'fund_code': 'K55310BZ6919', 'fund_name': '코레이트셀렉트단기채증권투자신탁[채권]', 'fund_type': '일반채권', 'fund_type_detail': '국내채권형', 'hashtag': '#국내채권형', 'investment': 0.0, 'return_1m': 0.41, 'return_3m': 1.29, 'return_3y': 11.71, 'return_5y': 17.41, 'return_6m': 2.7, 'return_idx': 23.61, 'return_ytd': 2.47, 'risk_grade': 6, 'risk_grade_txt': '매우 낮은 위험', 'set_amount': 7662, 'set_date': 'Wed, 13 Dec 2017 00:00:00 GMT', 'std_price': 1038.68, 'stock': 0.0, 'stock_foreign': '0.00', 'stock_ratio': 0.0}, {'arima_percent': -0.54, 'arima_price': 1031.8723076923102, 'arima_update': 'Tue, 25 Jun 2024 00:00:00 GMT', 'bond': 71.47, 'bond_foreign': 0.0, 'bond_ratio': 100.0, 'c': 5.42, 'company_name': '아이비케이자산운용', 'drv_nav': 1.28, 'etc': 28.53, 'fund_code': 'K55234BB1788', 'fund_name': 'IBKSaveAsset단기채증권자투자신탁[채권]', 'fund_type': '일반채권', 'fund_type_detail': '국내채권형', 'hashtag': '#국내채권형', 'investment': 0.0, 'return_1m': 0.42, 'return_3m': 1.28, 'return_3y': 10.49, 'return_5y': 15.78, 'return_6m': 2.55, 'return_idx': 23.58, 'return_ytd': 2.34, 'risk_grade': 6, 'risk_grade_txt': '매우 낮은 위험', 'set_amount': 1, 'set_date': 'Wed, 16 Mar 2016 00:00:00 GMT', 'std_price': 1036.61, 'stock': 0.0, 'stock_foreign': '0.00', 'stock_ratio': 0.0}]}]}\n"
     ]
    }
   ],
   "source": [
    "import requests\n",
    "url = 'http://localhost:8080/mydata/fundss'\n",
    "\n",
    "data = {\n",
    "    'user_id' : 2,\n",
    "    'level' : 2\n",
    "}\n",
    "\n",
    "# POST 요청 보내기\n",
    "response = requests.post(url, json=data, headers={'Content-Type': 'application/json'})\n",
    "\n",
    "# 응답 출력\n",
    "print(response.status_code)  # HTTP 상태 코드 출력\n",
    "print(response.json())       # JSON 응답 본문 출력\n"
   ]
  },
  {
   "cell_type": "markdown",
   "metadata": {},
   "source": []
  },
  {
   "cell_type": "code",
   "execution_count": 42,
   "metadata": {},
   "outputs": [
    {
     "name": "stdout",
     "output_type": "stream",
     "text": [
      "200\n",
      "{'response': {'funds': [{'fund_code': 'K55101C35296', 'stocks': [{'bad_news_title': '\"삼성 없으면 큰일날 판\"…생각보다 심각한 상황이라는데', 'bad_news_url': 'https://www.hankyung.com/article/202406235264i', 'income': '6567000000000', 'rev': '258935500000000', 'stock_code': '005930', 'stock_name': '삼성전자'}, {'bad_news_title': '바이오시밀러 교차처방 허들 낮추는 美 FDA…셀트리온·삼성바이오에피스 호...', 'bad_news_url': 'https://www.hankyung.com/article/202406212998i', 'income': '651500000000', 'rev': '2176400000000', 'stock_code': '068270', 'stock_name': '셀트리온'}]}], 'user_id': 1, 'weights': [0.307, 0.158, 0.109, 0.109, 0.158, 0.158]}}\n"
     ]
    }
   ],
   "source": [
    "import requests\n",
    "url = 'http://localhost:8080/rebal/getweight'\n",
    "\n",
    "data = {\n",
    "    \"user_id\" : 1,\n",
    "    \"stock_fund_count\" :3,\n",
    "    \"funds\" : [\n",
    "        # {\"fund_code\" : \"K55101C35296\",\"weight\" : 0.3},\n",
    "        # {\"fund_code\" : \"K55101C35403\",\"weight\" : 0.2},\n",
    "        # {\"fund_code\" : \"K55101C35437\",\"weight\" : 0.2},\n",
    "        # {\"fund_code\" : \"K55101B46238\",\"weight\" : 0.15},\n",
    "        # {\"fund_code\" : \"K55101B47624\",\"weight\" : 0.15}\n",
    "        {\"fund_code\" : \"K55101C35296\",\"weight\" : 0.3},\n",
    "        {\"fund_code\" : \"K55102C00249\",\"weight\" : 0.2},\n",
    "        {\"fund_code\" : \"K55105B83372\",\"weight\" : 0.1},\n",
    "        {\"fund_code\" : \"K55105BS8301\",\"weight\" : 0.1},\n",
    "        {\"fund_code\" : \"K55101B46238\",\"weight\" : 0.15},\n",
    "        {\"fund_code\" : \"K55101B47624\",\"weight\" : 0.15}\n",
    "    ]\n",
    "}\n",
    "\n",
    "# POST 요청 보내기\n",
    "response = requests.post(url, json=data, headers={'Content-Type': 'application/json'})\n",
    "\n",
    "# 응답 출력\n",
    "print(response.status_code)  # HTTP 상태 코드 출력\n",
    "print(response.json())       # JSON 응답 본문 출력\n"
   ]
  },
  {
   "cell_type": "code",
   "execution_count": 7,
   "metadata": {},
   "outputs": [
    {
     "name": "stdout",
     "output_type": "stream",
     "text": [
      "200\n",
      "{'response': {'income': 6566976000000, 'rev': 258935494000000}}\n"
     ]
    }
   ],
   "source": [
    "import requests\n",
    "url = 'http://localhost:8080/dart/info'\n",
    "\n",
    "data = {\n",
    "    'stock_name' : \"삼성전자\"\n",
    "}\n",
    "# GET 요청 보내기\n",
    "response = requests.post(url, json=data, headers={'Content-Type': 'application/json'})\n",
    "\n",
    "# 응답 출력\n",
    "print(response.status_code)  # HTTP 상태 코드 출력\n",
    "print(response.json())       # JSON 응답 본문 출력"
   ]
  },
  {
   "cell_type": "code",
   "execution_count": 62,
   "metadata": {},
   "outputs": [
    {
     "name": "stdout",
     "output_type": "stream",
     "text": [
      "0\n",
      "1\n",
      "2\n",
      "3\n",
      "4\n",
      "5\n",
      "6\n",
      "7\n",
      "8\n",
      "9\n",
      "10\n",
      "11\n",
      "12\n",
      "13\n",
      "14\n",
      "15\n",
      "16\n",
      "17\n",
      "18\n",
      "19\n",
      "20\n",
      "21\n",
      "22\n",
      "23\n",
      "24\n",
      "25\n",
      "26\n",
      "27\n",
      "28\n",
      "29\n",
      "30\n",
      "31\n",
      "32\n",
      "33\n",
      "34\n",
      "35\n",
      "36\n",
      "37\n",
      "38\n",
      "39\n",
      "40\n",
      "41\n",
      "42\n",
      "43\n",
      "44\n",
      "45\n",
      "46\n",
      "47\n",
      "48\n",
      "49\n",
      "50\n",
      "51\n",
      "52\n",
      "53\n",
      "54\n",
      "55\n",
      "56\n",
      "57\n",
      "58\n",
      "59\n",
      "60\n",
      "61\n",
      "62\n",
      "63\n",
      "64\n",
      "65\n",
      "66\n",
      "67\n",
      "68\n",
      "69\n",
      "70\n",
      "71\n",
      "72\n",
      "73\n",
      "74\n",
      "75\n",
      "76\n",
      "77\n",
      "78\n",
      "79\n",
      "80\n",
      "81\n",
      "82\n",
      "83\n",
      "84\n",
      "85\n",
      "86\n",
      "87\n",
      "88\n",
      "89\n",
      "90\n",
      "91\n",
      "92\n",
      "93\n",
      "94\n",
      "95\n",
      "96\n",
      "97\n",
      "98\n",
      "99\n",
      "100\n",
      "101\n",
      "102\n",
      "103\n",
      "104\n",
      "105\n",
      "106\n",
      "107\n",
      "108\n",
      "109\n",
      "110\n",
      "111\n",
      "112\n",
      "113\n",
      "114\n",
      "115\n",
      "116\n",
      "117\n",
      "118\n",
      "119\n",
      "120\n",
      "121\n",
      "122\n",
      "123\n",
      "124\n",
      "125\n",
      "126\n",
      "127\n",
      "128\n",
      "129\n",
      "130\n",
      "131\n",
      "132\n",
      "133\n",
      "134\n",
      "135\n",
      "136\n",
      "137\n",
      "138\n",
      "139\n",
      "140\n",
      "141\n",
      "142\n",
      "143\n",
      "144\n",
      "145\n",
      "146\n",
      "147\n",
      "148\n",
      "149\n",
      "150\n",
      "151\n",
      "152\n",
      "153\n",
      "154\n",
      "155\n",
      "156\n",
      "157\n",
      "158\n",
      "159\n",
      "160\n",
      "161\n",
      "162\n",
      "163\n",
      "164\n",
      "165\n",
      "166\n",
      "167\n",
      "168\n",
      "169\n",
      "170\n",
      "171\n",
      "172\n",
      "173\n",
      "174\n",
      "175\n",
      "176\n",
      "177\n",
      "178\n",
      "179\n",
      "180\n",
      "181\n",
      "182\n",
      "183\n",
      "184\n",
      "185\n",
      "186\n",
      "187\n",
      "188\n",
      "189\n",
      "190\n",
      "191\n",
      "192\n",
      "193\n",
      "194\n",
      "195\n",
      "196\n",
      "197\n",
      "198\n",
      "199\n"
     ]
    }
   ],
   "source": [
    "for i in range(200):\n",
    "    print(i)"
   ]
  },
  {
   "cell_type": "code",
   "execution_count": 6,
   "metadata": {},
   "outputs": [
    {
     "name": "stdout",
     "output_type": "stream",
     "text": [
      "200\n",
      "{'response': [{'fund_class': '위험중립형', 'funds': [{'arima_percent': 3.29, 'arima_price': 2309.018260869564, 'arima_update': 'Mon, 24 Jun 2024 00:00:00 GMT', 'bond': 0.0, 'bond_foreign': 0.0, 'bond_ratio': 0.0, 'c': 21.3, 'company_name': '한국투자신탁운용', 'drv_nav': 105.2, 'etc': 2.7, 'fund_code': 'KR5101521627', 'fund_name': '한국투자테크증권자투자신탁 1(주식)', 'fund_type': '액티브주식일반', 'fund_type_detail': '국내주식형', 'hashtag': '#국내주식형', 'investment': 0.0, 'return_1m': 7.32, 'return_3m': 18.1, 'return_3y': 41.74, 'return_5y': 123.84, 'return_6m': 18.61, 'return_idx': 776.37, 'return_ytd': 13.97, 'risk_grade': 3, 'risk_grade_txt': '다소 높은 위험', 'set_amount': 48, 'set_date': 'Thu, 03 Mar 2005 00:00:00 GMT', 'std_price': 2206.08, 'stock': 97.3, 'stock_foreign': '0.00', 'stock_ratio': 100.0}, {'arima_percent': 3.94, 'arima_price': 1591.0091304347839, 'arima_update': 'Mon, 24 Jun 2024 00:00:00 GMT', 'bond': 0.0, 'bond_foreign': 0.0, 'bond_ratio': 0.0, 'c': 20.66, 'company_name': '엔에이치아문디자산운용', 'drv_nav': 55.2, 'etc': 8.72, 'fund_code': 'K55232BU5804', 'fund_name': 'NH-Amundi4차산업혁명연금증권전환형자투자신탁[주식]ClassS-P', 'fund_type': '액티브주식테마', 'fund_type_detail': '국내주식형', 'hashtag': '#국내주식형#SRI(국내주식)#엄브렐러#연금저축#S클래스#녹색성장펀드(국내)#4차산업#녹색성장펀드', 'investment': 0.0, 'return_1m': 5.44, 'return_3m': 14.1, 'return_3y': 2.6, 'return_5y': 71.52, 'return_6m': 19.86, 'return_idx': 56.45, 'return_ytd': 16.88, 'risk_grade': 3, 'risk_grade_txt': '다소 높은 위험', 'set_amount': 1, 'set_date': 'Wed, 27 Dec 2017 00:00:00 GMT', 'std_price': 1518.72, 'stock': 91.28, 'stock_foreign': '0.00', 'stock_ratio': 100.0}, {'arima_percent': 2.6, 'arima_price': 1541.1299999999987, 'arima_update': 'Mon, 24 Jun 2024 00:00:00 GMT', 'bond': 0.0, 'bond_foreign': 0.0, 'bond_ratio': 0.0, 'c': 9.25, 'company_name': '신한자산운용', 'drv_nav': 11.53, 'etc': 7.78, 'fund_code': 'KR5210766782', 'fund_name': '신한친디한증권자투자신탁(H)[주식](종류)', 'fund_type': '국내외주식', 'fund_type_detail': '해외주식형', 'hashtag': '#해외주식형#친디아', 'investment': 0.0, 'return_1m': 1.44, 'return_3m': 6.9, 'return_3y': -14.54, 'return_5y': 37.01, 'return_6m': 11.96, 'return_idx': 61.58, 'return_ytd': 10.44, 'risk_grade': 3, 'risk_grade_txt': '다소 높은 위험', 'set_amount': 8, 'set_date': 'Fri, 30 Nov 2007 00:00:00 GMT', 'std_price': 1493.83, 'stock': 23.7, 'stock_foreign': '68.52', 'stock_ratio': 100.0}, {'arima_percent': 0.65, 'arima_price': 1045.7110199689776, 'arima_update': 'Mon, 24 Jun 2024 00:00:00 GMT', 'bond': 30.91, 'bond_foreign': 0.0, 'bond_ratio': 100.0, 'c': 5.58, 'company_name': '코레이트자산운용', 'drv_nav': 7958.06, 'etc': 69.09, 'fund_code': 'K55310BZ6919', 'fund_name': '코레이트셀렉트단기채증권투자신탁[채권]', 'fund_type': '일반채권', 'fund_type_detail': '국내채권형', 'hashtag': '#국내채권형', 'investment': 0.0, 'return_1m': 0.41, 'return_3m': 1.29, 'return_3y': 11.71, 'return_5y': 17.41, 'return_6m': 2.7, 'return_idx': 23.61, 'return_ytd': 2.47, 'risk_grade': 6, 'risk_grade_txt': '매우 낮은 위험', 'set_amount': 7662, 'set_date': 'Wed, 13 Dec 2017 00:00:00 GMT', 'std_price': 1038.68, 'stock': 0.0, 'stock_foreign': '0.00', 'stock_ratio': 0.0}, {'arima_percent': -0.56, 'arima_price': 1031.0939130434763, 'arima_update': 'Mon, 24 Jun 2024 00:00:00 GMT', 'bond': 71.47, 'bond_foreign': 0.0, 'bond_ratio': 100.0, 'c': 5.42, 'company_name': '아이비케이자산운용', 'drv_nav': 1.28, 'etc': 28.53, 'fund_code': 'K55234BB1788', 'fund_name': 'IBKSaveAsset단기채증권자투자신탁[채권]', 'fund_type': '일반채권', 'fund_type_detail': '국내채권형', 'hashtag': '#국내채권형', 'investment': 0.0, 'return_1m': 0.42, 'return_3m': 1.28, 'return_3y': 10.49, 'return_5y': 15.78, 'return_6m': 2.55, 'return_idx': 23.58, 'return_ytd': 2.34, 'risk_grade': 6, 'risk_grade_txt': '매우 낮은 위험', 'set_amount': 1, 'set_date': 'Wed, 16 Mar 2016 00:00:00 GMT', 'std_price': 1036.61, 'stock': 0.0, 'stock_foreign': '0.00', 'stock_ratio': 0.0}]}, {'fund_class': '안정추구형', 'funds': [{'arima_percent': 2.2, 'arima_price': 1397.0934782608717, 'arima_update': 'Mon, 24 Jun 2024 00:00:00 GMT', 'bond': 53.08, 'bond_foreign': 0.0, 'bond_ratio': 61.52, 'c': 13.91, 'company_name': '브이아이자산운용', 'drv_nav': 18.73, 'etc': 13.72, 'fund_code': 'K55104BW3539', 'fund_name': '브이아이퇴직연금중소형주플러스40증권자투자신탁1[채권혼합]C-Pe', 'fund_type': '채권혼합', 'fund_type_detail': '국내혼합형', 'hashtag': '#국내혼합형#퇴직연금', 'investment': 0.0, 'return_1m': 4.62, 'return_3m': 8.23, 'return_3y': 14.0, 'return_5y': 40.96, 'return_6m': 12.4, 'return_idx': 40.44, 'return_ytd': 10.81, 'risk_grade': 4, 'risk_grade_txt': '보통 위험', 'set_amount': 12, 'set_date': 'Thu, 14 Jun 2018 00:00:00 GMT', 'std_price': 1373.82, 'stock': 33.2, 'stock_foreign': '0.00', 'stock_ratio': 38.48}, {'arima_percent': 3.78, 'arima_price': 2069.992511700815, 'arima_update': 'Mon, 24 Jun 2024 00:00:00 GMT', 'bond': 0.0, 'bond_foreign': 0.0, 'bond_ratio': 0.0, 'c': 23.13, 'company_name': '삼성자산운용', 'drv_nav': 51.75, 'etc': 3.69, 'fund_code': 'KR5105AK2164', 'fund_name': '삼성미국코어밸런스증권모투자신탁[주식혼합-재간접형]', 'fund_type': '해외자산배분', 'fund_type_detail': '해외혼합형', 'hashtag': '#해외혼합형#모펀드#북미', 'investment': 81.74, 'return_1m': 4.53, 'return_3m': 8.14, 'return_3y': 27.38, 'return_5y': 59.87, 'return_6m': 17.01, 'return_idx': 169.11, 'return_ytd': 16.47, 'risk_grade': 4, 'risk_grade_txt': '보통 위험', 'set_amount': 26, 'set_date': 'Wed, 02 Oct 2013 00:00:00 GMT', 'std_price': 1983.34, 'stock': 0.0, 'stock_foreign': '14.57', 'stock_ratio': 100.0}, {'arima_percent': 2.44, 'arima_price': 1388.580839495196, 'arima_update': 'Mon, 24 Jun 2024 00:00:00 GMT', 'bond': 0.0, 'bond_foreign': 0.0, 'bond_ratio': None, 'c': 14.55, 'company_name': '신한자산운용', 'drv_nav': 2.07, 'etc': 7.44, 'fund_code': 'K55210B80483', 'fund_name': '신한연금저축POP펀드셀렉션60증권자투자신탁[주식혼합-재간접형]', 'fund_type': '해외자산배분', 'fund_type_detail': '해외혼합형', 'hashtag': '#해외혼합형#연금저축#글로벌', 'investment': 92.56, 'return_1m': 1.58, 'return_3m': 4.56, 'return_3y': 8.69, 'return_5y': 37.98, 'return_6m': 10.19, 'return_idx': 49.06, 'return_ytd': 8.24, 'risk_grade': 4, 'risk_grade_txt': '보통 위험', 'set_amount': 2, 'set_date': 'Fri, 16 Oct 2015 00:00:00 GMT', 'std_price': 1343.95, 'stock': 0.0, 'stock_foreign': '0.00', 'stock_ratio': None}, {'arima_percent': 0.65, 'arima_price': 1045.7110199689776, 'arima_update': 'Mon, 24 Jun 2024 00:00:00 GMT', 'bond': 30.91, 'bond_foreign': 0.0, 'bond_ratio': 100.0, 'c': 5.58, 'company_name': '코레이트자산운용', 'drv_nav': 7958.06, 'etc': 69.09, 'fund_code': 'K55310BZ6919', 'fund_name': '코레이트셀렉트단기채증권투자신탁[채권]', 'fund_type': '일반채권', 'fund_type_detail': '국내채권형', 'hashtag': '#국내채권형', 'investment': 0.0, 'return_1m': 0.41, 'return_3m': 1.29, 'return_3y': 11.71, 'return_5y': 17.41, 'return_6m': 2.7, 'return_idx': 23.61, 'return_ytd': 2.47, 'risk_grade': 6, 'risk_grade_txt': '매우 낮은 위험', 'set_amount': 7662, 'set_date': 'Wed, 13 Dec 2017 00:00:00 GMT', 'std_price': 1038.68, 'stock': 0.0, 'stock_foreign': '0.00', 'stock_ratio': 0.0}, {'arima_percent': -0.56, 'arima_price': 1031.0939130434763, 'arima_update': 'Mon, 24 Jun 2024 00:00:00 GMT', 'bond': 71.47, 'bond_foreign': 0.0, 'bond_ratio': 100.0, 'c': 5.42, 'company_name': '아이비케이자산운용', 'drv_nav': 1.28, 'etc': 28.53, 'fund_code': 'K55234BB1788', 'fund_name': 'IBKSaveAsset단기채증권자투자신탁[채권]', 'fund_type': '일반채권', 'fund_type_detail': '국내채권형', 'hashtag': '#국내채권형', 'investment': 0.0, 'return_1m': 0.42, 'return_3m': 1.28, 'return_3y': 10.49, 'return_5y': 15.78, 'return_6m': 2.55, 'return_idx': 23.58, 'return_ytd': 2.34, 'risk_grade': 6, 'risk_grade_txt': '매우 낮은 위험', 'set_amount': 1, 'set_date': 'Wed, 16 Mar 2016 00:00:00 GMT', 'std_price': 1036.61, 'stock': 0.0, 'stock_foreign': '0.00', 'stock_ratio': 0.0}]}, {'fund_class': '안정형', 'funds': [{'arima_percent': 2.44, 'arima_price': 1533.0311008247863, 'arima_update': 'Mon, 24 Jun 2024 00:00:00 GMT', 'bond': 0.0, 'bond_foreign': 0.0, 'bond_ratio': 0.0, 'c': 14.71, 'company_name': '미래에셋자산운용', 'drv_nav': 766.16, 'etc': 9.17, 'fund_code': 'K55301BW2052', 'fund_name': '미래에셋헤지펀드셀렉션혼합자산자투자신탁(사모투자재간접형)', 'fund_type': '해외자산배분', 'fund_type_detail': '해외혼합형', 'hashtag': '#해외혼합형#글로벌', 'investment': 90.81, 'return_1m': 3.03, 'return_3m': 6.92, 'return_3y': 20.56, 'return_5y': 37.2, 'return_6m': 10.37, 'return_idx': 53.33, 'return_ytd': 8.57, 'risk_grade': 5, 'risk_grade_txt': '낮은 위험', 'set_amount': 513, 'set_date': 'Fri, 22 Sep 2017 00:00:00 GMT', 'std_price': 1492.37, 'stock': 0.02, 'stock_foreign': '0.00', 'stock_ratio': 100.0}, {'arima_percent': 2.16, 'arima_price': 14851.197689901215, 'arima_update': 'Mon, 24 Jun 2024 00:00:00 GMT', 'bond': 0.0, 'bond_foreign': 99.52, 'bond_ratio': 100.0, 'c': 14.34, 'company_name': '삼성자산운용', 'drv_nav': 639.53, 'etc': 0.48, 'fund_code': 'K55105B66518', 'fund_name': '삼성달러표시단기채권증권모투자신탁(USD)[채권]', 'fund_type': '글로벌채권', 'fund_type_detail': '해외채권형', 'hashtag': '#해외채권형#외화기준가제공펀드#모펀드', 'investment': 0.0, 'return_1m': 2.35, 'return_3m': 4.89, 'return_3y': 29.31, 'return_5y': 29.05, 'return_6m': 8.96, 'return_idx': 38.16, 'return_ytd': 9.43, 'risk_grade': 5, 'risk_grade_txt': '낮은 위험', 'set_amount': 527, 'set_date': 'Thu, 10 Sep 2015 00:00:00 GMT', 'std_price': 14490.5, 'stock': 0.0, 'stock_foreign': '0.00', 'stock_ratio': 0.0}, {'arima_percent': 0.63, 'arima_price': 1073.0903901137053, 'arima_update': 'Mon, 24 Jun 2024 00:00:00 GMT', 'bond': 83.74, 'bond_foreign': 0.0, 'bond_ratio': 100.0, 'c': 5.58, 'company_name': '신한자산운용', 'drv_nav': 4266.02, 'etc': 15.64, 'fund_code': 'KR5219333469', 'fund_name': '신한베스트크레딧단기증권자투자신탁[채권](종류)', 'fund_type': '일반채권', 'fund_type_detail': '국내채권형', 'hashtag': '#국내채권형', 'investment': 0.62, 'return_1m': 0.48, 'return_3m': 1.35, 'return_3y': 10.08, 'return_5y': 16.25, 'return_6m': 2.62, 'return_idx': 124.63, 'return_ytd': 2.4, 'risk_grade': 5, 'risk_grade_txt': '낮은 위험', 'set_amount': 4002, 'set_date': 'Tue, 18 Dec 2001 00:00:00 GMT', 'std_price': 1066.02, 'stock': 0.0, 'stock_foreign': '0.00', 'stock_ratio': 0.0}, {'arima_percent': 0.65, 'arima_price': 1045.7110199689776, 'arima_update': 'Mon, 24 Jun 2024 00:00:00 GMT', 'bond': 30.91, 'bond_foreign': 0.0, 'bond_ratio': 100.0, 'c': 5.58, 'company_name': '코레이트자산운용', 'drv_nav': 7958.06, 'etc': 69.09, 'fund_code': 'K55310BZ6919', 'fund_name': '코레이트셀렉트단기채증권투자신탁[채권]', 'fund_type': '일반채권', 'fund_type_detail': '국내채권형', 'hashtag': '#국내채권형', 'investment': 0.0, 'return_1m': 0.41, 'return_3m': 1.29, 'return_3y': 11.71, 'return_5y': 17.41, 'return_6m': 2.7, 'return_idx': 23.61, 'return_ytd': 2.47, 'risk_grade': 6, 'risk_grade_txt': '매우 낮은 위험', 'set_amount': 7662, 'set_date': 'Wed, 13 Dec 2017 00:00:00 GMT', 'std_price': 1038.68, 'stock': 0.0, 'stock_foreign': '0.00', 'stock_ratio': 0.0}, {'arima_percent': -0.56, 'arima_price': 1031.0939130434763, 'arima_update': 'Mon, 24 Jun 2024 00:00:00 GMT', 'bond': 71.47, 'bond_foreign': 0.0, 'bond_ratio': 100.0, 'c': 5.42, 'company_name': '아이비케이자산운용', 'drv_nav': 1.28, 'etc': 28.53, 'fund_code': 'K55234BB1788', 'fund_name': 'IBKSaveAsset단기채증권자투자신탁[채권]', 'fund_type': '일반채권', 'fund_type_detail': '국내채권형', 'hashtag': '#국내채권형', 'investment': 0.0, 'return_1m': 0.42, 'return_3m': 1.28, 'return_3y': 10.49, 'return_5y': 15.78, 'return_6m': 2.55, 'return_idx': 23.58, 'return_ytd': 2.34, 'risk_grade': 6, 'risk_grade_txt': '매우 낮은 위험', 'set_amount': 1, 'set_date': 'Wed, 16 Mar 2016 00:00:00 GMT', 'std_price': 1036.61, 'stock': 0.0, 'stock_foreign': '0.00', 'stock_ratio': 0.0}]}]}\n"
     ]
    }
   ],
   "source": [
    "import requests\n",
    "url = 'http://localhost:8080/mydata/fund/test'\n",
    "\n",
    "data = {\n",
    "    'user_test_score' : 3,\n",
    "    'user_id' : 1,\n",
    "    'transactions': [\n",
    "        {'date' : '2024-03-02', 'type' : 'buy', 'code' : '000340'},\n",
    "        {'date' : '2024-03-03', 'type' : 'sell', 'code' : '000340'}\n",
    "    ],\n",
    "    'stockBalance': [\n",
    "        '460930', '000150', '000990'\n",
    "    ],\n",
    "    'age': 24,\n",
    "    'wealth': 100000\n",
    "}\n",
    "\n",
    "# POST 요청 보내기\n",
    "response = requests.post(url, json=data, headers={'Content-Type': 'application/json'})\n",
    "\n",
    "# 응답 출력\n",
    "print(response.status_code)  # HTTP 상태 코드 출력\n",
    "print(response.json())       # JSON 응답 본문 출력\n"
   ]
  },
  {
   "cell_type": "code",
   "execution_count": 5,
   "metadata": {},
   "outputs": [
    {
     "name": "stdout",
     "output_type": "stream",
     "text": [
      "200\n",
      "{'response': {'income': 265437456373, 'rev': 1154223638940}}\n"
     ]
    }
   ],
   "source": [
    "import requests\n",
    "url = 'http://localhost:8080/mydata/ttest'\n",
    "\n",
    "data = {\n",
    "    'stock_code' : \"000990\"\n",
    "}\n",
    "\n",
    "# POST 요청 보내기\n",
    "response = requests.post(url, json=data, headers={'Content-Type': 'application/json'})\n",
    "\n",
    "# 응답 출력\n",
    "print(response.status_code)  # HTTP 상태 코드 출력\n",
    "print(response.json())       # JSON 응답 본문 출력\n"
   ]
  },
  {
   "cell_type": "code",
   "execution_count": 1,
   "metadata": {},
   "outputs": [],
   "source": [
    "import warnings\n",
    "warnings.filterwarnings('ignore')"
   ]
  },
  {
   "cell_type": "markdown",
   "metadata": {},
   "source": []
  },
  {
   "cell_type": "code",
   "execution_count": 12,
   "metadata": {},
   "outputs": [
    {
     "ename": "NameError",
     "evalue": "name 'aws_access_key_id' is not defined",
     "output_type": "error",
     "traceback": [
      "\u001b[0;31m---------------------------------------------------------------------------\u001b[0m",
      "\u001b[0;31mNameError\u001b[0m                                 Traceback (most recent call last)",
      "Cell \u001b[0;32mIn[12], line 17\u001b[0m\n\u001b[1;32m     13\u001b[0m bname \u001b[38;5;241m=\u001b[39m os\u001b[38;5;241m.\u001b[39mgetenv(\u001b[38;5;124m'\u001b[39m\u001b[38;5;124mbucket_name\u001b[39m\u001b[38;5;124m'\u001b[39m)\n\u001b[1;32m     15\u001b[0m \u001b[38;5;28;01mimport\u001b[39;00m \u001b[38;5;21;01mnumpy\u001b[39;00m \u001b[38;5;28;01mas\u001b[39;00m \u001b[38;5;21;01mnp\u001b[39;00m\n\u001b[1;32m     16\u001b[0m s3 \u001b[38;5;241m=\u001b[39m boto3\u001b[38;5;241m.\u001b[39mclient(\u001b[38;5;124m'\u001b[39m\u001b[38;5;124ms3\u001b[39m\u001b[38;5;124m'\u001b[39m,\n\u001b[0;32m---> 17\u001b[0m             kid \u001b[38;5;241m=\u001b[39m \u001b[43maws_access_key_id\u001b[49m,\n\u001b[1;32m     18\u001b[0m             akey \u001b[38;5;241m=\u001b[39m aws_secret_access_key,\n\u001b[1;32m     19\u001b[0m             rname \u001b[38;5;241m=\u001b[39m region_name\n\u001b[1;32m     20\u001b[0m         ) \n\u001b[1;32m     22\u001b[0m bucket_name \u001b[38;5;241m=\u001b[39m bname\n\u001b[1;32m     23\u001b[0m file_key \u001b[38;5;241m=\u001b[39m \u001b[38;5;124m'\u001b[39m\u001b[38;5;124msaved_model/model\u001b[39m\u001b[38;5;124m'\u001b[39m  \u001b[38;5;66;03m# 정확한 파일 키\u001b[39;00m\n",
      "\u001b[0;31mNameError\u001b[0m: name 'aws_access_key_id' is not defined"
     ]
    }
   ],
   "source": [
    "import boto3\n",
    "import botocore\n",
    "import tarfile\n",
    "import os\n",
    "\n",
    "from dotenv import load_dotenv\n",
    "import os\n",
    "\n",
    "load_dotenv()\n",
    "kid = os.getenv('aws_access_key_id')\n",
    "akey = os.getenv('aws_secret_access_key')\n",
    "rname = os.getenv('region_name')\n",
    "bname = os.getenv('bucket_name')\n",
    "\n",
    "import numpy as np\n",
    "s3 = boto3.client('s3',\n",
    "            kid = aws_access_key_id,\n",
    "            akey = aws_secret_access_key,\n",
    "            rname = region_name\n",
    "        ) \n",
    "\n",
    "bucket_name = bname\n",
    "file_key = 'saved_model/model'  # 정확한 파일 키\n",
    "local_file_path = 'loaded_model'  # 로컬에 저장할 파일 경로\n",
    "\n",
    "# 파일 다운로드\n",
    "try:\n",
    "    s3.download_file(bucket_name, file_key, local_file_path)\n",
    "    print(f'File downloaded to {local_file_path}')\n",
    "except boto3.exceptions.S3UploadFailedError as e:\n",
    "    print(f'Error downloading file: {e}')\n",
    "except Exception as e:\n",
    "    print(f'An error occurred: {e}')"
   ]
  },
  {
   "cell_type": "code",
   "execution_count": 8,
   "metadata": {},
   "outputs": [
    {
     "name": "stdout",
     "output_type": "stream",
     "text": [
      "Model loaded successfully\n"
     ]
    }
   ],
   "source": [
    "import joblib\n",
    "\n",
    "# 모델 불러오기\n",
    "model_output_path = 'loaded_model'\n",
    "loaded_model = joblib.load(model_output_path)\n",
    "\n",
    "print('Model loaded successfully')"
   ]
  },
  {
   "cell_type": "code",
   "execution_count": 9,
   "metadata": {},
   "outputs": [],
   "source": [
    "mapping = {3: '매우공격적', 2: '공격적', 1: '안정적', 0: '소극적'}\n",
    "map_func = np.vectorize(mapping.get)"
   ]
  },
  {
   "cell_type": "code",
   "execution_count": 10,
   "metadata": {},
   "outputs": [
    {
     "name": "stdout",
     "output_type": "stream",
     "text": [
      "['안정적' '안정적']\n"
     ]
    }
   ],
   "source": [
    "# 예측 수행\n",
    "single_prediction = loaded_model.predict([[42454, 40, 32, 29.33, 291],[42454, 40, 32, 29.33, 291]])\n",
    "print(map_func(single_prediction))"
   ]
  },
  {
   "cell_type": "code",
   "execution_count": 4,
   "metadata": {},
   "outputs": [],
   "source": [
    "from flask import Flask, request, jsonify\n",
    "import numpy as np\n",
    "import tensorflow as tf\n",
    "\n",
    "app = Flask(__name__)\n",
    "\n",
    "@app.route('/predict', methods=['POST'])\n",
    "def predict():\n",
    "    try:\n",
    "        data = request.json['data']\n",
    "        print(\"입력 데이터:\", data)\n",
    "        \n",
    "        # 모델 예측 (예시로서 model_layer 함수 사용)\n",
    "        predictions = loaded_model.predict(data)  # model_layer 함수가 TensorFlow 텐서를 반환한다고 가정\n",
    "        return_predict = map_func(predictions).tolist()\n",
    "        print(return_predict)\n",
    "        return jsonify({'predicted_class': return_predict })\n",
    "        \n",
    "\n",
    "    except Exception as e:\n",
    "        return jsonify({'error': str(e)})\n",
    "\n",
    "if __name__ == \"__main__\":\n",
    "    from waitress import serve\n",
    "    serve(app, host=\"0.0.0.0\", port=8080)"
   ]
  },
  {
   "cell_type": "code",
   "execution_count": 2,
   "metadata": {},
   "outputs": [
    {
     "name": "stdout",
     "output_type": "stream",
     "text": [
      "Flask app is running with PID 14771\n"
     ]
    },
    {
     "name": "stderr",
     "output_type": "stream",
     "text": [
      "2024-06-17 10:47:03.726320: I external/local_tsl/tsl/cuda/cudart_stub.cc:32] Could not find cuda drivers on your machine, GPU will not be used.\n",
      "2024-06-17 10:47:03.730176: I external/local_tsl/tsl/cuda/cudart_stub.cc:32] Could not find cuda drivers on your machine, GPU will not be used.\n",
      "2024-06-17 10:47:03.782451: I tensorflow/core/platform/cpu_feature_guard.cc:210] This TensorFlow binary is optimized to use available CPU instructions in performance-critical operations.\n",
      "To enable the following instructions: AVX2 FMA, in other operations, rebuild TensorFlow with the appropriate compiler flags.\n",
      "2024-06-17 10:47:04.617727: W tensorflow/compiler/tf2tensorrt/utils/py_utils.cc:38] TF-TRT Warning: Could not find TensorRT\n",
      "/home/ubuntu/code/DE_ML/HITIT_Server/myenv/lib/python3.12/site-packages/sklearn/base.py:376: InconsistentVersionWarning: Trying to unpickle estimator DecisionTreeClassifier from version 1.4.2 when using version 1.4.0. This might lead to breaking code or invalid results. Use at your own risk. For more info please refer to:\n",
      "https://scikit-learn.org/stable/model_persistence.html#security-maintainability-limitations\n",
      "  warnings.warn(\n",
      "/home/ubuntu/code/DE_ML/HITIT_Server/myenv/lib/python3.12/site-packages/sklearn/base.py:376: InconsistentVersionWarning: Trying to unpickle estimator RandomForestClassifier from version 1.4.2 when using version 1.4.0. This might lead to breaking code or invalid results. Use at your own risk. For more info please refer to:\n",
      "https://scikit-learn.org/stable/model_persistence.html#security-maintainability-limitations\n",
      "  warnings.warn(\n",
      "Traceback (most recent call last):\n",
      "  File \"/home/ubuntu/code/DE_ML/HITIT_Server/RF/app.py\", line 35, in <module>\n",
      "    serve(app, host=\"0.0.0.0\", port=8080)\n",
      "  File \"/home/ubuntu/code/DE_ML/HITIT_Server/myenv/lib/python3.12/site-packages/waitress/__init__.py\", line 13, in serve\n",
      "    server = _server(app, **kw)\n",
      "             ^^^^^^^^^^^^^^^^^^\n",
      "  File \"/home/ubuntu/code/DE_ML/HITIT_Server/myenv/lib/python3.12/site-packages/waitress/server.py\", line 78, in create_server\n",
      "    last_serv = TcpWSGIServer(\n",
      "                ^^^^^^^^^^^^^^\n",
      "  File \"/home/ubuntu/code/DE_ML/HITIT_Server/myenv/lib/python3.12/site-packages/waitress/server.py\", line 243, in __init__\n",
      "    self.bind_server_socket()\n",
      "  File \"/home/ubuntu/code/DE_ML/HITIT_Server/myenv/lib/python3.12/site-packages/waitress/server.py\", line 364, in bind_server_socket\n",
      "    self.bind(sockaddr)\n",
      "  File \"/home/ubuntu/code/DE_ML/HITIT_Server/myenv/lib/python3.12/site-packages/waitress/wasyncore.py\", line 395, in bind\n",
      "    return self.socket.bind(addr)\n",
      "           ^^^^^^^^^^^^^^^^^^^^^^\n",
      "OSError: [Errno 98] Address already in use\n"
     ]
    },
    {
     "name": "stdout",
     "output_type": "stream",
     "text": [
      "Model loaded from loaded_model\n",
      "입력 데이터: [[42454, 40, 32, 29.33, 291]]\n",
      "['안정적']\n"
     ]
    }
   ],
   "source": [
    "import subprocess\n",
    "from flask import Flask, request, jsonify\n",
    "import numpy as np\n",
    "import tensorflow as tf\n",
    "\n",
    "flask_process = subprocess.Popen(['python3', 'app.py'])\n",
    "\n",
    "print(f\"Flask app is running with PID {flask_process.pid}\")"
   ]
  }
 ],
 "metadata": {
  "kernelspec": {
   "display_name": "Python 3 (ipykernel)",
   "language": "python",
   "name": "python3"
  },
  "language_info": {
   "codemirror_mode": {
    "name": "ipython",
    "version": 3
   },
   "file_extension": ".py",
   "mimetype": "text/x-python",
   "name": "python",
   "nbconvert_exporter": "python",
   "pygments_lexer": "ipython3",
   "version": "3.12.3"
  }
 },
 "nbformat": 4,
 "nbformat_minor": 4
}

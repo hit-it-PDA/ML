{
 "cells": [
  {
   "cell_type": "code",
   "execution_count": 49,
   "metadata": {},
   "outputs": [
    {
     "name": "stdout",
     "output_type": "stream",
     "text": [
      "200\n",
      "{'response': [{'fund_class': '공격투자형', 'funds': [{'arima_percent': 7.7, 'arima_price': 3748.126315789475, 'arima_update': 'Thu, 20 Jun 2024 00:00:00 GMT', 'bond': 0.0, 'bond_foreign': 0.0, 'bond_ratio': 0.0, 'c': 61.34, 'company_name': '미래에셋자산운용', 'drv_nav': 1449.05, 'etc': 0.1, 'fund_code': 'K55301B73766', 'fund_name': '미래에셋TIGER화장품증권상장지수투자신탁(주식)', 'fund_type': '인덱스주식섹터', 'fund_type_detail': '국내주식형', 'hashtag': '#국내주식형#ETF(국내주식)#경기소비재', 'investment': 0.0, 'return_1m': 14.76, 'return_3m': 59.12, 'return_3y': -14.73, 'return_5y': 4.52, 'return_6m': 48.53, 'return_idx': -43.41, 'return_ytd': 45.31, 'risk_grade': 1, 'risk_grade_txt': '매우 높은 위험', 'set_amount': 2667, 'set_date': 'Tue, 06 Oct 2015 00:00:00 GMT', 'std_price': 3554.2, 'stock': 99.9, 'stock_foreign': '0.00', 'stock_ratio': 100.0}, {'arima_percent': 5.1, 'arima_price': 47362.79473684214, 'arima_update': 'Thu, 20 Jun 2024 00:00:00 GMT', 'bond': 0.0, 'bond_foreign': 0.0, 'bond_ratio': 0.0, 'c': 38.78, 'company_name': '삼성자산운용', 'drv_nav': 6051.92, 'etc': 0.64, 'fund_code': 'KR5105578185', 'fund_name': '삼성KODEX반도체증권상장지수투자신탁[주식]', 'fund_type': '인덱스주식섹터', 'fund_type_detail': '국내주식형', 'hashtag': '#국내주식형#ETF(국내주식)#IT펀드#IT', 'investment': 0.15, 'return_1m': 8.85, 'return_3m': 16.93, 'return_3y': 21.63, 'return_5y': 134.46, 'return_6m': 27.08, 'return_idx': 468.11, 'return_ytd': 24.08, 'risk_grade': 1, 'risk_grade_txt': '매우 높은 위험', 'set_amount': 1147, 'set_date': 'Mon, 26 Jun 2006 00:00:00 GMT', 'std_price': 44995.7, 'stock': 99.21, 'stock_foreign': '0.00', 'stock_ratio': 100.0}, {'arima_percent': 1.06, 'arima_price': 1130.3015789473661, 'arima_update': 'Thu, 20 Jun 2024 00:00:00 GMT', 'bond': 0.0, 'bond_foreign': 0.0, 'bond_ratio': 0.0, 'c': 13.11, 'company_name': '신한자산운용', 'drv_nav': 0.32, 'etc': 20.54, 'fund_code': 'K55210C78063', 'fund_name': '신한스마트KRX300인덱스증권자투자신탁제2호[주식- 파생형](종류A1)', 'fund_type': '인덱스주식KRX300', 'fund_type_detail': '국내주식형', 'hashtag': '#국내주식형#레버리지', 'investment': 0.0, 'return_1m': 2.29, 'return_3m': 4.73, 'return_3y': -2.63, 'return_5y': 56.91, 'return_6m': 12.09, 'return_idx': 14.69, 'return_ytd': 6.86, 'risk_grade': 1, 'risk_grade_txt': '매우 높은 위험', 'set_amount': 0, 'set_date': 'Thu, 31 May 2018 00:00:00 GMT', 'std_price': 1104.05, 'stock': 79.46, 'stock_foreign': '0.00', 'stock_ratio': 100.0}, {'arima_percent': 0.65, 'arima_price': 1045.618653812151, 'arima_update': 'Thu, 20 Jun 2024 00:00:00 GMT', 'bond': 30.91, 'bond_foreign': 0.0, 'bond_ratio': 100.0, 'c': 5.58, 'company_name': '코레이트자산운용', 'drv_nav': 7958.06, 'etc': 69.09, 'fund_code': 'K55310BZ6919', 'fund_name': '코레이트셀렉트단기채증권투자신탁[채권]', 'fund_type': '일반채권', 'fund_type_detail': '국내채권형', 'hashtag': '#국내채권형', 'investment': 0.0, 'return_1m': 0.41, 'return_3m': 1.29, 'return_3y': 11.71, 'return_5y': 17.41, 'return_6m': 2.7, 'return_idx': 23.61, 'return_ytd': 2.47, 'risk_grade': 6, 'risk_grade_txt': '매우 낮은 위험', 'set_amount': 7662, 'set_date': 'Wed, 13 Dec 2017 00:00:00 GMT', 'std_price': 1038.68, 'stock': 0.0, 'stock_foreign': '0.00', 'stock_ratio': 0.0}, {'arima_percent': -0.57, 'arima_price': 1030.9163157894752, 'arima_update': 'Thu, 20 Jun 2024 00:00:00 GMT', 'bond': 71.47, 'bond_foreign': 0.0, 'bond_ratio': 100.0, 'c': 5.42, 'company_name': '아이비케이자산운용', 'drv_nav': 1.28, 'etc': 28.53, 'fund_code': 'K55234BB1788', 'fund_name': 'IBKSaveAsset단기채증권자투자신탁[채권]', 'fund_type': '일반채권', 'fund_type_detail': '국내채권형', 'hashtag': '#국내채권형', 'investment': 0.0, 'return_1m': 0.42, 'return_3m': 1.28, 'return_3y': 10.49, 'return_5y': 15.78, 'return_6m': 2.55, 'return_idx': 23.58, 'return_ytd': 2.34, 'risk_grade': 6, 'risk_grade_txt': '매우 낮은 위험', 'set_amount': 1, 'set_date': 'Wed, 16 Mar 2016 00:00:00 GMT', 'std_price': 1036.61, 'stock': 0.0, 'stock_foreign': '0.00', 'stock_ratio': 0.0}]}, {'fund_class': '적극투자형', 'funds': [{'arima_percent': 3.17, 'arima_price': 1965.6318266213887, 'arima_update': 'Thu, 20 Jun 2024 00:00:00 GMT', 'bond': 0.0, 'bond_foreign': 0.0, 'bond_ratio': 0.0, 'c': 30.68, 'company_name': '한국투자밸류자산운용', 'drv_nav': 819.73, 'etc': 2.21, 'fund_code': 'KR5236A33337', 'fund_name': '한국밸류10년투자어린이증권투자신탁 1(주식)', 'fund_type': '액티브주식일반', 'fund_type_detail': '국내주식형', 'hashtag': '#국내주식형#가치주#어린이펀드', 'investment': 0.0, 'return_1m': 8.89, 'return_3m': 25.61, 'return_3y': 36.81, 'return_5y': 125.1, 'return_6m': 24.7, 'return_idx': 300.07, 'return_ytd': 20.24, 'risk_grade': 2, 'risk_grade_txt': '높은 위험', 'set_amount': 432, 'set_date': 'Thu, 19 May 2011 00:00:00 GMT', 'std_price': 1896.18, 'stock': 97.79, 'stock_foreign': '0.00', 'stock_ratio': 100.0}, {'arima_percent': 6.84, 'arima_price': 2951.189881665512, 'arima_update': 'Thu, 20 Jun 2024 00:00:00 GMT', 'bond': 0.0, 'bond_foreign': 0.0, 'bond_ratio': 0.0, 'c': 66.4, 'company_name': '미래에셋자산운용', 'drv_nav': 1303.53, 'etc': 7.43, 'fund_code': 'KR5301714576', 'fund_name': '미래에셋인디아인프라섹터증권모투자신탁(주식)', 'fund_type': '신흥아시아주식', 'fund_type_detail': '해외주식형', 'hashtag': '#해외주식형#모펀드#인프라펀드#인도', 'investment': 0.0, 'return_1m': 8.46, 'return_3m': 24.19, 'return_3y': 121.81, 'return_5y': 163.93, 'return_6m': 36.48, 'return_idx': 319.01, 'return_ytd': 36.11, 'risk_grade': 2, 'risk_grade_txt': '높은 위험', 'set_amount': 473, 'set_date': 'Fri, 13 Jul 2007 00:00:00 GMT', 'std_price': 2757.48, 'stock': 0.0, 'stock_foreign': '92.57', 'stock_ratio': 100.0}, {'arima_percent': 5.87, 'arima_price': 3138.5092758607834, 'arima_update': 'Thu, 20 Jun 2024 00:00:00 GMT', 'bond': 0.0, 'bond_foreign': 0.0, 'bond_ratio': 0.0, 'c': 55.43, 'company_name': '신한자산운용', 'drv_nav': 303.1, 'etc': 4.59, 'fund_code': 'KR5210725481', 'fund_name': '신한인디아증권모투자신탁[주식]', 'fund_type': '신흥아시아주식', 'fund_type_detail': '해외주식형', 'hashtag': '#해외주식형#모펀드#인도', 'investment': 0.0, 'return_1m': 8.91, 'return_3m': 17.12, 'return_3y': 85.56, 'return_5y': 143.57, 'return_6m': 28.52, 'return_idx': 559.01, 'return_ytd': 29.06, 'risk_grade': 2, 'risk_grade_txt': '높은 위험', 'set_amount': 103, 'set_date': 'Tue, 14 Aug 2007 00:00:00 GMT', 'std_price': 2953.74, 'stock': 0.0, 'stock_foreign': '95.41', 'stock_ratio': 100.0}, {'arima_percent': 0.65, 'arima_price': 1045.618653812151, 'arima_update': 'Thu, 20 Jun 2024 00:00:00 GMT', 'bond': 30.91, 'bond_foreign': 0.0, 'bond_ratio': 100.0, 'c': 5.58, 'company_name': '코레이트자산운용', 'drv_nav': 7958.06, 'etc': 69.09, 'fund_code': 'K55310BZ6919', 'fund_name': '코레이트셀렉트단기채증권투자신탁[채권]', 'fund_type': '일반채권', 'fund_type_detail': '국내채권형', 'hashtag': '#국내채권형', 'investment': 0.0, 'return_1m': 0.41, 'return_3m': 1.29, 'return_3y': 11.71, 'return_5y': 17.41, 'return_6m': 2.7, 'return_idx': 23.61, 'return_ytd': 2.47, 'risk_grade': 6, 'risk_grade_txt': '매우 낮은 위험', 'set_amount': 7662, 'set_date': 'Wed, 13 Dec 2017 00:00:00 GMT', 'std_price': 1038.68, 'stock': 0.0, 'stock_foreign': '0.00', 'stock_ratio': 0.0}, {'arima_percent': -0.57, 'arima_price': 1030.9163157894752, 'arima_update': 'Thu, 20 Jun 2024 00:00:00 GMT', 'bond': 71.47, 'bond_foreign': 0.0, 'bond_ratio': 100.0, 'c': 5.42, 'company_name': '아이비케이자산운용', 'drv_nav': 1.28, 'etc': 28.53, 'fund_code': 'K55234BB1788', 'fund_name': 'IBKSaveAsset단기채증권자투자신탁[채권]', 'fund_type': '일반채권', 'fund_type_detail': '국내채권형', 'hashtag': '#국내채권형', 'investment': 0.0, 'return_1m': 0.42, 'return_3m': 1.28, 'return_3y': 10.49, 'return_5y': 15.78, 'return_6m': 2.55, 'return_idx': 23.58, 'return_ytd': 2.34, 'risk_grade': 6, 'risk_grade_txt': '매우 낮은 위험', 'set_amount': 1, 'set_date': 'Wed, 16 Mar 2016 00:00:00 GMT', 'std_price': 1036.61, 'stock': 0.0, 'stock_foreign': '0.00', 'stock_ratio': 0.0}]}, {'fund_class': '위험중립형', 'funds': [{'arima_percent': 2.58, 'arima_price': 2277.837813539952, 'arima_update': 'Thu, 20 Jun 2024 00:00:00 GMT', 'bond': 0.0, 'bond_foreign': 0.0, 'bond_ratio': 0.0, 'c': 21.3, 'company_name': '한국투자신탁운용', 'drv_nav': 105.2, 'etc': 2.7, 'fund_code': 'KR5101521627', 'fund_name': '한국투자테크증권자투자신탁 1(주식)', 'fund_type': '액티브주식일반', 'fund_type_detail': '국내주식형', 'hashtag': '#국내주식형', 'investment': 0.0, 'return_1m': 7.32, 'return_3m': 18.1, 'return_3y': 41.74, 'return_5y': 123.84, 'return_6m': 18.61, 'return_idx': 776.37, 'return_ytd': 13.97, 'risk_grade': 3, 'risk_grade_txt': '다소 높은 위험', 'set_amount': 48, 'set_date': 'Thu, 03 Mar 2005 00:00:00 GMT', 'std_price': 2206.08, 'stock': 97.3, 'stock_foreign': '0.00', 'stock_ratio': 100.0}, {'arima_percent': 3.95, 'arima_price': 1589.4036842105297, 'arima_update': 'Thu, 20 Jun 2024 00:00:00 GMT', 'bond': 0.0, 'bond_foreign': 0.0, 'bond_ratio': 0.0, 'c': 20.66, 'company_name': '엔에이치아문디자산운용', 'drv_nav': 55.2, 'etc': 8.72, 'fund_code': 'K55232BU5804', 'fund_name': 'NH-Amundi4차산업혁명연금증권전환형자투자신탁[주식]ClassS-P', 'fund_type': '액티브주식테마', 'fund_type_detail': '국내주식형', 'hashtag': '#국내주식형#SRI(국내주식)#엄브렐러#연금저축#S클래스#녹색성장펀드(국내)#4차산업#녹색성장펀드', 'investment': 0.0, 'return_1m': 5.44, 'return_3m': 14.1, 'return_3y': 2.6, 'return_5y': 71.52, 'return_6m': 19.86, 'return_idx': 56.45, 'return_ytd': 16.88, 'risk_grade': 3, 'risk_grade_txt': '다소 높은 위험', 'set_amount': 1, 'set_date': 'Wed, 27 Dec 2017 00:00:00 GMT', 'std_price': 1518.72, 'stock': 91.28, 'stock_foreign': '0.00', 'stock_ratio': 100.0}, {'arima_percent': 2.56, 'arima_price': 1537.0889473684226, 'arima_update': 'Thu, 20 Jun 2024 00:00:00 GMT', 'bond': 0.0, 'bond_foreign': 0.0, 'bond_ratio': 0.0, 'c': 9.25, 'company_name': '신한자산운용', 'drv_nav': 11.53, 'etc': 7.78, 'fund_code': 'KR5210766782', 'fund_name': '신한친디한증권자투자신탁(H)[주식](종류)', 'fund_type': '국내외주식', 'fund_type_detail': '해외주식형', 'hashtag': '#해외주식형#친디아', 'investment': 0.0, 'return_1m': 1.44, 'return_3m': 6.9, 'return_3y': -14.54, 'return_5y': 37.01, 'return_6m': 11.96, 'return_idx': 61.58, 'return_ytd': 10.44, 'risk_grade': 3, 'risk_grade_txt': '다소 높은 위험', 'set_amount': 8, 'set_date': 'Fri, 30 Nov 2007 00:00:00 GMT', 'std_price': 1493.83, 'stock': 23.7, 'stock_foreign': '68.52', 'stock_ratio': 100.0}, {'arima_percent': 0.65, 'arima_price': 1045.618653812151, 'arima_update': 'Thu, 20 Jun 2024 00:00:00 GMT', 'bond': 30.91, 'bond_foreign': 0.0, 'bond_ratio': 100.0, 'c': 5.58, 'company_name': '코레이트자산운용', 'drv_nav': 7958.06, 'etc': 69.09, 'fund_code': 'K55310BZ6919', 'fund_name': '코레이트셀렉트단기채증권투자신탁[채권]', 'fund_type': '일반채권', 'fund_type_detail': '국내채권형', 'hashtag': '#국내채권형', 'investment': 0.0, 'return_1m': 0.41, 'return_3m': 1.29, 'return_3y': 11.71, 'return_5y': 17.41, 'return_6m': 2.7, 'return_idx': 23.61, 'return_ytd': 2.47, 'risk_grade': 6, 'risk_grade_txt': '매우 낮은 위험', 'set_amount': 7662, 'set_date': 'Wed, 13 Dec 2017 00:00:00 GMT', 'std_price': 1038.68, 'stock': 0.0, 'stock_foreign': '0.00', 'stock_ratio': 0.0}, {'arima_percent': -0.57, 'arima_price': 1030.9163157894752, 'arima_update': 'Thu, 20 Jun 2024 00:00:00 GMT', 'bond': 71.47, 'bond_foreign': 0.0, 'bond_ratio': 100.0, 'c': 5.42, 'company_name': '아이비케이자산운용', 'drv_nav': 1.28, 'etc': 28.53, 'fund_code': 'K55234BB1788', 'fund_name': 'IBKSaveAsset단기채증권자투자신탁[채권]', 'fund_type': '일반채권', 'fund_type_detail': '국내채권형', 'hashtag': '#국내채권형', 'investment': 0.0, 'return_1m': 0.42, 'return_3m': 1.28, 'return_3y': 10.49, 'return_5y': 15.78, 'return_6m': 2.55, 'return_idx': 23.58, 'return_ytd': 2.34, 'risk_grade': 6, 'risk_grade_txt': '매우 낮은 위험', 'set_amount': 1, 'set_date': 'Wed, 16 Mar 2016 00:00:00 GMT', 'std_price': 1036.61, 'stock': 0.0, 'stock_foreign': '0.00', 'stock_ratio': 0.0}]}]}\n"
     ]
    }
   ],
   "source": [
    "import requests\n",
    "url = 'http://localhost:8080/mydata/funds'\n",
    "\n",
    "data = {\n",
    "    'user_id' : 1,\n",
    "    'transactions': [\n",
    "        {'date' : '2024-03-02', 'type' : 'buy', 'code' : '000340'},\n",
    "        {'date' : '2024-03-02', 'type' : 'sell', 'code' : '000340'}\n",
    "    ],\n",
    "    'stockBalance': [\n",
    "        '460930', '000150', '000990'\n",
    "    ],\n",
    "    'age': 24,\n",
    "    'wealth': 100000\n",
    "}\n",
    "\n",
    "# POST 요청 보내기\n",
    "response = requests.post(url, json=data, headers={'Content-Type': 'application/json'})\n",
    "\n",
    "# 응답 출력\n",
    "print(response.status_code)  # HTTP 상태 코드 출력\n",
    "print(response.json())       # JSON 응답 본문 출력\n"
   ]
  },
  {
   "cell_type": "code",
   "execution_count": 41,
   "metadata": {},
   "outputs": [
    {
     "name": "stdout",
     "output_type": "stream",
     "text": [
      "200\n",
      "{'response': [{'fund_class': '적극투자형', 'funds': [{'arima_percent': 6.41, 'arima_price': 3557.883279881389, 'arima_update': 'Thu, 20 Jun 2024 00:00:00 GMT', 'bond': 0.0, 'bond_foreign': 0.0, 'bond_ratio': 0.0, 'c': 54.11, 'company_name': '브레인자산운용', 'drv_nav': 954.2, 'etc': 21.03, 'fund_code': 'K55454C64299', 'fund_name': '브레인코스닥벤처증권투자신탁(주식혼합)', 'fund_type': '액티브주식중소형', 'fund_type_detail': '국내주식형', 'hashtag': '#국내주식형#공모주펀드#코스닥벤처펀드', 'investment': 0.0, 'return_1m': 4.47, 'return_3m': 7.74, 'return_3y': 101.41, 'return_5y': 239.48, 'return_6m': 40.86, 'return_idx': 241.09, 'return_ytd': 32.97, 'risk_grade': 2, 'risk_grade_txt': '높은 위험', 'set_amount': 285, 'set_date': 'Thu, 05 Apr 2018 00:00:00 GMT', 'std_price': 3353.85, 'stock': 78.97, 'stock_foreign': '0.00', 'stock_ratio': 100.0}, {'arima_percent': 6.98, 'arima_price': 3329.5222019609696, 'arima_update': 'Thu, 20 Jun 2024 00:00:00 GMT', 'bond': 0.0, 'bond_foreign': 0.0, 'bond_ratio': 0.0, 'c': 53.31, 'company_name': '유진자산운용', 'drv_nav': 109.49, 'etc': 3.1, 'fund_code': 'K55214C96786', 'fund_name': '유진챔피언뉴이코노미4.0증권모투자신탁[주식]', 'fund_type': '북미주식', 'fund_type_detail': '해외주식형', 'hashtag': '#해외주식형#모펀드', 'investment': 17.55, 'return_1m': 12.82, 'return_3m': 19.4, 'return_3y': 87.15, 'return_5y': 186.87, 'return_6m': 37.04, 'return_idx': 226.68, 'return_ytd': 35.68, 'risk_grade': 2, 'risk_grade_txt': '높은 위험', 'set_amount': 35, 'set_date': 'Mon, 02 Jul 2018 00:00:00 GMT', 'std_price': 3100.45, 'stock': 0.0, 'stock_foreign': '79.35', 'stock_ratio': 100.0}, {'arima_percent': 5.87, 'arima_price': 3138.5092758607834, 'arima_update': 'Thu, 20 Jun 2024 00:00:00 GMT', 'bond': 0.0, 'bond_foreign': 0.0, 'bond_ratio': 0.0, 'c': 55.43, 'company_name': '신한자산운용', 'drv_nav': 303.1, 'etc': 4.59, 'fund_code': 'KR5210725481', 'fund_name': '신한인디아증권모투자신탁[주식]', 'fund_type': '신흥아시아주식', 'fund_type_detail': '해외주식형', 'hashtag': '#해외주식형#모펀드#인도', 'investment': 0.0, 'return_1m': 8.91, 'return_3m': 17.12, 'return_3y': 85.56, 'return_5y': 143.57, 'return_6m': 28.52, 'return_idx': 559.01, 'return_ytd': 29.06, 'risk_grade': 2, 'risk_grade_txt': '높은 위험', 'set_amount': 103, 'set_date': 'Tue, 14 Aug 2007 00:00:00 GMT', 'std_price': 2953.74, 'stock': 0.0, 'stock_foreign': '95.41', 'stock_ratio': 100.0}, {'arima_percent': 0.65, 'arima_price': 1045.618653812151, 'arima_update': 'Thu, 20 Jun 2024 00:00:00 GMT', 'bond': 30.91, 'bond_foreign': 0.0, 'bond_ratio': 100.0, 'c': 5.58, 'company_name': '코레이트자산운용', 'drv_nav': 7958.06, 'etc': 69.09, 'fund_code': 'K55310BZ6919', 'fund_name': '코레이트셀렉트단기채증권투자신탁[채권]', 'fund_type': '일반채권', 'fund_type_detail': '국내채권형', 'hashtag': '#국내채권형', 'investment': 0.0, 'return_1m': 0.41, 'return_3m': 1.29, 'return_3y': 11.71, 'return_5y': 17.41, 'return_6m': 2.7, 'return_idx': 23.61, 'return_ytd': 2.47, 'risk_grade': 6, 'risk_grade_txt': '매우 낮은 위험', 'set_amount': 7662, 'set_date': 'Wed, 13 Dec 2017 00:00:00 GMT', 'std_price': 1038.68, 'stock': 0.0, 'stock_foreign': '0.00', 'stock_ratio': 0.0}, {'arima_percent': -0.57, 'arima_price': 1030.9163157894752, 'arima_update': 'Thu, 20 Jun 2024 00:00:00 GMT', 'bond': 71.47, 'bond_foreign': 0.0, 'bond_ratio': 100.0, 'c': 5.42, 'company_name': '아이비케이자산운용', 'drv_nav': 1.28, 'etc': 28.53, 'fund_code': 'K55234BB1788', 'fund_name': 'IBKSaveAsset단기채증권자투자신탁[채권]', 'fund_type': '일반채권', 'fund_type_detail': '국내채권형', 'hashtag': '#국내채권형', 'investment': 0.0, 'return_1m': 0.42, 'return_3m': 1.28, 'return_3y': 10.49, 'return_5y': 15.78, 'return_6m': 2.55, 'return_idx': 23.58, 'return_ytd': 2.34, 'risk_grade': 6, 'risk_grade_txt': '매우 낮은 위험', 'set_amount': 1, 'set_date': 'Wed, 16 Mar 2016 00:00:00 GMT', 'std_price': 1036.61, 'stock': 0.0, 'stock_foreign': '0.00', 'stock_ratio': 0.0}]}, {'fund_class': '위험중립형', 'funds': [{'arima_percent': 4.75, 'arima_price': 20282.21414447803, 'arima_update': 'Thu, 20 Jun 2024 00:00:00 GMT', 'bond': 0.0, 'bond_foreign': 0.0, 'bond_ratio': 0.0, 'c': 31.08, 'company_name': '에셋플러스자산운용', 'drv_nav': 534.89, 'etc': 3.13, 'fund_code': 'K55364CF6685', 'fund_name': '에셋플러스슈퍼아시아리치투게더증권모투자신탁(USD)[주식]', 'fund_type': '신흥아시아주식', 'fund_type_detail': '해외주식형', 'hashtag': '#해외주식형#외화기준가제공펀드#모펀드', 'investment': 3.6, 'return_1m': 4.55, 'return_3m': 10.41, 'return_3y': 32.45, 'return_5y': 76.09, 'return_6m': 25.92, 'return_idx': 79.96, 'return_ytd': 23.83, 'risk_grade': 3, 'risk_grade_txt': '다소 높은 위험', 'set_amount': 315, 'set_date': 'Mon, 01 Apr 2019 00:00:00 GMT', 'std_price': 19223.0, 'stock': 0.0, 'stock_foreign': '93.27', 'stock_ratio': 100.0}, {'arima_percent': 4.5, 'arima_price': 2990.119624348207, 'arima_update': 'Thu, 20 Jun 2024 00:00:00 GMT', 'bond': 0.0, 'bond_foreign': 0.0, 'bond_ratio': 0.0, 'c': 36.08, 'company_name': '한국투자신탁운용', 'drv_nav': 3652.36, 'etc': 5.31, 'fund_code': 'K55101BD5035', 'fund_name': '한국투자웰링턴글로벌퀄리티증권모투자신탁(주식)', 'fund_type': '글로벌주식', 'fund_type_detail': '해외주식형', 'hashtag': '#해외주식형#모펀드', 'investment': 2.36, 'return_1m': 3.45, 'return_3m': 7.79, 'return_3y': 41.28, 'return_5y': 101.41, 'return_6m': 23.51, 'return_idx': 207.98, 'return_ytd': 22.44, 'risk_grade': 3, 'risk_grade_txt': '다소 높은 위험', 'set_amount': 1282, 'set_date': 'Fri, 20 May 2016 00:00:00 GMT', 'std_price': 2849.72, 'stock': 0.0, 'stock_foreign': '92.33', 'stock_ratio': 100.0}, {'arima_percent': 4.08, 'arima_price': 1670.5429982383112, 'arima_update': 'Thu, 20 Jun 2024 00:00:00 GMT', 'bond': 0.0, 'bond_foreign': 0.0, 'bond_ratio': 0.0, 'c': 24.06, 'company_name': '신한자산운용', 'drv_nav': 30.53, 'etc': 6.59, 'fund_code': 'K55210BJ6555', 'fund_name': '신한유럽배당증권모투자신탁 1[주식]', 'fund_type': '유럽주식', 'fund_type_detail': '해외주식형', 'hashtag': '#해외주식형#모펀드#배당주펀드', 'investment': 0.0, 'return_1m': 1.09, 'return_3m': 6.32, 'return_3y': 46.7, 'return_5y': 71.62, 'return_6m': 18.75, 'return_idx': 92.78, 'return_ytd': 17.29, 'risk_grade': 3, 'risk_grade_txt': '다소 높은 위험', 'set_amount': 19, 'set_date': 'Thu, 15 Dec 2016 00:00:00 GMT', 'std_price': 1594.0, 'stock': 0.0, 'stock_foreign': '93.41', 'stock_ratio': 100.0}, {'arima_percent': 0.65, 'arima_price': 1045.618653812151, 'arima_update': 'Thu, 20 Jun 2024 00:00:00 GMT', 'bond': 30.91, 'bond_foreign': 0.0, 'bond_ratio': 100.0, 'c': 5.58, 'company_name': '코레이트자산운용', 'drv_nav': 7958.06, 'etc': 69.09, 'fund_code': 'K55310BZ6919', 'fund_name': '코레이트셀렉트단기채증권투자신탁[채권]', 'fund_type': '일반채권', 'fund_type_detail': '국내채권형', 'hashtag': '#국내채권형', 'investment': 0.0, 'return_1m': 0.41, 'return_3m': 1.29, 'return_3y': 11.71, 'return_5y': 17.41, 'return_6m': 2.7, 'return_idx': 23.61, 'return_ytd': 2.47, 'risk_grade': 6, 'risk_grade_txt': '매우 낮은 위험', 'set_amount': 7662, 'set_date': 'Wed, 13 Dec 2017 00:00:00 GMT', 'std_price': 1038.68, 'stock': 0.0, 'stock_foreign': '0.00', 'stock_ratio': 0.0}, {'arima_percent': -0.57, 'arima_price': 1030.9163157894752, 'arima_update': 'Thu, 20 Jun 2024 00:00:00 GMT', 'bond': 71.47, 'bond_foreign': 0.0, 'bond_ratio': 100.0, 'c': 5.42, 'company_name': '아이비케이자산운용', 'drv_nav': 1.28, 'etc': 28.53, 'fund_code': 'K55234BB1788', 'fund_name': 'IBKSaveAsset단기채증권자투자신탁[채권]', 'fund_type': '일반채권', 'fund_type_detail': '국내채권형', 'hashtag': '#국내채권형', 'investment': 0.0, 'return_1m': 0.42, 'return_3m': 1.28, 'return_3y': 10.49, 'return_5y': 15.78, 'return_6m': 2.55, 'return_idx': 23.58, 'return_ytd': 2.34, 'risk_grade': 6, 'risk_grade_txt': '매우 낮은 위험', 'set_amount': 1, 'set_date': 'Wed, 16 Mar 2016 00:00:00 GMT', 'std_price': 1036.61, 'stock': 0.0, 'stock_foreign': '0.00', 'stock_ratio': 0.0}]}, {'fund_class': '안정추구형', 'funds': [{'arima_percent': 3.68, 'arima_price': 2063.8301505892905, 'arima_update': 'Thu, 20 Jun 2024 00:00:00 GMT', 'bond': 0.0, 'bond_foreign': 0.0, 'bond_ratio': 0.0, 'c': 23.13, 'company_name': '삼성자산운용', 'drv_nav': 51.75, 'etc': 3.69, 'fund_code': 'KR5105AK2164', 'fund_name': '삼성미국코어밸런스증권모투자신탁[주식혼합-재간접형]', 'fund_type': '해외자산배분', 'fund_type_detail': '해외혼합형', 'hashtag': '#해외혼합형#모펀드#북미', 'investment': 81.74, 'return_1m': 4.53, 'return_3m': 8.14, 'return_3y': 27.38, 'return_5y': 59.87, 'return_6m': 17.01, 'return_idx': 169.11, 'return_ytd': 16.47, 'risk_grade': 4, 'risk_grade_txt': '보통 위험', 'set_amount': 26, 'set_date': 'Wed, 02 Oct 2013 00:00:00 GMT', 'std_price': 1983.34, 'stock': 0.0, 'stock_foreign': '14.57', 'stock_ratio': 100.0}, {'arima_percent': 2.64, 'arima_price': 1203.394210526319, 'arima_update': 'Thu, 20 Jun 2024 00:00:00 GMT', 'bond': 0.0, 'bond_foreign': 0.0, 'bond_ratio': None, 'c': 16.97, 'company_name': '엔에이치아문디자산운용', 'drv_nav': 78.26, 'etc': 5.26, 'fund_code': 'K55232C14542', 'fund_name': 'NH-AmundiQV글로벌자산배분EMP증권투자신탁[혼합-재간접형]', 'fund_type': '해외자산배분', 'fund_type_detail': '해외혼합형', 'hashtag': '#해외혼합형#글로벌', 'investment': 94.74, 'return_1m': 3.73, 'return_3m': 7.41, 'return_3y': 12.43, 'return_5y': 36.58, 'return_6m': 13.68, 'return_idx': 30.62, 'return_ytd': 12.46, 'risk_grade': 4, 'risk_grade_txt': '보통 위험', 'set_amount': 67, 'set_date': 'Mon, 05 Feb 2018 00:00:00 GMT', 'std_price': 1166.0, 'stock': 0.0, 'stock_foreign': '0.00', 'stock_ratio': None}, {'arima_percent': 2.43, 'arima_price': 1384.9591521375805, 'arima_update': 'Thu, 20 Jun 2024 00:00:00 GMT', 'bond': 0.0, 'bond_foreign': 0.0, 'bond_ratio': None, 'c': 14.55, 'company_name': '신한자산운용', 'drv_nav': 2.07, 'etc': 7.44, 'fund_code': 'K55210B80483', 'fund_name': '신한연금저축POP펀드셀렉션60증권자투자신탁[주식혼합-재간접형]', 'fund_type': '해외자산배분', 'fund_type_detail': '해외혼합형', 'hashtag': '#해외혼합형#연금저축#글로벌', 'investment': 92.56, 'return_1m': 1.58, 'return_3m': 4.56, 'return_3y': 8.69, 'return_5y': 37.98, 'return_6m': 10.19, 'return_idx': 49.06, 'return_ytd': 8.24, 'risk_grade': 4, 'risk_grade_txt': '보통 위험', 'set_amount': 2, 'set_date': 'Fri, 16 Oct 2015 00:00:00 GMT', 'std_price': 1343.95, 'stock': 0.0, 'stock_foreign': '0.00', 'stock_ratio': None}, {'arima_percent': 0.65, 'arima_price': 1045.618653812151, 'arima_update': 'Thu, 20 Jun 2024 00:00:00 GMT', 'bond': 30.91, 'bond_foreign': 0.0, 'bond_ratio': 100.0, 'c': 5.58, 'company_name': '코레이트자산운용', 'drv_nav': 7958.06, 'etc': 69.09, 'fund_code': 'K55310BZ6919', 'fund_name': '코레이트셀렉트단기채증권투자신탁[채권]', 'fund_type': '일반채권', 'fund_type_detail': '국내채권형', 'hashtag': '#국내채권형', 'investment': 0.0, 'return_1m': 0.41, 'return_3m': 1.29, 'return_3y': 11.71, 'return_5y': 17.41, 'return_6m': 2.7, 'return_idx': 23.61, 'return_ytd': 2.47, 'risk_grade': 6, 'risk_grade_txt': '매우 낮은 위험', 'set_amount': 7662, 'set_date': 'Wed, 13 Dec 2017 00:00:00 GMT', 'std_price': 1038.68, 'stock': 0.0, 'stock_foreign': '0.00', 'stock_ratio': 0.0}, {'arima_percent': -0.57, 'arima_price': 1030.9163157894752, 'arima_update': 'Thu, 20 Jun 2024 00:00:00 GMT', 'bond': 71.47, 'bond_foreign': 0.0, 'bond_ratio': 100.0, 'c': 5.42, 'company_name': '아이비케이자산운용', 'drv_nav': 1.28, 'etc': 28.53, 'fund_code': 'K55234BB1788', 'fund_name': 'IBKSaveAsset단기채증권자투자신탁[채권]', 'fund_type': '일반채권', 'fund_type_detail': '국내채권형', 'hashtag': '#국내채권형', 'investment': 0.0, 'return_1m': 0.42, 'return_3m': 1.28, 'return_3y': 10.49, 'return_5y': 15.78, 'return_6m': 2.55, 'return_idx': 23.58, 'return_ytd': 2.34, 'risk_grade': 6, 'risk_grade_txt': '매우 낮은 위험', 'set_amount': 1, 'set_date': 'Wed, 16 Mar 2016 00:00:00 GMT', 'std_price': 1036.61, 'stock': 0.0, 'stock_foreign': '0.00', 'stock_ratio': 0.0}]}]}\n"
     ]
    }
   ],
   "source": [
    "import requests\n",
    "url = 'http://localhost:8080/mydata/fundss'\n",
    "\n",
    "data = {\n",
    "    'user_id' : 2,\n",
    "    'level' : 2\n",
    "}\n",
    "\n",
    "\n",
    "# POST 요청 보내기\n",
    "response = requests.post(url, json=data, headers={'Content-Type': 'application/json'})\n",
    "\n",
    "# 응답 출력\n",
    "print(response.status_code)  # HTTP 상태 코드 출력\n",
    "print(response.json())       # JSON 응답 본문 출력\n"
   ]
  },
  {
   "cell_type": "code",
   "execution_count": 1,
   "metadata": {},
   "outputs": [],
   "source": [
    "import warnings\n",
    "warnings.filterwarnings('ignore')"
   ]
  },
  {
   "cell_type": "markdown",
   "metadata": {},
   "source": []
  },
  {
   "cell_type": "code",
   "execution_count": 12,
   "metadata": {},
   "outputs": [
    {
     "ename": "NameError",
     "evalue": "name 'aws_access_key_id' is not defined",
     "output_type": "error",
     "traceback": [
      "\u001b[0;31m---------------------------------------------------------------------------\u001b[0m",
      "\u001b[0;31mNameError\u001b[0m                                 Traceback (most recent call last)",
      "Cell \u001b[0;32mIn[12], line 17\u001b[0m\n\u001b[1;32m     13\u001b[0m bname \u001b[38;5;241m=\u001b[39m os\u001b[38;5;241m.\u001b[39mgetenv(\u001b[38;5;124m'\u001b[39m\u001b[38;5;124mbucket_name\u001b[39m\u001b[38;5;124m'\u001b[39m)\n\u001b[1;32m     15\u001b[0m \u001b[38;5;28;01mimport\u001b[39;00m \u001b[38;5;21;01mnumpy\u001b[39;00m \u001b[38;5;28;01mas\u001b[39;00m \u001b[38;5;21;01mnp\u001b[39;00m\n\u001b[1;32m     16\u001b[0m s3 \u001b[38;5;241m=\u001b[39m boto3\u001b[38;5;241m.\u001b[39mclient(\u001b[38;5;124m'\u001b[39m\u001b[38;5;124ms3\u001b[39m\u001b[38;5;124m'\u001b[39m,\n\u001b[0;32m---> 17\u001b[0m             kid \u001b[38;5;241m=\u001b[39m \u001b[43maws_access_key_id\u001b[49m,\n\u001b[1;32m     18\u001b[0m             akey \u001b[38;5;241m=\u001b[39m aws_secret_access_key,\n\u001b[1;32m     19\u001b[0m             rname \u001b[38;5;241m=\u001b[39m region_name\n\u001b[1;32m     20\u001b[0m         ) \n\u001b[1;32m     22\u001b[0m bucket_name \u001b[38;5;241m=\u001b[39m bname\n\u001b[1;32m     23\u001b[0m file_key \u001b[38;5;241m=\u001b[39m \u001b[38;5;124m'\u001b[39m\u001b[38;5;124msaved_model/model\u001b[39m\u001b[38;5;124m'\u001b[39m  \u001b[38;5;66;03m# 정확한 파일 키\u001b[39;00m\n",
      "\u001b[0;31mNameError\u001b[0m: name 'aws_access_key_id' is not defined"
     ]
    }
   ],
   "source": [
    "import boto3\n",
    "import botocore\n",
    "import tarfile\n",
    "import os\n",
    "\n",
    "from dotenv import load_dotenv\n",
    "import os\n",
    "\n",
    "load_dotenv()\n",
    "kid = os.getenv('aws_access_key_id')\n",
    "akey = os.getenv('aws_secret_access_key')\n",
    "rname = os.getenv('region_name')\n",
    "bname = os.getenv('bucket_name')\n",
    "\n",
    "import numpy as np\n",
    "s3 = boto3.client('s3',\n",
    "            kid = aws_access_key_id,\n",
    "            akey = aws_secret_access_key,\n",
    "            rname = region_name\n",
    "        ) \n",
    "\n",
    "bucket_name = bname\n",
    "file_key = 'saved_model/model'  # 정확한 파일 키\n",
    "local_file_path = 'loaded_model'  # 로컬에 저장할 파일 경로\n",
    "\n",
    "# 파일 다운로드\n",
    "try:\n",
    "    s3.download_file(bucket_name, file_key, local_file_path)\n",
    "    print(f'File downloaded to {local_file_path}')\n",
    "except boto3.exceptions.S3UploadFailedError as e:\n",
    "    print(f'Error downloading file: {e}')\n",
    "except Exception as e:\n",
    "    print(f'An error occurred: {e}')"
   ]
  },
  {
   "cell_type": "code",
   "execution_count": 8,
   "metadata": {},
   "outputs": [
    {
     "name": "stdout",
     "output_type": "stream",
     "text": [
      "Model loaded successfully\n"
     ]
    }
   ],
   "source": [
    "import joblib\n",
    "\n",
    "# 모델 불러오기\n",
    "model_output_path = 'loaded_model'\n",
    "loaded_model = joblib.load(model_output_path)\n",
    "\n",
    "print('Model loaded successfully')"
   ]
  },
  {
   "cell_type": "code",
   "execution_count": 9,
   "metadata": {},
   "outputs": [],
   "source": [
    "mapping = {3: '매우공격적', 2: '공격적', 1: '안정적', 0: '소극적'}\n",
    "map_func = np.vectorize(mapping.get)"
   ]
  },
  {
   "cell_type": "code",
   "execution_count": 10,
   "metadata": {},
   "outputs": [
    {
     "name": "stdout",
     "output_type": "stream",
     "text": [
      "['안정적' '안정적']\n"
     ]
    }
   ],
   "source": [
    "# 예측 수행\n",
    "single_prediction = loaded_model.predict([[42454, 40, 32, 29.33, 291],[42454, 40, 32, 29.33, 291]])\n",
    "print(map_func(single_prediction))"
   ]
  },
  {
   "cell_type": "code",
   "execution_count": 4,
   "metadata": {},
   "outputs": [],
   "source": [
    "from flask import Flask, request, jsonify\n",
    "import numpy as np\n",
    "import tensorflow as tf\n",
    "\n",
    "app = Flask(__name__)\n",
    "\n",
    "@app.route('/predict', methods=['POST'])\n",
    "def predict():\n",
    "    try:\n",
    "        data = request.json['data']\n",
    "        print(\"입력 데이터:\", data)\n",
    "        \n",
    "        # 모델 예측 (예시로서 model_layer 함수 사용)\n",
    "        predictions = loaded_model.predict(data)  # model_layer 함수가 TensorFlow 텐서를 반환한다고 가정\n",
    "        return_predict = map_func(predictions).tolist()\n",
    "        print(return_predict)\n",
    "        return jsonify({'predicted_class': return_predict })\n",
    "        \n",
    "\n",
    "    except Exception as e:\n",
    "        return jsonify({'error': str(e)})\n",
    "\n",
    "if __name__ == \"__main__\":\n",
    "    from waitress import serve\n",
    "    serve(app, host=\"0.0.0.0\", port=8080)"
   ]
  },
  {
   "cell_type": "code",
   "execution_count": 2,
   "metadata": {},
   "outputs": [
    {
     "name": "stdout",
     "output_type": "stream",
     "text": [
      "Flask app is running with PID 14771\n"
     ]
    },
    {
     "name": "stderr",
     "output_type": "stream",
     "text": [
      "2024-06-17 10:47:03.726320: I external/local_tsl/tsl/cuda/cudart_stub.cc:32] Could not find cuda drivers on your machine, GPU will not be used.\n",
      "2024-06-17 10:47:03.730176: I external/local_tsl/tsl/cuda/cudart_stub.cc:32] Could not find cuda drivers on your machine, GPU will not be used.\n",
      "2024-06-17 10:47:03.782451: I tensorflow/core/platform/cpu_feature_guard.cc:210] This TensorFlow binary is optimized to use available CPU instructions in performance-critical operations.\n",
      "To enable the following instructions: AVX2 FMA, in other operations, rebuild TensorFlow with the appropriate compiler flags.\n",
      "2024-06-17 10:47:04.617727: W tensorflow/compiler/tf2tensorrt/utils/py_utils.cc:38] TF-TRT Warning: Could not find TensorRT\n",
      "/home/ubuntu/code/DE_ML/HITIT_Server/myenv/lib/python3.12/site-packages/sklearn/base.py:376: InconsistentVersionWarning: Trying to unpickle estimator DecisionTreeClassifier from version 1.4.2 when using version 1.4.0. This might lead to breaking code or invalid results. Use at your own risk. For more info please refer to:\n",
      "https://scikit-learn.org/stable/model_persistence.html#security-maintainability-limitations\n",
      "  warnings.warn(\n",
      "/home/ubuntu/code/DE_ML/HITIT_Server/myenv/lib/python3.12/site-packages/sklearn/base.py:376: InconsistentVersionWarning: Trying to unpickle estimator RandomForestClassifier from version 1.4.2 when using version 1.4.0. This might lead to breaking code or invalid results. Use at your own risk. For more info please refer to:\n",
      "https://scikit-learn.org/stable/model_persistence.html#security-maintainability-limitations\n",
      "  warnings.warn(\n",
      "Traceback (most recent call last):\n",
      "  File \"/home/ubuntu/code/DE_ML/HITIT_Server/RF/app.py\", line 35, in <module>\n",
      "    serve(app, host=\"0.0.0.0\", port=8080)\n",
      "  File \"/home/ubuntu/code/DE_ML/HITIT_Server/myenv/lib/python3.12/site-packages/waitress/__init__.py\", line 13, in serve\n",
      "    server = _server(app, **kw)\n",
      "             ^^^^^^^^^^^^^^^^^^\n",
      "  File \"/home/ubuntu/code/DE_ML/HITIT_Server/myenv/lib/python3.12/site-packages/waitress/server.py\", line 78, in create_server\n",
      "    last_serv = TcpWSGIServer(\n",
      "                ^^^^^^^^^^^^^^\n",
      "  File \"/home/ubuntu/code/DE_ML/HITIT_Server/myenv/lib/python3.12/site-packages/waitress/server.py\", line 243, in __init__\n",
      "    self.bind_server_socket()\n",
      "  File \"/home/ubuntu/code/DE_ML/HITIT_Server/myenv/lib/python3.12/site-packages/waitress/server.py\", line 364, in bind_server_socket\n",
      "    self.bind(sockaddr)\n",
      "  File \"/home/ubuntu/code/DE_ML/HITIT_Server/myenv/lib/python3.12/site-packages/waitress/wasyncore.py\", line 395, in bind\n",
      "    return self.socket.bind(addr)\n",
      "           ^^^^^^^^^^^^^^^^^^^^^^\n",
      "OSError: [Errno 98] Address already in use\n"
     ]
    },
    {
     "name": "stdout",
     "output_type": "stream",
     "text": [
      "Model loaded from loaded_model\n",
      "입력 데이터: [[42454, 40, 32, 29.33, 291]]\n",
      "['안정적']\n"
     ]
    }
   ],
   "source": [
    "import subprocess\n",
    "from flask import Flask, request, jsonify\n",
    "import numpy as np\n",
    "import tensorflow as tf\n",
    "\n",
    "flask_process = subprocess.Popen(['python3', 'app.py'])\n",
    "\n",
    "print(f\"Flask app is running with PID {flask_process.pid}\")"
   ]
  }
 ],
 "metadata": {
  "kernelspec": {
   "display_name": "Python 3 (ipykernel)",
   "language": "python",
   "name": "python3"
  },
  "language_info": {
   "codemirror_mode": {
    "name": "ipython",
    "version": 3
   },
   "file_extension": ".py",
   "mimetype": "text/x-python",
   "name": "python",
   "nbconvert_exporter": "python",
   "pygments_lexer": "ipython3",
   "version": "3.12.3"
  }
 },
 "nbformat": 4,
 "nbformat_minor": 4
}

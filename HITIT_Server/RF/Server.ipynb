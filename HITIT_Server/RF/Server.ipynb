{
 "cells": [
  {
   "cell_type": "code",
   "execution_count": 10,
   "metadata": {},
   "outputs": [
    {
     "name": "stdout",
     "output_type": "stream",
     "text": [
      "200\n",
      "{'response': [{'arima_percent': 7.7, 'arima_price': 3748.126315789475, 'arima_update': 'Thu, 20 Jun 2024 00:00:00 GMT', 'bond': 0.0, 'bond_foreign': 0.0, 'c': 61.34, 'company_name': '미래에셋자산운용', 'drv_nav': 1449.05, 'etc': 0.1, 'fund_code': 'K55301B73766', 'fund_name': '미래에셋TIGER화장품증권상장지수투자신탁(주식)', 'fund_type': '인덱스주식섹터', 'fund_type_detail': '국내주식형', 'hashtag': '#국내주식형#ETF(국내주식)#경기소비재', 'investment': 0.0, 'return_1m': 14.76, 'return_3m': 59.12, 'return_3y': -14.73, 'return_5y': 4.52, 'return_6m': 48.53, 'return_idx': -43.41, 'return_ytd': 45.31, 'risk_grade': 1, 'risk_grade_txt': '매우 높은 위험', 'set_amount': 2667, 'set_date': 'Tue, 06 Oct 2015 00:00:00 GMT', 'std_price': 3554.2, 'stock': 99.9, 'stock_foreign': '0.00'}, {'arima_percent': 6.98, 'arima_price': 3329.5222019609696, 'arima_update': 'Thu, 20 Jun 2024 00:00:00 GMT', 'bond': 0.0, 'bond_foreign': 0.0, 'c': 53.31, 'company_name': '유진자산운용', 'drv_nav': 109.49, 'etc': 3.1, 'fund_code': 'K55214C96786', 'fund_name': '유진챔피언뉴이코노미4.0증권모투자신탁[주식]', 'fund_type': '북미주식', 'fund_type_detail': '해외주식형', 'hashtag': '#해외주식형#모펀드', 'investment': 17.55, 'return_1m': 12.82, 'return_3m': 19.4, 'return_3y': 87.15, 'return_5y': 186.87, 'return_6m': 37.04, 'return_idx': 226.68, 'return_ytd': 35.68, 'risk_grade': 2, 'risk_grade_txt': '높은 위험', 'set_amount': 35, 'set_date': 'Mon, 02 Jul 2018 00:00:00 GMT', 'std_price': 3100.45, 'stock': 0.0, 'stock_foreign': '79.35'}, {'arima_percent': 6.66, 'arima_price': 46143.13684210534, 'arima_update': 'Thu, 20 Jun 2024 00:00:00 GMT', 'bond': 0.0, 'bond_foreign': 0.0, 'c': 42.2, 'company_name': '한국투자신탁운용', 'drv_nav': 213.46, 'etc': 23.85, 'fund_code': 'KR5101AR9802', 'fund_name': '한국투자ACE일본레버리지증권상장지수투자신탁(주식-재간접파생형)(H)', 'fund_type': '일본주식', 'fund_type_detail': '해외주식형', 'hashtag': '#해외주식형#ETF(해외주식)#레버리지#레버리지#일본', 'investment': 76.15, 'return_1m': -3.02, 'return_3m': 3.52, 'return_3y': 98.52, 'return_5y': 216.76, 'return_6m': 36.08, 'return_idx': 326.93, 'return_ytd': 32.14, 'risk_grade': 1, 'risk_grade_txt': '매우 높은 위험', 'set_amount': 50, 'set_date': 'Wed, 11 Jun 2014 00:00:00 GMT', 'std_price': 42692.9, 'stock': 0.0, 'stock_foreign': '0.00'}, {'arima_percent': 6.66, 'arima_price': 3662.143415424436, 'arima_update': 'Thu, 20 Jun 2024 00:00:00 GMT', 'bond': 0.0, 'bond_foreign': 0.21, 'c': 62.96, 'company_name': '아이비케이자산운용', 'drv_nav': 107.8, 'etc': 6.25, 'fund_code': 'KR5234722977', 'fund_name': 'IBK인디아인프라증권투자신탁[주식]', 'fund_type': '인도주식', 'fund_type_detail': '해외주식형', 'hashtag': '#해외주식형#인프라펀드#인도', 'investment': 0.0, 'return_1m': 9.08, 'return_3m': 23.79, 'return_3y': 109.01, 'return_5y': 206.18, 'return_6m': 34.49, 'return_idx': 307.72, 'return_ytd': 34.27, 'risk_grade': 2, 'risk_grade_txt': '높은 위험', 'set_amount': 32, 'set_date': 'Mon, 06 Aug 2007 00:00:00 GMT', 'std_price': 3417.67, 'stock': 0.0, 'stock_foreign': '93.54'}, {'arima_percent': 6.41, 'arima_price': 3557.883279881389, 'arima_update': 'Thu, 20 Jun 2024 00:00:00 GMT', 'bond': 0.0, 'bond_foreign': 0.0, 'c': 54.11, 'company_name': '브레인자산운용', 'drv_nav': 954.2, 'etc': 21.03, 'fund_code': 'K55454C64299', 'fund_name': '브레인코스닥벤처증권투자신탁(주식혼합)', 'fund_type': '액티브주식중소형', 'fund_type_detail': '국내주식형', 'hashtag': '#국내주식형#공모주펀드#코스닥벤처펀드', 'investment': 0.0, 'return_1m': 4.47, 'return_3m': 7.74, 'return_3y': 101.41, 'return_5y': 239.48, 'return_6m': 40.86, 'return_idx': 241.09, 'return_ytd': 32.97, 'risk_grade': 2, 'risk_grade_txt': '높은 위험', 'set_amount': 285, 'set_date': 'Thu, 05 Apr 2018 00:00:00 GMT', 'std_price': 3353.85, 'stock': 78.97, 'stock_foreign': '0.00'}]}\n"
     ]
    }
   ],
   "source": [
    "import requests\n",
    "url = 'http://localhost:8080/mydata/funds'\n",
    "\n",
    "data = {\n",
    "    'user_id' : 1,\n",
    "    'transactions': [\n",
    "        {'date' : '2024-03-02', 'type' : 'buy', 'code' : '000340'},\n",
    "        {'date' : '2024-03-02', 'type' : 'sell', 'code' : '000340'}\n",
    "    ],\n",
    "    'stockBalance': [\n",
    "        '460930', '000150', '000990'\n",
    "    ],\n",
    "    'age': 24,\n",
    "    'wealth': 100000\n",
    "}\n",
    "\n",
    "# POST 요청 보내기\n",
    "response = requests.post(url, json=data, headers={'Content-Type': 'application/json'})\n",
    "\n",
    "# 응답 출력\n",
    "print(response.status_code)  # HTTP 상태 코드 출력\n",
    "print(response.json())       # JSON 응답 본문 출력\n"
   ]
  },
  {
   "cell_type": "code",
   "execution_count": 11,
   "metadata": {},
   "outputs": [
    {
     "name": "stdout",
     "output_type": "stream",
     "text": [
      "200\n",
      "{'response': [{'funds': [{'arima_percent': 3.68, 'arima_price': 2063.8301505892905, 'arima_update': 'Thu, 20 Jun 2024 00:00:00 GMT', 'bond': 0.0, 'bond_foreign': 0.0, 'c': 23.13, 'company_name': '삼성자산운용', 'drv_nav': 51.75, 'etc': 3.69, 'fund_code': 'KR5105AK2164', 'fund_name': '삼성미국코어밸런스증권모투자신탁[주식혼합-재간접형]', 'fund_type': '해외자산배분', 'fund_type_detail': '해외혼합형', 'hashtag': '#해외혼합형#모펀드#북미', 'investment': 81.74, 'return_1m': 4.53, 'return_3m': 8.14, 'return_3y': 27.38, 'return_5y': 59.87, 'return_6m': 17.01, 'return_idx': 169.11, 'return_ytd': 16.47, 'risk_grade': 4, 'risk_grade_txt': '보통 위험', 'set_amount': 26, 'set_date': 'Wed, 02 Oct 2013 00:00:00 GMT', 'std_price': 1983.34, 'stock': 0.0, 'stock_foreign': '14.57'}, {'arima_percent': 2.64, 'arima_price': 1203.394210526319, 'arima_update': 'Thu, 20 Jun 2024 00:00:00 GMT', 'bond': 0.0, 'bond_foreign': 0.0, 'c': 16.97, 'company_name': '엔에이치아문디자산운용', 'drv_nav': 78.26, 'etc': 5.26, 'fund_code': 'K55232C14542', 'fund_name': 'NH-AmundiQV글로벌자산배분EMP증권투자신탁[혼합-재간접형]', 'fund_type': '해외자산배분', 'fund_type_detail': '해외혼합형', 'hashtag': '#해외혼합형#글로벌', 'investment': 94.74, 'return_1m': 3.73, 'return_3m': 7.41, 'return_3y': 12.43, 'return_5y': 36.58, 'return_6m': 13.68, 'return_idx': 30.62, 'return_ytd': 12.46, 'risk_grade': 4, 'risk_grade_txt': '보통 위험', 'set_amount': 67, 'set_date': 'Mon, 05 Feb 2018 00:00:00 GMT', 'std_price': 1166.0, 'stock': 0.0, 'stock_foreign': '0.00'}, {'arima_percent': 2.67, 'arima_price': 1147.8221052631568, 'arima_update': 'Thu, 20 Jun 2024 00:00:00 GMT', 'bond': 44.25, 'bond_foreign': 0.0, 'c': 11.68, 'company_name': '미래에셋자산운용', 'drv_nav': 22.49, 'etc': 19.82, 'fund_code': 'KR5301AI7847', 'fund_name': '미래에셋퇴직연금성장유망중소형주40증권자투자신탁 1(채권혼합)', 'fund_type': '채권혼합', 'fund_type_detail': '국내혼합형', 'hashtag': '#국내혼합형#공모주펀드#퇴직연금', 'investment': 0.76, 'return_1m': 4.68, 'return_3m': 7.9, 'return_3y': 10.02, 'return_5y': 42.79, 'return_6m': 12.67, 'return_idx': 79.3, 'return_ytd': 11.42, 'risk_grade': 4, 'risk_grade_txt': '보통 위험', 'set_amount': 20, 'set_date': 'Wed, 25 Sep 2013 00:00:00 GMT', 'std_price': 1119.04, 'stock': 35.17, 'stock_foreign': '0.00'}, {'arima_percent': 2.24, 'arima_price': 1399.012105263156, 'arima_update': 'Thu, 20 Jun 2024 00:00:00 GMT', 'bond': 53.08, 'bond_foreign': 0.0, 'c': 13.91, 'company_name': '브이아이자산운용', 'drv_nav': 18.73, 'etc': 13.72, 'fund_code': 'K55104BW3539', 'fund_name': '브이아이퇴직연금중소형주플러스40증권자투자신탁1[채권혼합]C-Pe', 'fund_type': '채권혼합', 'fund_type_detail': '국내혼합형', 'hashtag': '#국내혼합형#퇴직연금', 'investment': 0.0, 'return_1m': 4.62, 'return_3m': 8.23, 'return_3y': 14.0, 'return_5y': 40.96, 'return_6m': 12.4, 'return_idx': 40.44, 'return_ytd': 10.81, 'risk_grade': 4, 'risk_grade_txt': '보통 위험', 'set_amount': 12, 'set_date': 'Thu, 14 Jun 2018 00:00:00 GMT', 'std_price': 1373.82, 'stock': 33.2, 'stock_foreign': '0.00'}, {'arima_percent': 2.43, 'arima_price': 1384.9591521375805, 'arima_update': 'Thu, 20 Jun 2024 00:00:00 GMT', 'bond': 0.0, 'bond_foreign': 0.0, 'c': 14.55, 'company_name': '신한자산운용', 'drv_nav': 2.07, 'etc': 7.44, 'fund_code': 'K55210B80483', 'fund_name': '신한연금저축POP펀드셀렉션60증권자투자신탁[주식혼합-재간접형]', 'fund_type': '해외자산배분', 'fund_type_detail': '해외혼합형', 'hashtag': '#해외혼합형#연금저축#글로벌', 'investment': 92.56, 'return_1m': 1.58, 'return_3m': 4.56, 'return_3y': 8.69, 'return_5y': 37.98, 'return_6m': 10.19, 'return_idx': 49.06, 'return_ytd': 8.24, 'risk_grade': 4, 'risk_grade_txt': '보통 위험', 'set_amount': 2, 'set_date': 'Fri, 16 Oct 2015 00:00:00 GMT', 'std_price': 1343.95, 'stock': 0.0, 'stock_foreign': '0.00'}], 'user_class': '안정추구형'}, {'funds': [{'arima_percent': 2.69, 'arima_price': 1537.1904108474687, 'arima_update': 'Thu, 20 Jun 2024 00:00:00 GMT', 'bond': 0.0, 'bond_foreign': 0.0, 'c': 14.71, 'company_name': '미래에셋자산운용', 'drv_nav': 766.16, 'etc': 9.17, 'fund_code': 'K55301BW2052', 'fund_name': '미래에셋헤지펀드셀렉션혼합자산자투자신탁(사모투자재간접형)', 'fund_type': '해외자산배분', 'fund_type_detail': '해외혼합형', 'hashtag': '#해외혼합형#글로벌', 'investment': 90.81, 'return_1m': 3.03, 'return_3m': 6.92, 'return_3y': 20.56, 'return_5y': 37.2, 'return_6m': 10.37, 'return_idx': 53.33, 'return_ytd': 8.57, 'risk_grade': 5, 'risk_grade_txt': '낮은 위험', 'set_amount': 513, 'set_date': 'Fri, 22 Sep 2017 00:00:00 GMT', 'std_price': 1492.37, 'stock': 0.02, 'stock_foreign': '0.00'}, {'arima_percent': 2.06, 'arima_price': 14806.678534929073, 'arima_update': 'Thu, 20 Jun 2024 00:00:00 GMT', 'bond': 0.0, 'bond_foreign': 99.52, 'c': 14.34, 'company_name': '삼성자산운용', 'drv_nav': 639.53, 'etc': 0.48, 'fund_code': 'K55105B66518', 'fund_name': '삼성달러표시단기채권증권모투자신탁(USD)[채권]', 'fund_type': '글로벌채권', 'fund_type_detail': '해외채권형', 'hashtag': '#해외채권형#외화기준가제공펀드#모펀드', 'investment': 0.0, 'return_1m': 2.35, 'return_3m': 4.89, 'return_3y': 29.31, 'return_5y': 29.05, 'return_6m': 8.96, 'return_idx': 38.16, 'return_ytd': 9.43, 'risk_grade': 5, 'risk_grade_txt': '낮은 위험', 'set_amount': 527, 'set_date': 'Thu, 10 Sep 2015 00:00:00 GMT', 'std_price': 14490.5, 'stock': 0.0, 'stock_foreign': '0.00'}, {'arima_percent': 1.6, 'arima_price': 1142.9473684210507, 'arima_update': 'Thu, 20 Jun 2024 00:00:00 GMT', 'bond': 60.0, 'bond_foreign': 0.0, 'c': 9.74, 'company_name': '한화자산운용', 'drv_nav': 4.91, 'etc': 40.0, 'fund_code': 'KR5213A90534', 'fund_name': '한화코리아밸류채권증권자투자신탁 2(채권)종류A-u2', 'fund_type': '일반채권', 'fund_type_detail': '국내채권형', 'hashtag': '#국내채권형#엄브렐러#인컴#전환형#글로벌', 'investment': 0.0, 'return_1m': -10.0, 'return_3m': -10.0, 'return_3y': 11.35, 'return_5y': 14.7, 'return_6m': 6.74, 'return_idx': 58.49, 'return_ytd': 6.45, 'risk_grade': 5, 'risk_grade_txt': '낮은 위험', 'set_amount': 0, 'set_date': 'Mon, 22 May 2006 00:00:00 GMT', 'std_price': 1125.0, 'stock': 0.0, 'stock_foreign': '0.00'}, {'arima_percent': 0.47, 'arima_price': 1273.5273684210547, 'arima_update': 'Thu, 20 Jun 2024 00:00:00 GMT', 'bond': 65.56, 'bond_foreign': 0.0, 'c': 10.34, 'company_name': '한국투자밸류자산운용', 'drv_nav': 1729.04, 'etc': 5.09, 'fund_code': 'KR5236562884', 'fund_name': '한국밸류10년투자증권투자신탁 1(채권혼합)', 'fund_type': '채권혼합', 'fund_type_detail': '국내혼합형', 'hashtag': '#국내혼합형', 'investment': 0.0, 'return_1m': 1.79, 'return_3m': 3.85, 'return_3y': 13.53, 'return_5y': 37.97, 'return_6m': 6.72, 'return_idx': 196.95, 'return_ytd': 5.14, 'risk_grade': 5, 'risk_grade_txt': '낮은 위험', 'set_amount': 1365, 'set_date': 'Tue, 18 Apr 2006 00:00:00 GMT', 'std_price': 1266.56, 'stock': 29.35, 'stock_foreign': '0.00'}, {'arima_percent': 0.62, 'arima_price': 1073.110371563233, 'arima_update': 'Thu, 20 Jun 2024 00:00:00 GMT', 'bond': 83.74, 'bond_foreign': 0.0, 'c': 5.58, 'company_name': '신한자산운용', 'drv_nav': 4266.02, 'etc': 15.64, 'fund_code': 'KR5219333469', 'fund_name': '신한베스트크레딧단기증권자투자신탁[채권](종류)', 'fund_type': '일반채권', 'fund_type_detail': '국내채권형', 'hashtag': '#국내채권형', 'investment': 0.62, 'return_1m': 0.48, 'return_3m': 1.35, 'return_3y': 10.08, 'return_5y': 16.25, 'return_6m': 2.62, 'return_idx': 124.63, 'return_ytd': 2.4, 'risk_grade': 5, 'risk_grade_txt': '낮은 위험', 'set_amount': 4002, 'set_date': 'Tue, 18 Dec 2001 00:00:00 GMT', 'std_price': 1066.02, 'stock': 0.0, 'stock_foreign': '0.00'}], 'user_class': '안정형'}, {'funds': [{'arima_percent': 3.68, 'arima_price': 2063.8301505892905, 'arima_update': 'Thu, 20 Jun 2024 00:00:00 GMT', 'bond': 0.0, 'bond_foreign': 0.0, 'c': 23.13, 'company_name': '삼성자산운용', 'drv_nav': 51.75, 'etc': 3.69, 'fund_code': 'KR5105AK2164', 'fund_name': '삼성미국코어밸런스증권모투자신탁[주식혼합-재간접형]', 'fund_type': '해외자산배분', 'fund_type_detail': '해외혼합형', 'hashtag': '#해외혼합형#모펀드#북미', 'investment': 81.74, 'return_1m': 4.53, 'return_3m': 8.14, 'return_3y': 27.38, 'return_5y': 59.87, 'return_6m': 17.01, 'return_idx': 169.11, 'return_ytd': 16.47, 'risk_grade': 4, 'risk_grade_txt': '보통 위험', 'set_amount': 26, 'set_date': 'Wed, 02 Oct 2013 00:00:00 GMT', 'std_price': 1983.34, 'stock': 0.0, 'stock_foreign': '14.57'}, {'arima_percent': 2.64, 'arima_price': 1203.394210526319, 'arima_update': 'Thu, 20 Jun 2024 00:00:00 GMT', 'bond': 0.0, 'bond_foreign': 0.0, 'c': 16.97, 'company_name': '엔에이치아문디자산운용', 'drv_nav': 78.26, 'etc': 5.26, 'fund_code': 'K55232C14542', 'fund_name': 'NH-AmundiQV글로벌자산배분EMP증권투자신탁[혼합-재간접형]', 'fund_type': '해외자산배분', 'fund_type_detail': '해외혼합형', 'hashtag': '#해외혼합형#글로벌', 'investment': 94.74, 'return_1m': 3.73, 'return_3m': 7.41, 'return_3y': 12.43, 'return_5y': 36.58, 'return_6m': 13.68, 'return_idx': 30.62, 'return_ytd': 12.46, 'risk_grade': 4, 'risk_grade_txt': '보통 위험', 'set_amount': 67, 'set_date': 'Mon, 05 Feb 2018 00:00:00 GMT', 'std_price': 1166.0, 'stock': 0.0, 'stock_foreign': '0.00'}, {'arima_percent': 2.67, 'arima_price': 1147.8221052631568, 'arima_update': 'Thu, 20 Jun 2024 00:00:00 GMT', 'bond': 44.25, 'bond_foreign': 0.0, 'c': 11.68, 'company_name': '미래에셋자산운용', 'drv_nav': 22.49, 'etc': 19.82, 'fund_code': 'KR5301AI7847', 'fund_name': '미래에셋퇴직연금성장유망중소형주40증권자투자신탁 1(채권혼합)', 'fund_type': '채권혼합', 'fund_type_detail': '국내혼합형', 'hashtag': '#국내혼합형#공모주펀드#퇴직연금', 'investment': 0.76, 'return_1m': 4.68, 'return_3m': 7.9, 'return_3y': 10.02, 'return_5y': 42.79, 'return_6m': 12.67, 'return_idx': 79.3, 'return_ytd': 11.42, 'risk_grade': 4, 'risk_grade_txt': '보통 위험', 'set_amount': 20, 'set_date': 'Wed, 25 Sep 2013 00:00:00 GMT', 'std_price': 1119.04, 'stock': 35.17, 'stock_foreign': '0.00'}, {'arima_percent': 2.24, 'arima_price': 1399.012105263156, 'arima_update': 'Thu, 20 Jun 2024 00:00:00 GMT', 'bond': 53.08, 'bond_foreign': 0.0, 'c': 13.91, 'company_name': '브이아이자산운용', 'drv_nav': 18.73, 'etc': 13.72, 'fund_code': 'K55104BW3539', 'fund_name': '브이아이퇴직연금중소형주플러스40증권자투자신탁1[채권혼합]C-Pe', 'fund_type': '채권혼합', 'fund_type_detail': '국내혼합형', 'hashtag': '#국내혼합형#퇴직연금', 'investment': 0.0, 'return_1m': 4.62, 'return_3m': 8.23, 'return_3y': 14.0, 'return_5y': 40.96, 'return_6m': 12.4, 'return_idx': 40.44, 'return_ytd': 10.81, 'risk_grade': 4, 'risk_grade_txt': '보통 위험', 'set_amount': 12, 'set_date': 'Thu, 14 Jun 2018 00:00:00 GMT', 'std_price': 1373.82, 'stock': 33.2, 'stock_foreign': '0.00'}, {'arima_percent': 2.43, 'arima_price': 1384.9591521375805, 'arima_update': 'Thu, 20 Jun 2024 00:00:00 GMT', 'bond': 0.0, 'bond_foreign': 0.0, 'c': 14.55, 'company_name': '신한자산운용', 'drv_nav': 2.07, 'etc': 7.44, 'fund_code': 'K55210B80483', 'fund_name': '신한연금저축POP펀드셀렉션60증권자투자신탁[주식혼합-재간접형]', 'fund_type': '해외자산배분', 'fund_type_detail': '해외혼합형', 'hashtag': '#해외혼합형#연금저축#글로벌', 'investment': 92.56, 'return_1m': 1.58, 'return_3m': 4.56, 'return_3y': 8.69, 'return_5y': 37.98, 'return_6m': 10.19, 'return_idx': 49.06, 'return_ytd': 8.24, 'risk_grade': 4, 'risk_grade_txt': '보통 위험', 'set_amount': 2, 'set_date': 'Fri, 16 Oct 2015 00:00:00 GMT', 'std_price': 1343.95, 'stock': 0.0, 'stock_foreign': '0.00'}], 'user_class': '안정추구형'}]}\n"
     ]
    }
   ],
   "source": [
    "import requests\n",
    "url = 'http://localhost:8080/mydata/fundss'\n",
    "\n",
    "data = {\n",
    "    'user_id' : 2,\n",
    "    'level' : 4\n",
    "}\n",
    "\n",
    "# POST 요청 보내기\n",
    "response = requests.post(url, json=data, headers={'Content-Type': 'application/json'})\n",
    "\n",
    "# 응답 출력\n",
    "print(response.status_code)  # HTTP 상태 코드 출력\n",
    "print(response.json())       # JSON 응답 본문 출력\n"
   ]
  },
  {
   "cell_type": "code",
   "execution_count": 1,
   "metadata": {},
   "outputs": [],
   "source": [
    "import warnings\n",
    "warnings.filterwarnings('ignore')"
   ]
  },
  {
   "cell_type": "code",
   "execution_count": 12,
   "metadata": {},
   "outputs": [
    {
     "ename": "NameError",
     "evalue": "name 'aws_access_key_id' is not defined",
     "output_type": "error",
     "traceback": [
      "\u001b[0;31m---------------------------------------------------------------------------\u001b[0m",
      "\u001b[0;31mNameError\u001b[0m                                 Traceback (most recent call last)",
      "Cell \u001b[0;32mIn[12], line 17\u001b[0m\n\u001b[1;32m     13\u001b[0m bname \u001b[38;5;241m=\u001b[39m os\u001b[38;5;241m.\u001b[39mgetenv(\u001b[38;5;124m'\u001b[39m\u001b[38;5;124mbucket_name\u001b[39m\u001b[38;5;124m'\u001b[39m)\n\u001b[1;32m     15\u001b[0m \u001b[38;5;28;01mimport\u001b[39;00m \u001b[38;5;21;01mnumpy\u001b[39;00m \u001b[38;5;28;01mas\u001b[39;00m \u001b[38;5;21;01mnp\u001b[39;00m\n\u001b[1;32m     16\u001b[0m s3 \u001b[38;5;241m=\u001b[39m boto3\u001b[38;5;241m.\u001b[39mclient(\u001b[38;5;124m'\u001b[39m\u001b[38;5;124ms3\u001b[39m\u001b[38;5;124m'\u001b[39m,\n\u001b[0;32m---> 17\u001b[0m             kid \u001b[38;5;241m=\u001b[39m \u001b[43maws_access_key_id\u001b[49m,\n\u001b[1;32m     18\u001b[0m             akey \u001b[38;5;241m=\u001b[39m aws_secret_access_key,\n\u001b[1;32m     19\u001b[0m             rname \u001b[38;5;241m=\u001b[39m region_name\n\u001b[1;32m     20\u001b[0m         ) \n\u001b[1;32m     22\u001b[0m bucket_name \u001b[38;5;241m=\u001b[39m bname\n\u001b[1;32m     23\u001b[0m file_key \u001b[38;5;241m=\u001b[39m \u001b[38;5;124m'\u001b[39m\u001b[38;5;124msaved_model/model\u001b[39m\u001b[38;5;124m'\u001b[39m  \u001b[38;5;66;03m# 정확한 파일 키\u001b[39;00m\n",
      "\u001b[0;31mNameError\u001b[0m: name 'aws_access_key_id' is not defined"
     ]
    }
   ],
   "source": [
    "import boto3\n",
    "import botocore\n",
    "import tarfile\n",
    "import os\n",
    "\n",
    "from dotenv import load_dotenv\n",
    "import os\n",
    "\n",
    "load_dotenv()\n",
    "kid = os.getenv('aws_access_key_id')\n",
    "akey = os.getenv('aws_secret_access_key')\n",
    "rname = os.getenv('region_name')\n",
    "bname = os.getenv('bucket_name')\n",
    "\n",
    "import numpy as np\n",
    "s3 = boto3.client('s3',\n",
    "            kid = aws_access_key_id,\n",
    "            akey = aws_secret_access_key,\n",
    "            rname = region_name\n",
    "        ) \n",
    "\n",
    "bucket_name = bname\n",
    "file_key = 'saved_model/model'  # 정확한 파일 키\n",
    "local_file_path = 'loaded_model'  # 로컬에 저장할 파일 경로\n",
    "\n",
    "# 파일 다운로드\n",
    "try:\n",
    "    s3.download_file(bucket_name, file_key, local_file_path)\n",
    "    print(f'File downloaded to {local_file_path}')\n",
    "except boto3.exceptions.S3UploadFailedError as e:\n",
    "    print(f'Error downloading file: {e}')\n",
    "except Exception as e:\n",
    "    print(f'An error occurred: {e}')"
   ]
  },
  {
   "cell_type": "code",
   "execution_count": 8,
   "metadata": {},
   "outputs": [
    {
     "name": "stdout",
     "output_type": "stream",
     "text": [
      "Model loaded successfully\n"
     ]
    }
   ],
   "source": [
    "import joblib\n",
    "\n",
    "# 모델 불러오기\n",
    "model_output_path = 'loaded_model'\n",
    "loaded_model = joblib.load(model_output_path)\n",
    "\n",
    "print('Model loaded successfully')"
   ]
  },
  {
   "cell_type": "code",
   "execution_count": 9,
   "metadata": {},
   "outputs": [],
   "source": [
    "mapping = {3: '매우공격적', 2: '공격적', 1: '안정적', 0: '소극적'}\n",
    "map_func = np.vectorize(mapping.get)"
   ]
  },
  {
   "cell_type": "code",
   "execution_count": 10,
   "metadata": {},
   "outputs": [
    {
     "name": "stdout",
     "output_type": "stream",
     "text": [
      "['안정적' '안정적']\n"
     ]
    }
   ],
   "source": [
    "# 예측 수행\n",
    "single_prediction = loaded_model.predict([[42454, 40, 32, 29.33, 291],[42454, 40, 32, 29.33, 291]])\n",
    "print(map_func(single_prediction))"
   ]
  },
  {
   "cell_type": "code",
   "execution_count": 4,
   "metadata": {},
   "outputs": [],
   "source": [
    "from flask import Flask, request, jsonify\n",
    "import numpy as np\n",
    "import tensorflow as tf\n",
    "\n",
    "app = Flask(__name__)\n",
    "\n",
    "@app.route('/predict', methods=['POST'])\n",
    "def predict():\n",
    "    try:\n",
    "        data = request.json['data']\n",
    "        print(\"입력 데이터:\", data)\n",
    "        \n",
    "        # 모델 예측 (예시로서 model_layer 함수 사용)\n",
    "        predictions = loaded_model.predict(data)  # model_layer 함수가 TensorFlow 텐서를 반환한다고 가정\n",
    "        return_predict = map_func(predictions).tolist()\n",
    "        print(return_predict)\n",
    "        return jsonify({'predicted_class': return_predict })\n",
    "        \n",
    "\n",
    "    except Exception as e:\n",
    "        return jsonify({'error': str(e)})\n",
    "\n",
    "if __name__ == \"__main__\":\n",
    "    from waitress import serve\n",
    "    serve(app, host=\"0.0.0.0\", port=8080)"
   ]
  },
  {
   "cell_type": "code",
   "execution_count": 2,
   "metadata": {},
   "outputs": [
    {
     "name": "stdout",
     "output_type": "stream",
     "text": [
      "Flask app is running with PID 14771\n"
     ]
    },
    {
     "name": "stderr",
     "output_type": "stream",
     "text": [
      "2024-06-17 10:47:03.726320: I external/local_tsl/tsl/cuda/cudart_stub.cc:32] Could not find cuda drivers on your machine, GPU will not be used.\n",
      "2024-06-17 10:47:03.730176: I external/local_tsl/tsl/cuda/cudart_stub.cc:32] Could not find cuda drivers on your machine, GPU will not be used.\n",
      "2024-06-17 10:47:03.782451: I tensorflow/core/platform/cpu_feature_guard.cc:210] This TensorFlow binary is optimized to use available CPU instructions in performance-critical operations.\n",
      "To enable the following instructions: AVX2 FMA, in other operations, rebuild TensorFlow with the appropriate compiler flags.\n",
      "2024-06-17 10:47:04.617727: W tensorflow/compiler/tf2tensorrt/utils/py_utils.cc:38] TF-TRT Warning: Could not find TensorRT\n",
      "/home/ubuntu/code/DE_ML/HITIT_Server/myenv/lib/python3.12/site-packages/sklearn/base.py:376: InconsistentVersionWarning: Trying to unpickle estimator DecisionTreeClassifier from version 1.4.2 when using version 1.4.0. This might lead to breaking code or invalid results. Use at your own risk. For more info please refer to:\n",
      "https://scikit-learn.org/stable/model_persistence.html#security-maintainability-limitations\n",
      "  warnings.warn(\n",
      "/home/ubuntu/code/DE_ML/HITIT_Server/myenv/lib/python3.12/site-packages/sklearn/base.py:376: InconsistentVersionWarning: Trying to unpickle estimator RandomForestClassifier from version 1.4.2 when using version 1.4.0. This might lead to breaking code or invalid results. Use at your own risk. For more info please refer to:\n",
      "https://scikit-learn.org/stable/model_persistence.html#security-maintainability-limitations\n",
      "  warnings.warn(\n",
      "Traceback (most recent call last):\n",
      "  File \"/home/ubuntu/code/DE_ML/HITIT_Server/RF/app.py\", line 35, in <module>\n",
      "    serve(app, host=\"0.0.0.0\", port=8080)\n",
      "  File \"/home/ubuntu/code/DE_ML/HITIT_Server/myenv/lib/python3.12/site-packages/waitress/__init__.py\", line 13, in serve\n",
      "    server = _server(app, **kw)\n",
      "             ^^^^^^^^^^^^^^^^^^\n",
      "  File \"/home/ubuntu/code/DE_ML/HITIT_Server/myenv/lib/python3.12/site-packages/waitress/server.py\", line 78, in create_server\n",
      "    last_serv = TcpWSGIServer(\n",
      "                ^^^^^^^^^^^^^^\n",
      "  File \"/home/ubuntu/code/DE_ML/HITIT_Server/myenv/lib/python3.12/site-packages/waitress/server.py\", line 243, in __init__\n",
      "    self.bind_server_socket()\n",
      "  File \"/home/ubuntu/code/DE_ML/HITIT_Server/myenv/lib/python3.12/site-packages/waitress/server.py\", line 364, in bind_server_socket\n",
      "    self.bind(sockaddr)\n",
      "  File \"/home/ubuntu/code/DE_ML/HITIT_Server/myenv/lib/python3.12/site-packages/waitress/wasyncore.py\", line 395, in bind\n",
      "    return self.socket.bind(addr)\n",
      "           ^^^^^^^^^^^^^^^^^^^^^^\n",
      "OSError: [Errno 98] Address already in use\n"
     ]
    },
    {
     "name": "stdout",
     "output_type": "stream",
     "text": [
      "Model loaded from loaded_model\n",
      "입력 데이터: [[42454, 40, 32, 29.33, 291]]\n",
      "['안정적']\n"
     ]
    }
   ],
   "source": [
    "import subprocess\n",
    "from flask import Flask, request, jsonify\n",
    "import numpy as np\n",
    "import tensorflow as tf\n",
    "\n",
    "flask_process = subprocess.Popen(['python3', 'app.py'])\n",
    "\n",
    "print(f\"Flask app is running with PID {flask_process.pid}\")"
   ]
  }
 ],
 "metadata": {
  "kernelspec": {
   "display_name": "Python 3 (ipykernel)",
   "language": "python",
   "name": "python3"
  },
  "language_info": {
   "codemirror_mode": {
    "name": "ipython",
    "version": 3
   },
   "file_extension": ".py",
   "mimetype": "text/x-python",
   "name": "python",
   "nbconvert_exporter": "python",
   "pygments_lexer": "ipython3",
   "version": "3.12.3"
  }
 },
 "nbformat": 4,
 "nbformat_minor": 4
}

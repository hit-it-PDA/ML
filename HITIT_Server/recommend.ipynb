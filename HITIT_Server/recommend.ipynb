{
 "cells": [
  {
   "cell_type": "code",
   "execution_count": 1,
   "metadata": {},
   "outputs": [
    {
     "name": "stdout",
     "output_type": "stream",
     "text": [
      "USER: hitit-user, HOST: hitit-db-mydata.c9oy8g6q0v76.ap-northeast-2.rds.amazonaws.com, PORT: 3306, DATABASE: hitit\n",
      "Connected to MySQL database\n"
     ]
    }
   ],
   "source": [
    "import os\n",
    "import sys\n",
    "import random\n",
    "from mysqlconnect import connect_to_mysql\n",
    "\n",
    "connection = connect_to_mysql()\n",
    "cursor = connection.cursor()"
   ]
  },
  {
   "cell_type": "code",
   "execution_count": 2,
   "metadata": {},
   "outputs": [
    {
     "data": {
      "text/plain": [
       "['신한공모주&밴드트레이딩30증권자투자신탁[채권혼합](종류C1)',\n",
       " 'DB퇴직연금40증권자투자신탁[채권혼합]운용',\n",
       " '미래에셋삼바브라질연금저축증권자투자신탁[채권]',\n",
       " '삼성누버거버먼글로벌인컴증권자투자신탁H[채권-재간접형]_A',\n",
       " 'KB가치배당40증권자투자신탁(채권혼합) A-I 클래스']"
      ]
     },
     "execution_count": 2,
     "metadata": {},
     "output_type": "execute_result"
    }
   ],
   "source": [
    "def get_user_risk_class(user_id):\n",
    "    query = f\"select investment_style_class from user_style where user_id = {user_id}\"\n",
    "    cursor.execute(query)\n",
    "    result = cursor.fetchone()\n",
    "    return result[0]\n",
    "\n",
    "def get_recommend_fund(risk_class):\n",
    "    query = f\"select fund_name from fund_products where risk_grade = {risk_class+1}\"\n",
    "    cursor.execute(query)\n",
    "    result = cursor.fetchall()\n",
    "    result = [elem[0] for elem in result]\n",
    "    return result\n",
    "\n",
    "\n",
    "#4번 유저 위험 가져오기\n",
    "user_risk = get_user_risk_class(4)\n",
    "\n",
    "#4번유저의 위험도 바탕으로 펀드 추천하기\n",
    "fund_lists = get_recommend_fund(user_risk)\n",
    "\n",
    "#5개 선택\n",
    "random.sample(fund_lists, 5)"
   ]
  },
  {
   "cell_type": "code",
   "execution_count": 3,
   "metadata": {},
   "outputs": [
    {
     "name": "stdout",
     "output_type": "stream",
     "text": [
      "{'fund_code': 'K55301BW2052', 'fund_name': '미래에셋헤지펀드셀렉션혼합자산자투자신탁(사모투자재간접형)', 'hashtag': '#해외혼합형#글로벌', 'std_price': 1492.37, 'set_date': datetime.date(2017, 9, 22), 'fund_type': '해외자산배분', 'fund_type_detail': '해외혼합형', 'set_amount': 513, 'company_name': '미래에셋자산운용', 'risk_grade': 5, 'risk_grade_txt': '낮은 위험', 'drv_nav': 766.16, 'bond': 0.0, 'bond_foreign': 0.0, 'stock': 0.02, 'stock_foreign': '0.00', 'investment': 90.81, 'etc': 9.17, 'return_1m': 3.03, 'return_3m': 6.92, 'return_6m': 10.37, 'return_1y': 14.71, 'return_3y': 20.56, 'return_5y': 37.2, 'return_idx': 53.33, 'return_ytd': 8.57, 'arima_price': 1537.1904108474687, 'arima_update': datetime.date(2024, 6, 20), 'arima_percent': 2.69}\n",
      "{'fund_code': 'K55105B66518', 'fund_name': '삼성달러표시단기채권증권모투자신탁(USD)[채권]', 'hashtag': '#해외채권형#외화기준가제공펀드#모펀드', 'std_price': 14490.5, 'set_date': datetime.date(2015, 9, 10), 'fund_type': '글로벌채권', 'fund_type_detail': '해외채권형', 'set_amount': 527, 'company_name': '삼성자산운용', 'risk_grade': 5, 'risk_grade_txt': '낮은 위험', 'drv_nav': 639.53, 'bond': 0.0, 'bond_foreign': 99.52, 'stock': 0.0, 'stock_foreign': '0.00', 'investment': 0.0, 'etc': 0.48, 'return_1m': 2.35, 'return_3m': 4.89, 'return_6m': 8.96, 'return_1y': 14.34, 'return_3y': 29.31, 'return_5y': 29.05, 'return_idx': 38.16, 'return_ytd': 9.43, 'arima_price': 14806.678534929073, 'arima_update': datetime.date(2024, 6, 20), 'arima_percent': 2.06}\n",
      "{'fund_code': 'KR5213A90534', 'fund_name': '한화코리아밸류채권증권자투자신탁 2(채권)종류A-u2', 'hashtag': '#국내채권형#엄브렐러#인컴#전환형#글로벌', 'std_price': 1125.0, 'set_date': datetime.date(2006, 5, 22), 'fund_type': '일반채권', 'fund_type_detail': '국내채권형', 'set_amount': 0, 'company_name': '한화자산운용', 'risk_grade': 5, 'risk_grade_txt': '낮은 위험', 'drv_nav': 4.91, 'bond': 60.0, 'bond_foreign': 0.0, 'stock': 0.0, 'stock_foreign': '0.00', 'investment': 0.0, 'etc': 40.0, 'return_1m': -10.0, 'return_3m': -10.0, 'return_6m': 6.74, 'return_1y': 9.74, 'return_3y': 11.35, 'return_5y': 14.7, 'return_idx': 58.49, 'return_ytd': 6.45, 'arima_price': 1142.9473684210507, 'arima_update': datetime.date(2024, 6, 20), 'arima_percent': 1.6}\n",
      "{'fund_code': 'KR5234AK6052', 'fund_name': 'IBK중소형주코리아30증권자투자신탁[채권혼합]', 'hashtag': '#국내혼합형', 'std_price': 1291.61, 'set_date': datetime.date(2013, 10, 11), 'fund_type': '채권혼합', 'fund_type_detail': '국내혼합형', 'set_amount': 15, 'company_name': '아이비케이자산운용', 'risk_grade': 5, 'risk_grade_txt': '낮은 위험', 'drv_nav': 19.66, 'bond': 52.43, 'bond_foreign': 0.0, 'stock': 24.35, 'stock_foreign': '0.00', 'investment': 0.0, 'etc': 23.22, 'return_1m': 1.12, 'return_3m': 3.04, 'return_6m': 5.1, 'return_1y': 7.04, 'return_3y': 12.84, 'return_5y': 37.37, 'return_idx': 65.52, 'return_ytd': 4.05, 'arima_price': 1305.5880669429635, 'arima_update': datetime.date(2024, 6, 20), 'arima_percent': 1.02}\n",
      "{'fund_code': 'K55306BF1431', 'fund_name': '다올블록딜공모주하이일드증권투자신탁[채권혼합]종류CW', 'hashtag': '#국내혼합형#공모주펀드', 'std_price': 1215.76, 'set_date': datetime.date(2017, 12, 20), 'fund_type': '하이일드혼합', 'fund_type_detail': '국내혼합형', 'set_amount': 8, 'company_name': '다올자산운용', 'risk_grade': 5, 'risk_grade_txt': '낮은 위험', 'drv_nav': 4543.63, 'bond': 45.04, 'bond_foreign': 0.0, 'stock': 0.17, 'stock_foreign': '0.86', 'investment': 16.32, 'etc': 37.61, 'return_1m': -0.07, 'return_3m': 2.11, 'return_6m': 4.38, 'return_1y': 8.26, 'return_3y': 13.17, 'return_5y': 24.82, 'return_idx': 35.17, 'return_ytd': 3.51, 'arima_price': 1228.0926383147955, 'arima_update': datetime.date(2024, 6, 20), 'arima_percent': 0.97}\n"
     ]
    }
   ],
   "source": [
    "column_names = [\n",
    "    'fund_code', 'fund_name', 'hashtag', 'std_price', 'set_date', 'fund_type',\n",
    "    'fund_type_detail', 'set_amount', 'company_name', 'risk_grade', 'risk_grade_txt',\n",
    "    'drv_nav', 'bond', 'bond_foreign', 'stock', 'stock_foreign', 'investment',\n",
    "    'etc', 'return_1m', 'return_3m', 'return_6m', 'return_1y', 'return_3y',\n",
    "    'return_5y', 'return_idx', 'return_ytd', 'arima_price', 'arima_update',\n",
    "    'arima_percent'\n",
    "]\n",
    "level = 5\n",
    "\n",
    "query = \\\n",
    "f\"\"\"WITH RankedProducts AS (\n",
    "    SELECT *,\n",
    "    ROW_NUMBER() OVER (PARTITION BY company_name ORDER BY arima_percent DESC) AS rn\n",
    "    FROM fund_products_4\n",
    "    WHERE risk_grade >= {level} AND company_name <> '신한자산운용'\n",
    ")\n",
    "SELECT *\n",
    "FROM (\n",
    "    SELECT *\n",
    "    FROM RankedProducts\n",
    "    WHERE rn = 1\n",
    "\n",
    "    UNION ALL\n",
    "\n",
    "    SELECT * , 1 as rn\n",
    "    FROM fund_products_4\n",
    "    WHERE risk_grade >= {level} AND company_name = '신한자산운용'\n",
    ") AS CombinedResults\n",
    "ORDER BY arima_percent DESC\n",
    "LIMIT 5;\n",
    "\"\"\"\n",
    "cursor.execute(query)\n",
    "fetched_data = cursor.fetchall()\n",
    "\n",
    "data_dict = [dict(zip(column_names, row)) for row in fetched_data]\n",
    "for elem in data_dict:\n",
    "    print(elem)"
   ]
  },
  {
   "cell_type": "code",
   "execution_count": null,
   "metadata": {},
   "outputs": [],
   "source": []
  },
  {
   "cell_type": "code",
   "execution_count": null,
   "metadata": {},
   "outputs": [],
   "source": []
  },
  {
   "cell_type": "code",
   "execution_count": null,
   "metadata": {},
   "outputs": [],
   "source": []
  }
 ],
 "metadata": {
  "kernelspec": {
   "display_name": ".venv",
   "language": "python",
   "name": "python3"
  },
  "language_info": {
   "codemirror_mode": {
    "name": "ipython",
    "version": 3
   },
   "file_extension": ".py",
   "mimetype": "text/x-python",
   "name": "python",
   "nbconvert_exporter": "python",
   "pygments_lexer": "ipython3",
   "version": "3.12.3"
  }
 },
 "nbformat": 4,
 "nbformat_minor": 2
}

{
 "cells": [
  {
   "cell_type": "code",
   "execution_count": 32,
   "metadata": {},
   "outputs": [
    {
     "name": "stdout",
     "output_type": "stream",
     "text": [
      "hitit-user\n",
      "Connected to MySQL database\n"
     ]
    }
   ],
   "source": [
    "from mysqlconnect import connect_to_mysql\n",
    "import random\n",
    "\n",
    "connection = connect_to_mysql()\n",
    "\n",
    "cursor = connection.cursor()"
   ]
  },
  {
   "cell_type": "code",
   "execution_count": 35,
   "metadata": {},
   "outputs": [
    {
     "data": {
      "text/plain": [
       "['미래에셋퇴직플랜G증권자투자신탁 1(주식) 종류C',\n",
       " 'NH-AmundiSignatureOCIO인컴형증권자투자신탁(H)[혼합-재간접형]ClassCe',\n",
       " 'NH-AmundiSignatureOCIO인컴형증권자투자신탁(UH)[혼합-재간접형]',\n",
       " '한국투자글로벌플렉스증권모투자신탁(USD)(채권혼합-재간접형)',\n",
       " '하이DNDN에버그린EMP증권투자신탁(혼합-재간접형)A']"
      ]
     },
     "execution_count": 35,
     "metadata": {},
     "output_type": "execute_result"
    }
   ],
   "source": [
    "def get_user_risk_class(user_id):\n",
    "    query = f\"select investment_style_class from user_style where user_id = {user_id}\"\n",
    "    cursor.execute(query)\n",
    "    result = cursor.fetchone()\n",
    "    return result[0]\n",
    "\n",
    "def get_recommend_fund(risk_class):\n",
    "    query = f\"select fund_name from fund_products where risk_grade = {risk_class+1}\"\n",
    "    cursor.execute(query)\n",
    "    result = cursor.fetchall()\n",
    "    result = [elem[0] for elem in result]\n",
    "    return result\n",
    "\n",
    "\n",
    "#4번 유저 위험 가져오기\n",
    "user_risk = get_user_risk_class(4)\n",
    "\n",
    "#4번유저의 위험도 바탕으로 펀드 추천하기\n",
    "fund_lists = get_recommend_fund(user_risk)\n",
    "\n",
    "#5개 선택\n",
    "random.sample(fund_lists, 5)"
   ]
  },
  {
   "cell_type": "code",
   "execution_count": null,
   "metadata": {},
   "outputs": [],
   "source": []
  }
 ],
 "metadata": {
  "kernelspec": {
   "display_name": ".venv",
   "language": "python",
   "name": "python3"
  },
  "language_info": {
   "codemirror_mode": {
    "name": "ipython",
    "version": 3
   },
   "file_extension": ".py",
   "mimetype": "text/x-python",
   "name": "python",
   "nbconvert_exporter": "python",
   "pygments_lexer": "ipython3",
   "version": "3.12.3"
  }
 },
 "nbformat": 4,
 "nbformat_minor": 2
}
